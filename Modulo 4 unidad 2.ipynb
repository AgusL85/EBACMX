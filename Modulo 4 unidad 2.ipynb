{
 "cells": [
  {
   "cell_type": "code",
   "execution_count": 3,
   "id": "cc692884",
   "metadata": {},
   "outputs": [
    {
     "name": "stdout",
     "output_type": "stream",
     "text": [
      "La suma es:  48\n"
     ]
    }
   ],
   "source": [
    "#queremos saber la suma de todos los números dentro de la lista\n",
    "numeros=[6, 5, 3, 8, 4, 2, 5, 4, 11]\n",
    "suma=0\n",
    " \n",
    "# a partir de aquí se crea un ciclo con el comando for\n",
    "# for valor, le indica al programa que todos los números de la lista deben ser icluidos en la suma,la variable creada for le \n",
    "#indica al programa que tiene que agarrar cada elemento de la lista para sumarlo\n",
    "\n",
    "for valor in numeros:\n",
    "    suma= suma + valor\n",
    "\n",
    "print(\"La suma es: \",suma)\n",
    "\n",
    "# esta formula se conoce como programación orientada a objetos\n",
    "# se debe ppnter atención en dónde colocamos el objeto print"
   ]
  },
  {
   "cell_type": "code",
   "execution_count": 4,
   "id": "5330af69",
   "metadata": {},
   "outputs": [
    {
     "name": "stdout",
     "output_type": "stream",
     "text": [
      "La suma es:48\n"
     ]
    }
   ],
   "source": [
    "# alternativa para ejecutar el comando anterior con un comando especial\n",
    "\n",
    "\n",
    "numeros=[6, 5, 3, 8, 4, 2, 5, 4, 11]\n",
    "suma=0\n",
    " \n",
    "for valor in numeros:\n",
    "    suma= suma + valor\n",
    "\n",
    "print(f\"La suma es:{suma}\")\n",
    "    "
   ]
  },
  {
   "cell_type": "code",
   "execution_count": 7,
   "id": "b56f7f7e",
   "metadata": {},
   "outputs": [
    {
     "name": "stdout",
     "output_type": "stream",
     "text": [
      "manzana\n",
      "fresa\n",
      "cereza\n"
     ]
    }
   ],
   "source": [
    "#Ejemlo 2\n",
    "frutas=[\"manzana\",\"fresa\",\"cereza\"]\n",
    "for fruta in frutas:\n",
    "    print(fruta)"
   ]
  },
  {
   "cell_type": "code",
   "execution_count": 8,
   "id": "c47f5480",
   "metadata": {},
   "outputs": [
    {
     "name": "stdout",
     "output_type": "stream",
     "text": [
      "p\n",
      "l\n",
      "á\n",
      "t\n",
      "a\n",
      "n\n",
      "o\n"
     ]
    }
   ],
   "source": [
    "#ejemplo 3\n",
    "for letra in \"plátano\":\n",
    "    print(letra)"
   ]
  },
  {
   "cell_type": "code",
   "execution_count": 11,
   "id": "869f7b27",
   "metadata": {},
   "outputs": [
    {
     "name": "stdout",
     "output_type": "stream",
     "text": [
      "5\n",
      "7\n",
      "11\n",
      "13\n",
      "Total: 36\n"
     ]
    }
   ],
   "source": [
    "# para definir sobre qué número quiero realizar un determinado ciclo\n",
    "total=0\n",
    "for i in 5, 7, 11, 13:\n",
    "    print(i)\n",
    "    total+=i\n",
    "print(\"Total:\",total)\n"
   ]
  },
  {
   "cell_type": "code",
   "execution_count": 15,
   "id": "abd98689",
   "metadata": {},
   "outputs": [
    {
     "name": "stdout",
     "output_type": "stream",
     "text": [
      "0\n",
      "1\n",
      "2\n",
      "3\n",
      "4\n",
      "5\n"
     ]
    }
   ],
   "source": [
    "# el comando range tmb sirve para referirnos a números\n",
    "\n",
    "for x in range(6):\n",
    "    print (x)\n",
    "\n",
    "#range no toma en cuenta el límite superior, en este caso el 6, sino todos los que están por debajo de el"
   ]
  },
  {
   "cell_type": "code",
   "execution_count": 16,
   "id": "11b6cab7",
   "metadata": {},
   "outputs": [
    {
     "name": "stdout",
     "output_type": "stream",
     "text": [
      "2\n",
      "3\n",
      "4\n",
      "5\n",
      "6\n",
      "7\n",
      "8\n",
      "9\n"
     ]
    }
   ],
   "source": [
    "for x in range (2,10):\n",
    "    print (x)"
   ]
  },
  {
   "cell_type": "code",
   "execution_count": 17,
   "id": "48e891ed",
   "metadata": {},
   "outputs": [
    {
     "name": "stdout",
     "output_type": "stream",
     "text": [
      "2\n",
      "5\n",
      "8\n"
     ]
    }
   ],
   "source": [
    "for x in range (2,10,3):\n",
    "    print (x)"
   ]
  },
  {
   "cell_type": "code",
   "execution_count": 18,
   "id": "72147669",
   "metadata": {},
   "outputs": [
    {
     "name": "stdout",
     "output_type": "stream",
     "text": [
      "0\n",
      "1\n",
      "2\n",
      "3\n",
      "4\n",
      "5\n",
      "Proceso terminado\n"
     ]
    }
   ],
   "source": [
    "# función else con for\n",
    "\n",
    "for x in range(6):\n",
    "    print (x)\n",
    "else:\n",
    "    print(\"Proceso terminado\")"
   ]
  },
  {
   "cell_type": "code",
   "execution_count": 19,
   "id": "73ebf945",
   "metadata": {},
   "outputs": [
    {
     "name": "stdout",
     "output_type": "stream",
     "text": [
      "Número más grande:  74\n"
     ]
    }
   ],
   "source": [
    "# Ejercicio Determine mediante un ciclo “For” el número más grande en la lista siguiente:\n",
    "# 9, 41, 12, 3, 74, 15\n",
    "# o sea tenemos que encontrar el valor máximo\n",
    "\n",
    "mas_grande = -1\n",
    "\n",
    "for numero in [9, 41, 12, 3, 74, 15]:\n",
    "    if numero > mas_grande:\n",
    "        mas_grande = numero\n",
    "print(\"Número más grande: \", mas_grande)\n",
    "\n",
    "\n"
   ]
  },
  {
   "cell_type": "code",
   "execution_count": 20,
   "id": "38df3da1",
   "metadata": {},
   "outputs": [
    {
     "name": "stdout",
     "output_type": "stream",
     "text": [
      "manzana\n",
      "fresa\n"
     ]
    }
   ],
   "source": [
    "# para detener un ciclo con for\n",
    "frutas=[\"manzana\",\"fresa\",\"cereza\"]\n",
    "for fruta in frutas:\n",
    "    print(fruta)\n",
    "    if fruta == \"fresa\":\n",
    "        break"
   ]
  },
  {
   "cell_type": "code",
   "execution_count": 21,
   "id": "4dc5d738",
   "metadata": {},
   "outputs": [
    {
     "name": "stdout",
     "output_type": "stream",
     "text": [
      "0\n",
      "1\n",
      "2\n"
     ]
    }
   ],
   "source": [
    "for x in range(6):\n",
    "    if x == 3: break\n",
    "    print(x)    \n",
    "else:\n",
    "    print (\"Proceso terminado\")"
   ]
  },
  {
   "cell_type": "code",
   "execution_count": 22,
   "id": "f3fffc44",
   "metadata": {},
   "outputs": [
    {
     "name": "stdout",
     "output_type": "stream",
     "text": [
      "0\n",
      "1\n",
      "2\n",
      "3\n",
      "4\n",
      "5\n",
      "Proceso terminado\n"
     ]
    }
   ],
   "source": [
    "for x in range(6):\n",
    "    if x == 8: break\n",
    "    print(x)    \n",
    "else:\n",
    "    print (\"Proceso terminado\")"
   ]
  },
  {
   "cell_type": "code",
   "execution_count": 25,
   "id": "9ba04c75",
   "metadata": {},
   "outputs": [
    {
     "name": "stdout",
     "output_type": "stream",
     "text": [
      "Nombre del estudiante: Angela\n",
      "Calificación:  92\n"
     ]
    }
   ],
   "source": [
    "# Ejercicio 2 \n",
    "\n",
    "# Desarrolle un programa que sea capaz de consultar la calificación de un estudiante (a capturar por parte del usuario\n",
    "# en la base siguiente): ver PPT\n",
    "\n",
    "nombre= input(\"Nombre del estudiante: \")\n",
    "datos= {\"José\":85, \"Angela\":92, \"Miguel\":75, \"Ana\":98}\n",
    "\n",
    "for estudiante in datos:\n",
    "    if estudiante == nombre:\n",
    "        print (\"Calificación: \", datos [estudiante])\n",
    "        break\n",
    "else:\n",
    "    print(\"No se encontró al estudiante solicitado\")"
   ]
  },
  {
   "cell_type": "code",
   "execution_count": 28,
   "id": "b1cac681",
   "metadata": {},
   "outputs": [
    {
     "name": "stdout",
     "output_type": "stream",
     "text": [
      "manzana roja\n",
      "manzana grande\n",
      "manzana deliciosa\n",
      "fresa roja\n",
      "fresa grande\n",
      "fresa deliciosa\n",
      "cereza roja\n",
      "cereza grande\n",
      "cereza deliciosa\n"
     ]
    }
   ],
   "source": [
    "# ejemplo de ciclo anidados con descripción de furutas\n",
    "\n",
    "frutas=[\"manzana\",\"fresa\",\"cereza\"]\n",
    "adjetivos=[\"roja\",\"grande\",\"deliciosa\"]\n",
    "    \n",
    "for fruta in frutas:\n",
    "    for tipo in adjetivos:\n",
    "        print(fruta,tipo)\n",
    "    \n"
   ]
  },
  {
   "cell_type": "code",
   "execution_count": 29,
   "id": "910e8eed",
   "metadata": {},
   "outputs": [
    {
     "name": "stdout",
     "output_type": "stream",
     "text": [
      "40\n",
      "30\n",
      "20\n",
      "10\n"
     ]
    }
   ],
   "source": [
    "# ejemplo, queremos imprimir la siguiente lista en orden inverso\n",
    "lista= [10,20,30,40]\n",
    "for numero in reversed (lista):\n",
    "    print(numero)"
   ]
  },
  {
   "cell_type": "code",
   "execution_count": 32,
   "id": "cb00b29d",
   "metadata": {},
   "outputs": [
    {
     "name": "stdout",
     "output_type": "stream",
     "text": [
      "# de tablas de multiplicar: 10\n",
      "Tabla de multiplicar del:  1\n",
      "1 2 3 4 5 6 7 8 9 10 \n",
      "\n",
      "Tabla de multiplicar del:  2\n",
      "1 2 3 4 5 6 7 8 9 10 \n",
      "\n",
      "Tabla de multiplicar del:  3\n",
      "1 2 3 4 5 6 7 8 9 10 \n",
      "\n",
      "Tabla de multiplicar del:  4\n",
      "1 2 3 4 5 6 7 8 9 10 \n",
      "\n",
      "Tabla de multiplicar del:  5\n",
      "1 2 3 4 5 6 7 8 9 10 \n",
      "\n",
      "Tabla de multiplicar del:  6\n",
      "1 2 3 4 5 6 7 8 9 10 \n",
      "\n",
      "Tabla de multiplicar del:  7\n",
      "1 2 3 4 5 6 7 8 9 10 \n",
      "\n",
      "Tabla de multiplicar del:  8\n",
      "1 2 3 4 5 6 7 8 9 10 \n",
      "\n",
      "Tabla de multiplicar del:  9\n",
      "1 2 3 4 5 6 7 8 9 10 \n",
      "\n",
      "Tabla de multiplicar del:  10\n",
      "1 2 3 4 5 6 7 8 9 10 \n",
      "\n"
     ]
    }
   ],
   "source": [
    "#Ejercicio 3\n",
    "# Escriba un código en Python que permita escribir tantas tablas de multiplicar como desee el usuario.\n",
    "tablas= int(input(\"# de tablas de multiplicar: \"))\n",
    "\n",
    "for i in range(1,tablas+1):\n",
    "    print(\"Tabla de multiplicar del: \",i)\n",
    "    contador=1\n",
    "    while contador < 11:\n",
    "        print(1*contador, end =' ')\n",
    "        contador+=1\n",
    "    print(\"\\n\")\n"
   ]
  },
  {
   "cell_type": "code",
   "execution_count": null,
   "id": "5347e843",
   "metadata": {},
   "outputs": [],
   "source": []
  }
 ],
 "metadata": {
  "kernelspec": {
   "display_name": "Python 3 (ipykernel)",
   "language": "python",
   "name": "python3"
  },
  "language_info": {
   "codemirror_mode": {
    "name": "ipython",
    "version": 3
   },
   "file_extension": ".py",
   "mimetype": "text/x-python",
   "name": "python",
   "nbconvert_exporter": "python",
   "pygments_lexer": "ipython3",
   "version": "3.9.12"
  }
 },
 "nbformat": 4,
 "nbformat_minor": 5
}
