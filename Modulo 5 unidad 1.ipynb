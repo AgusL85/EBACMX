{
 "cells": [
  {
   "cell_type": "code",
   "execution_count": 1,
   "id": "04401173",
   "metadata": {},
   "outputs": [
    {
     "name": "stdout",
     "output_type": "stream",
     "text": [
      "Hola\n"
     ]
    }
   ],
   "source": [
    "def saludo():\n",
    "    print(\"Hola\")\n",
    "saludo()"
   ]
  },
  {
   "cell_type": "code",
   "execution_count": 3,
   "id": "edc8a289",
   "metadata": {},
   "outputs": [
    {
     "name": "stdout",
     "output_type": "stream",
     "text": [
      "Hola Agus\n"
     ]
    }
   ],
   "source": [
    "def saludos_nombre(nombre):\n",
    "    print(\"Hola \"+ nombre)\n",
    "    \n",
    "saludos_nombre(\"Agus\")"
   ]
  },
  {
   "cell_type": "code",
   "execution_count": 5,
   "id": "3713214e",
   "metadata": {},
   "outputs": [
    {
     "name": "stdout",
     "output_type": "stream",
     "text": [
      "12.5664\n"
     ]
    }
   ],
   "source": [
    "# Cálculo de la área de un circulo\n",
    "\n",
    "def area_circulo(radio):\n",
    "    area=3.1416 * radio ** 2\n",
    "    return area\n",
    "\n",
    "mi_area=area_circulo(2)\n",
    "print(mi_area)\n",
    "    \n"
   ]
  },
  {
   "cell_type": "code",
   "execution_count": 6,
   "id": "9c428c74",
   "metadata": {},
   "outputs": [
    {
     "data": {
      "text/plain": [
       "8"
      ]
     },
     "execution_count": 6,
     "metadata": {},
     "output_type": "execute_result"
    }
   ],
   "source": [
    "# calculo del producto de dos parámetros\n",
    "def producto(x1,x2):\n",
    "    return x1*x2\n",
    "producto (2,4)\n"
   ]
  },
  {
   "cell_type": "code",
   "execution_count": 7,
   "id": "8d1cc4f0",
   "metadata": {},
   "outputs": [
    {
     "name": "stdout",
     "output_type": "stream",
     "text": [
      "5\n"
     ]
    }
   ],
   "source": [
    "# las funciones puees usar ciertos valores predeterminados\n",
    "\n",
    "def suma(a,b=3):\n",
    "    return a + b\n",
    "\n",
    "resultado = suma(2)\n",
    "print (resultado)"
   ]
  },
  {
   "cell_type": "code",
   "execution_count": 8,
   "id": "d1f04c38",
   "metadata": {},
   "outputs": [
    {
     "ename": "NameError",
     "evalue": "name 'x' is not defined",
     "output_type": "error",
     "traceback": [
      "\u001b[1;31m---------------------------------------------------------------------------\u001b[0m",
      "\u001b[1;31mNameError\u001b[0m                                 Traceback (most recent call last)",
      "Input \u001b[1;32mIn [8]\u001b[0m, in \u001b[0;36m<cell line: 7>\u001b[1;34m()\u001b[0m\n\u001b[0;32m      4\u001b[0m     x \u001b[38;5;241m=\u001b[39m numero \u001b[38;5;241m*\u001b[39m \u001b[38;5;241m2\u001b[39m\n\u001b[0;32m      5\u001b[0m     \u001b[38;5;28;01mreturn\u001b[39;00m x\n\u001b[1;32m----> 7\u001b[0m \u001b[38;5;28mprint\u001b[39m(\u001b[43mx\u001b[49m)\n",
      "\u001b[1;31mNameError\u001b[0m: name 'x' is not defined"
     ]
    }
   ],
   "source": [
    "# creación de rutina\n",
    "\n",
    "def duplica(numero):\n",
    "    x = numero * 2\n",
    "    return x\n",
    "\n",
    "print(x)\n",
    "\n",
    "# marca error porque la variable (\"X\") está definida solamente dentro del ámbito de la función"
   ]
  },
  {
   "cell_type": "code",
   "execution_count": 9,
   "id": "572b9ef1",
   "metadata": {},
   "outputs": [
    {
     "name": "stdout",
     "output_type": "stream",
     "text": [
      "20\n"
     ]
    }
   ],
   "source": [
    "def duplica(numero):\n",
    "    x = numero * 2\n",
    "    return x\n",
    "\n",
    "print(duplica(10))"
   ]
  },
  {
   "cell_type": "code",
   "execution_count": 11,
   "id": "a0612d90",
   "metadata": {},
   "outputs": [
    {
     "name": "stdout",
     "output_type": "stream",
     "text": [
      "Mi mejor amigo es Linus\n"
     ]
    }
   ],
   "source": [
    "def mi_funcion(*amigos):\n",
    "    print(\"Mi mejor amigo es \" + amigos[2])\n",
    "    \n",
    "mi_funcion(\"Pedro\",\"José\", \"Linus\", \"Juan\")\n",
    "    \n",
    "\n",
    "# es Linus porque se cuenta desde 0"
   ]
  },
  {
   "cell_type": "code",
   "execution_count": 12,
   "id": "e51b5acc",
   "metadata": {},
   "outputs": [
    {
     "name": "stdout",
     "output_type": "stream",
     "text": [
      "El niño más joven es Emil\n"
     ]
    }
   ],
   "source": [
    "def chicos(chico1,chico2,chico3):\n",
    "    print(\"El niño más joven es \"+chico3)\n",
    "    \n",
    "chicos(chico3=\"Emil\", chico1=\"Tobias\", chico2=\"Armando\")"
   ]
  },
  {
   "cell_type": "code",
   "execution_count": 14,
   "id": "be4901bd",
   "metadata": {},
   "outputs": [
    {
     "name": "stdout",
     "output_type": "stream",
     "text": [
      "El apellido es Suarez\n"
     ]
    }
   ],
   "source": [
    "# podemos meter un parámetro que esté conformado por varios componentes\n",
    "\n",
    "def apellido(**chico):\n",
    "    print(\"El apellido es \" + chico[\"apellido\"])\n",
    "\n",
    "apellido(npila=\"Juan\", apellido =\"Suarez\", edad=15)\n"
   ]
  },
  {
   "cell_type": "code",
   "execution_count": 15,
   "id": "546eb4c2",
   "metadata": {},
   "outputs": [
    {
     "name": "stdout",
     "output_type": "stream",
     "text": [
      "Soy de Argentina\n",
      "Soy de Mexico\n"
     ]
    }
   ],
   "source": [
    "def pais(country=\"Mexico\"):\n",
    "    print (\"Soy de \" + country)\n",
    "    \n",
    "pais(\"Argentina\")\n",
    "pais()"
   ]
  },
  {
   "cell_type": "code",
   "execution_count": 17,
   "id": "881fce34",
   "metadata": {},
   "outputs": [],
   "source": [
    "def funcion():\n",
    "    pass\n",
    "funcion()"
   ]
  },
  {
   "cell_type": "code",
   "execution_count": 18,
   "id": "cf6c3272",
   "metadata": {},
   "outputs": [
    {
     "name": "stdout",
     "output_type": "stream",
     "text": [
      "manzana\n",
      "fresa\n",
      "sandia\n"
     ]
    }
   ],
   "source": [
    "# pase de lista en funcion\n",
    "\n",
    "def lista_comida (comida):\n",
    "    for x in comida:\n",
    "        print (x)\n",
    "        \n",
    "frutas =[\"manzana\",\"fresa\",\"sandia\"]\n",
    "\n",
    "lista_comida(frutas)"
   ]
  },
  {
   "cell_type": "code",
   "execution_count": 26,
   "id": "d819aa06",
   "metadata": {},
   "outputs": [
    {
     "name": "stdout",
     "output_type": "stream",
     "text": [
      "[1, 2, 3, 4, 5, 6, 7, 8, 9, 10]\n",
      "[2, 4, 6, 8, 10, 12, 14, 16, 18, 20]\n",
      "[3, 6, 9, 12, 15, 18, 21, 24, 27, 30]\n",
      "[4, 8, 12, 16, 20, 24, 28, 32, 36, 40]\n",
      "[5, 10, 15, 20, 25, 30, 35, 40, 45, 50]\n",
      "[6, 12, 18, 24, 30, 36, 42, 48, 54, 60]\n",
      "[7, 14, 21, 28, 35, 42, 49, 56, 63, 70]\n",
      "[8, 16, 24, 32, 40, 48, 56, 64, 72, 80]\n",
      "[9, 18, 27, 36, 45, 54, 63, 72, 81, 90]\n",
      "[10, 20, 30, 40, 50, 60, 70, 80, 90, 100]\n"
     ]
    }
   ],
   "source": [
    "#Ejemplos de usos de funciones\n",
    "\n",
    "# Desarrolle una función en Python que le permita al usuario obtener la tabla de multiplicar del número que éste desee.\n",
    "# Considere que la lista de valores a multiplicar va del 1 al 10.\n",
    "# Utilice una lista para mostrar sus resultados\n",
    "\n",
    "def tabla_del(numero):\n",
    "    resultados= []\n",
    "    for i in range (1,11):\n",
    "        resultados.append(numero * i)\n",
    "    return resultados\n",
    "\n",
    "for valor in range (1,11):\n",
    "    print(tabla_del(valor))"
   ]
  },
  {
   "cell_type": "code",
   "execution_count": 32,
   "id": "c887d0c6",
   "metadata": {},
   "outputs": [
    {
     "name": "stdout",
     "output_type": "stream",
     "text": [
      "False\n"
     ]
    }
   ],
   "source": [
    "# Ejemplo 2\n",
    "\n",
    "# Escribe una función en Python que compruebe si una cadena recibida es palíndromo o no.\n",
    "# Un palíndromo es una palabra, frase o secuencia que se lee igual al revés que al derecho, por ejemplo, “Rayar” o “Salas”.\n",
    "\n",
    "def Palindromo(cadena):\n",
    "    izquierda= 0\n",
    "    derecha = len (cadena) - 1\n",
    "    \n",
    "    while derecha >= izquierda:\n",
    "        if not (cadena [izquierda] == cadena [derecha]):\n",
    "            return False\n",
    "        izquierda+=1\n",
    "        derecha-=1\n",
    "    return True\n",
    "\n",
    "print (Palindromo (\"Rayar\"))\n",
    "        \n"
   ]
  },
  {
   "cell_type": "code",
   "execution_count": 33,
   "id": "510af184",
   "metadata": {},
   "outputs": [
    {
     "name": "stdout",
     "output_type": "stream",
     "text": [
      "True\n"
     ]
    }
   ],
   "source": [
    "# Opción 2 para resolver ejemplo 2\n",
    "\n",
    "def Palindromo2(cadena):\n",
    "    izquierda= 0\n",
    "    derecha = len (cadena) - 1\n",
    "    \n",
    "    while derecha >= izquierda:\n",
    "        if not (cadena [izquierda].lower() == cadena [derecha].lower()):\n",
    "            return False\n",
    "        izquierda+=1\n",
    "        derecha-=1\n",
    "    return True\n",
    "\n",
    "print (Palindromo2 (\"Rayar\"))\n",
    "        "
   ]
  },
  {
   "cell_type": "code",
   "execution_count": 37,
   "id": "e570b7c7",
   "metadata": {},
   "outputs": [
    {
     "name": "stdout",
     "output_type": "stream",
     "text": [
      "16\n"
     ]
    }
   ],
   "source": [
    "#Función tradicional\n",
    "def cuadrado(x):\n",
    "    return x ** 2\n",
    "print (cuadrado(4))"
   ]
  },
  {
   "cell_type": "code",
   "execution_count": 36,
   "id": "3f016c8a",
   "metadata": {},
   "outputs": [
    {
     "name": "stdout",
     "output_type": "stream",
     "text": [
      "16\n"
     ]
    }
   ],
   "source": [
    "# Función lambda\n",
    "\n",
    "cuadrado = lambda x: x**2\n",
    "print(cuadrado(4))"
   ]
  },
  {
   "cell_type": "code",
   "execution_count": 40,
   "id": "a147fd7c",
   "metadata": {},
   "outputs": [
    {
     "data": {
      "text/plain": [
       "4"
      ]
     },
     "execution_count": 40,
     "metadata": {},
     "output_type": "execute_result"
    }
   ],
   "source": [
    "suma = lambda x,y: x + y\n",
    "suma(1,3)"
   ]
  },
  {
   "cell_type": "code",
   "execution_count": 41,
   "id": "69ed590f",
   "metadata": {},
   "outputs": [
    {
     "data": {
      "text/plain": [
       "5"
      ]
     },
     "execution_count": 41,
     "metadata": {},
     "output_type": "execute_result"
    }
   ],
   "source": [
    "(lambda x,y : x+y )(2,3)"
   ]
  },
  {
   "cell_type": "code",
   "execution_count": 42,
   "id": "534e2ebd",
   "metadata": {},
   "outputs": [
    {
     "name": "stdout",
     "output_type": "stream",
     "text": [
      "El doble del numero 15 es 30\n"
     ]
    }
   ],
   "source": [
    "# mezclar lambda con funciones tradicionales\n",
    "# una función cuyo resultado será otra función\n",
    "\n",
    "def Calcula(n):\n",
    "    return lambda x: x * n\n",
    "\n",
    "resultado = Calcula(2)\n",
    "print(\"El doble del numero 15 es\", resultado(15))"
   ]
  },
  {
   "cell_type": "code",
   "execution_count": 48,
   "id": "d061b7f1",
   "metadata": {},
   "outputs": [
    {
     "name": "stdout",
     "output_type": "stream",
     "text": [
      "True\n"
     ]
    }
   ],
   "source": [
    "# Ejemplo 3\n",
    "\n",
    "# Escribe un programa en Python para encontrar si una cadena dada comienza con un carácter dado usando una función Lambda \n",
    "# denominada “Inicia_con”\n",
    "\n",
    "Inicia_con = lambda texto ,x: True if x.startswith(texto) else False\n",
    "\n",
    "print(Inicia_con (\"P\",\"Python\"))"
   ]
  },
  {
   "cell_type": "code",
   "execution_count": null,
   "id": "5bf5981a",
   "metadata": {},
   "outputs": [],
   "source": []
  }
 ],
 "metadata": {
  "kernelspec": {
   "display_name": "Python 3 (ipykernel)",
   "language": "python",
   "name": "python3"
  },
  "language_info": {
   "codemirror_mode": {
    "name": "ipython",
    "version": 3
   },
   "file_extension": ".py",
   "mimetype": "text/x-python",
   "name": "python",
   "nbconvert_exporter": "python",
   "pygments_lexer": "ipython3",
   "version": "3.9.12"
  }
 },
 "nbformat": 4,
 "nbformat_minor": 5
}
