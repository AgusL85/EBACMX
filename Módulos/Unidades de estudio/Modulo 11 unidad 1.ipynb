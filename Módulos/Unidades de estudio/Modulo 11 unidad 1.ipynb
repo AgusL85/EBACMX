{
 "cells": [
  {
   "cell_type": "code",
   "execution_count": 1,
   "metadata": {},
   "outputs": [
    {
     "name": "stdout",
     "output_type": "stream",
     "text": [
      "El resultado es 50100\n"
     ]
    }
   ],
   "source": [
    "#Prueba base\n",
    "a=100\n",
    "b=501\n",
    "c=a*b\n",
    "print(\"El resultado es\", c)"
   ]
  },
  {
   "attachments": {},
   "cell_type": "markdown",
   "metadata": {},
   "source": [
    "## Funciones Lambda\n",
    "- Son funciones avanzadas\n",
    "- Son funciones anónimas (no tienen declaración formal)\n",
    "- Pueden tomar cualquier número de argumentos, pero solamente tener una expresión\n",
    "- Muy productivas y eficientes\n",
    "- Se utiliza para siempre en la vida del programador Python"
   ]
  },
  {
   "cell_type": "markdown",
   "metadata": {},
   "source": []
  },
  {
   "cell_type": "code",
   "execution_count": 6,
   "metadata": {},
   "outputs": [
    {
     "data": {
      "text/plain": [
       "100002"
      ]
     },
     "execution_count": 6,
     "metadata": {},
     "output_type": "execute_result"
    }
   ],
   "source": [
    "# Ejemplo a ser replicado\n",
    "def add_one(x):\n",
    "    return x+1\n",
    "add_one (100001)"
   ]
  },
  {
   "cell_type": "code",
   "execution_count": 7,
   "metadata": {},
   "outputs": [
    {
     "data": {
      "text/plain": [
       "11"
      ]
     },
     "execution_count": 7,
     "metadata": {},
     "output_type": "execute_result"
    }
   ],
   "source": [
    "# la mimsa lógica con Lambda\n",
    "# en este caso no se tiene definición formal de la función, solamente la operación, llamando a la variable \"x\"\n",
    "add_one= lambda x: x+1\n",
    "add_one(10)"
   ]
  },
  {
   "cell_type": "code",
   "execution_count": 8,
   "metadata": {},
   "outputs": [
    {
     "name": "stdout",
     "output_type": "stream",
     "text": [
      "220\n"
     ]
    }
   ],
   "source": [
    "# Ejemplo 1 - suma simple\n",
    "x=lambda a: a + 100\n",
    "print(x(120))"
   ]
  },
  {
   "cell_type": "code",
   "execution_count": 9,
   "metadata": {},
   "outputs": [
    {
     "name": "stdout",
     "output_type": "stream",
     "text": [
      "600\n"
     ]
    }
   ],
   "source": [
    "# Ejemplo 2 -multiplicación\n",
    "x= lambda a, b : a*b\n",
    "print(x(10,60))"
   ]
  },
  {
   "cell_type": "code",
   "execution_count": 11,
   "metadata": {},
   "outputs": [
    {
     "name": "stdout",
     "output_type": "stream",
     "text": [
      "31\n"
     ]
    }
   ],
   "source": [
    "# Ejemplo 3 - Se puede tener cualquier número de argumentos\n",
    "x= lambda a, b, c : a+b+c\n",
    "print(x(5,6,20))"
   ]
  },
  {
   "cell_type": "code",
   "execution_count": 13,
   "metadata": {},
   "outputs": [
    {
     "name": "stdout",
     "output_type": "stream",
     "text": [
      "8\n"
     ]
    }
   ],
   "source": [
    "# Se pueden incluir funciones lambda dentro de otras funciones\n",
    "def myfunc(n):\n",
    "    return lambda a :a-n\n",
    "\n",
    "# Genera la función para multiplicar por 2 el número\n",
    "mydoubler=myfunc(2)\n",
    "\n",
    "print(mydoubler(10))"
   ]
  },
  {
   "cell_type": "code",
   "execution_count": 15,
   "metadata": {},
   "outputs": [
    {
     "name": "stdout",
     "output_type": "stream",
     "text": [
      "33\n"
     ]
    }
   ],
   "source": [
    "def myfunc(n):\n",
    "    return lambda a :a*n\n",
    "\n",
    "# Genera la función para tripolicar el número\n",
    "mytripler =myfunc(3)\n",
    "\n",
    "#Aplica la función a un número\n",
    "print(mytripler(11))"
   ]
  },
  {
   "cell_type": "code",
   "execution_count": 17,
   "metadata": {},
   "outputs": [
    {
     "name": "stdout",
     "output_type": "stream",
     "text": [
      "20\n",
      "30\n"
     ]
    }
   ],
   "source": [
    "def myfunc(n):\n",
    "    return lambda a :a*n\n",
    "\n",
    "mydoubler=myfunc(2)\n",
    "mytripler =myfunc(3)\n",
    "\n",
    "print(mydoubler(10))\n",
    "print(mytripler(10))"
   ]
  },
  {
   "cell_type": "code",
   "execution_count": 19,
   "metadata": {},
   "outputs": [
    {
     "data": {
      "text/plain": [
       "'Full name: Ebac: Curso De Analista De Datos 2023'"
      ]
     },
     "execution_count": 19,
     "metadata": {},
     "output_type": "execute_result"
    }
   ],
   "source": [
    "# Ejemplo con strings\n",
    "full_name = lambda first, last: f\"Full name: {first.title()} {last.title()}\"\n",
    "full_name(\"EBAC:\", \"Curso de Analista de Datos 2023\")"
   ]
  },
  {
   "cell_type": "code",
   "execution_count": 20,
   "metadata": {},
   "outputs": [
    {
     "data": {
      "text/plain": [
       "600"
      ]
     },
     "execution_count": 20,
     "metadata": {},
     "output_type": "execute_result"
    }
   ],
   "source": [
    "# Ejemplo de una Lambda invocada inmediatamente (IIFE = immediately invoked function execution)\n",
    "(lambda x, y : x * y) (60,10)"
   ]
  },
  {
   "attachments": {},
   "cell_type": "markdown",
   "metadata": {},
   "source": [
    "# WRAP UP\n",
    "\n",
    "* Las funciones Lambda no pueden tener \"statements\" dentro, como return, pass, assert, raise, etc\n",
    "* Se escriben como solamente una línea de ejecución \n",
    "* No soportan ningún tipo de de anotaciones (comentarios)\n",
    "* Se pueden invocar inmediatamente\n",
    "* Son anónimas\n",
    "* Pueden anidarse"
   ]
  },
  {
   "cell_type": "markdown",
   "metadata": {},
   "source": []
  }
 ],
 "metadata": {
  "kernelspec": {
   "display_name": "base",
   "language": "python",
   "name": "python3"
  },
  "language_info": {
   "codemirror_mode": {
    "name": "ipython",
    "version": 3
   },
   "file_extension": ".py",
   "mimetype": "text/x-python",
   "name": "python",
   "nbconvert_exporter": "python",
   "pygments_lexer": "ipython3",
   "version": "3.9.12"
  },
  "orig_nbformat": 4,
  "vscode": {
   "interpreter": {
    "hash": "f920f2f54e1424f7d1c7da139b726d98c9a7e9659687bffb8714be585c4594a9"
   }
  }
 },
 "nbformat": 4,
 "nbformat_minor": 2
}
