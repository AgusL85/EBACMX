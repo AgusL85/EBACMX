{
 "cells": [
  {
   "attachments": {},
   "cell_type": "markdown",
   "metadata": {},
   "source": [
    "## Función Map\n",
    "\n",
    "* La función map () retorna un objeto map (un iterador) de los resultados aplicados a cada uno de los items de un iterable, enviado como parámetro\n",
    "* Retorna una lista de los resultados, luego de aplicar la misma fnción a todos los items de un mismo iterable (list, tuple, etc)\n",
    "* Uso: map(function, iterable, [iterable1, iterable2,...])"
   ]
  },
  {
   "cell_type": "code",
   "execution_count": 1,
   "metadata": {},
   "outputs": [
    {
     "name": "stdout",
     "output_type": "stream",
     "text": [
      "[1, 8, 27, 64, 125]\n"
     ]
    }
   ],
   "source": [
    "# Ejemplo - Generando una operación a ser aplicada a un listado de números\n",
    "# Este es un ejemplo SIN map\n",
    "# Generando un listado de números exponenciales\n",
    "\n",
    "# Declara la lista a ser usada\n",
    "org_list = [1,2,3,4,5]\n",
    "fin_list=[]\n",
    "\n",
    "#Aplica la operación a cada uno de los números en la lista\n",
    "for num in org_list:\n",
    "    fin_list.append(num**3)\n",
    "\n",
    "#imprime la lista\n",
    "print(fin_list)\n"
   ]
  },
  {
   "cell_type": "code",
   "execution_count": 2,
   "metadata": {},
   "outputs": [
    {
     "name": "stdout",
     "output_type": "stream",
     "text": [
      "[1, 8, 27, 64, 125]\n"
     ]
    }
   ],
   "source": [
    "# El mismo ejemplo exponencial usando map()\n",
    "\n",
    "# Define la lista inicial de números. No es necesario definir la lista resultados\n",
    "org_list = [1,2,3,4,5]\n",
    "\n",
    "# Define la función a ser aplicada a cada número\n",
    "def cube(num):\n",
    "    return num **3\n",
    "\n",
    "# Aplica la función map()\n",
    "fin_list = list(map(cube, org_list))\n",
    "\n",
    "print(fin_list)"
   ]
  },
  {
   "cell_type": "code",
   "execution_count": 3,
   "metadata": {},
   "outputs": [
    {
     "name": "stdout",
     "output_type": "stream",
     "text": [
      "[4, 5, 4]\n"
     ]
    }
   ],
   "source": [
    "# Otro Ejemplo\n",
    "# Largo de cada elemento de una vista\n",
    "# utlizo la función de python \"Len\"\n",
    "org_list= [\"Hola\", \"Mundo\", \"EBAC\"]\n",
    "fin_list= list(map(len, org_list))\n",
    "print(fin_list)"
   ]
  },
  {
   "cell_type": "code",
   "execution_count": 5,
   "metadata": {},
   "outputs": [
    {
     "name": "stdout",
     "output_type": "stream",
     "text": [
      "[10, 100, 1000, 10000]\n"
     ]
    }
   ],
   "source": [
    "# Usando más de una iterable (base y power)\n",
    "# Aprovecho la función pow de python\n",
    "base= [10,10,10,10]\n",
    "power= [1,2,3,4]\n",
    "\n",
    "result= list(map(pow, base, power))\n",
    "print(result)"
   ]
  },
  {
   "cell_type": "code",
   "execution_count": 7,
   "metadata": {},
   "outputs": [
    {
     "name": "stdout",
     "output_type": "stream",
     "text": [
      "[1, 8, 27, 64, 125]\n"
     ]
    }
   ],
   "source": [
    "# Ejemplo de un Pam usando lambdas\n",
    "org_list=[1,2,3,4,5]\n",
    "\n",
    "fin_list=list(map(lambda x:x**3, org_list))\n",
    "print(fin_list)"
   ]
  },
  {
   "cell_type": "code",
   "execution_count": 8,
   "metadata": {},
   "outputs": [
    {
     "name": "stdout",
     "output_type": "stream",
     "text": [
      "[2, 4, 6, 8]\n"
     ]
    }
   ],
   "source": [
    "# Doble de un número\n",
    "def addition(n):\n",
    "    return n + n\n",
    "# We double all numbers using map()\n",
    "numbers = (1,2,3,4)\n",
    "result = map(addition, numbers)\n",
    "print(list(result))"
   ]
  },
  {
   "cell_type": "code",
   "execution_count": 10,
   "metadata": {},
   "outputs": [
    {
     "name": "stdout",
     "output_type": "stream",
     "text": [
      "[12, 15, 18]\n"
     ]
    }
   ],
   "source": [
    "# Suma de dos lista con lambda y map\n",
    "numbers1= [1,2,3]\n",
    "numbers2= [4,5,6]\n",
    "numbers3=[7,8,9]\n",
    "\n",
    "result = map(lambda x, y, z: x + y+z, numbers1, numbers2, numbers3)\n",
    "print(list(result))"
   ]
  },
  {
   "cell_type": "code",
   "execution_count": 12,
   "metadata": {},
   "outputs": [
    {
     "name": "stdout",
     "output_type": "stream",
     "text": [
      "[4, 4, 4, 4]\n"
     ]
    }
   ],
   "source": [
    "# Ejemplo con cadena de caracteres\n",
    "l= [\"sato\", \"bato\", \"cato\", \"mato\"]\n",
    "\n",
    "# map() puede usarse para dividir en caracteres a las palabras enviadas \n",
    "#obteniendo una lista de listas\n",
    "test= list(map(len,l))\n",
    "print(test)\n"
   ]
  },
  {
   "cell_type": "code",
   "execution_count": null,
   "metadata": {},
   "outputs": [],
   "source": []
  }
 ],
 "metadata": {
  "kernelspec": {
   "display_name": "base",
   "language": "python",
   "name": "python3"
  },
  "language_info": {
   "codemirror_mode": {
    "name": "ipython",
    "version": 3
   },
   "file_extension": ".py",
   "mimetype": "text/x-python",
   "name": "python",
   "nbconvert_exporter": "python",
   "pygments_lexer": "ipython3",
   "version": "3.9.12"
  },
  "orig_nbformat": 4,
  "vscode": {
   "interpreter": {
    "hash": "f920f2f54e1424f7d1c7da139b726d98c9a7e9659687bffb8714be585c4594a9"
   }
  }
 },
 "nbformat": 4,
 "nbformat_minor": 2
}
