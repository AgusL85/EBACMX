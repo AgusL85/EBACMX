{
 "cells": [
  {
   "attachments": {},
   "cell_type": "markdown",
   "metadata": {},
   "source": [
    "### Filter \n",
    "\n",
    "* Esta función permite extraer valores de iterables. Para extraer estos valores se debe definir una condición que los items deben cumplir y generar a su vez una nueva lista de iterables.\n",
    "* La sintaxis es: filter (function, iterable).\n",
    "* El primer argumento es objeto función #function\" y debe ser llamada sin paréntesis.\n",
    "* El segundo argumento es un iterable, que puede ser una lista, una tupla o un set.\n",
    "* Filtering se aplica a cada item del iterable.\n",
    "* Filter es una función built-in, lo que quiere decir que no debe importarse desde ninguna librería\n"
   ]
  },
  {
   "cell_type": "code",
   "execution_count": 2,
   "metadata": {},
   "outputs": [
    {
     "data": {
      "text/plain": [
       "[2, 10, 6, 50, 100]"
      ]
     },
     "execution_count": 2,
     "metadata": {},
     "output_type": "execute_result"
    }
   ],
   "source": [
    "# Ejemplo para ver números pares en una lista\n",
    "# Se tiene una lista inicial de números a ser procesados\n",
    "# con cada item, se valida que su residuo (%) cuando se divide para 2 sea cero (condición par/impar)\n",
    "numbers= [1,2,3,10,45,6,50,100]\n",
    "\n",
    "def extract_even(numbers):\n",
    "    even_numbers=[]\n",
    "    for number in numbers:\n",
    "        if number % 2 ==0: #filtering condition\n",
    "            even_numbers.append(number)\n",
    "    return even_numbers\n",
    "\n",
    "extract_even(numbers)"
   ]
  },
  {
   "cell_type": "code",
   "execution_count": 3,
   "metadata": {},
   "outputs": [
    {
     "data": {
      "text/plain": [
       "[2, 10, 6, 50, 100]"
      ]
     },
     "execution_count": 3,
     "metadata": {},
     "output_type": "execute_result"
    }
   ],
   "source": [
    "# el mismo ejemplo usando filter\n",
    "numbers= [1,2,3,10,45,6,50,100]\n",
    "\n",
    "def is_even(number):\n",
    "    return number % 2 == 0  #filtering condition\n",
    "\n",
    "list(filter(is_even, numbers))"
   ]
  },
  {
   "cell_type": "code",
   "execution_count": 4,
   "metadata": {},
   "outputs": [
    {
     "data": {
      "text/plain": [
       "[1, 2, 10]"
      ]
     },
     "execution_count": 4,
     "metadata": {},
     "output_type": "execute_result"
    }
   ],
   "source": [
    "# ejemplo simple, obtener los números positivos de una lista\n",
    "# se hace con un loop que valida, uno por uno, los números de la lista\n",
    "# y pregunta si son mayores a 0\n",
    "# si lo son, los incluye en el listado de números positivos \n",
    "\n",
    "numbers=[-2,-1,0,1,2,10]\n",
    "\n",
    "def extract_positive(numbers):\n",
    "    positive_numbers=[]\n",
    "    for number in numbers:\n",
    "        if number > 0: #filtering condition\n",
    "            positive_numbers.append(number)\n",
    "    return positive_numbers\n",
    "extract_positive(numbers)\n"
   ]
  },
  {
   "cell_type": "code",
   "execution_count": 5,
   "metadata": {},
   "outputs": [
    {
     "data": {
      "text/plain": [
       "[1, 2, 10]"
      ]
     },
     "execution_count": 5,
     "metadata": {},
     "output_type": "execute_result"
    }
   ],
   "source": [
    "# Aqui la misma función aplicada filter() y simplificada con una lambda\n",
    "\n",
    "# se define la lista de números a ser procesados \n",
    "numbers=[-2,-1,0,1,2,10]\n",
    "\n",
    "# se define la función lambda que va a aplicarse como filtro (que los números sean mayores a cero)\n",
    "\n",
    "positive_numbers= filter(lambda n: n > 0, numbers)\n",
    "positive_numbers\n",
    "\n",
    "list(positive_numbers)"
   ]
  },
  {
   "cell_type": "code",
   "execution_count": 12,
   "metadata": {},
   "outputs": [
    {
     "name": "stdout",
     "output_type": "stream",
     "text": [
      "Media =  10.692307692307692 Baja =  -7.128740076825961 Alta =  28.513355461441343\n",
      "Media =10.69 Baja =-7.13 Alta= 28.51\n"
     ]
    }
   ],
   "source": [
    "# Eliminando outliers de un listado de números\n",
    "import statistics as st\n",
    "sample=[10,8,10,8,2,7,9,3,34,9,5,9,25]\n",
    "\n",
    "# Calucula la media de la muestra, ANTES DE ELIMINAR LOS OUTLIERS\n",
    "mean=st.mean(sample)\n",
    "\n",
    "# Calcula dos desviaciones estándar como el límite bajo y alto para filtrar la lista\n",
    "\n",
    "stdev = st.stdev(sample)\n",
    "low= mean - 2 * stdev\n",
    "high = mean + 2 *stdev\n",
    "\n",
    "print(\"Media = \", mean, \"Baja = \", low, \"Alta = \",high)\n",
    "\n",
    "#imprimir con dos decimales\n",
    "print(\"Media ={:.2f}\".format(mean), \"Baja ={:.2f}\".format(low), \"Alta= {:.2f}\".format(high))"
   ]
  },
  {
   "cell_type": "code",
   "execution_count": 14,
   "metadata": {},
   "outputs": [
    {
     "data": {
      "text/plain": [
       "[10, 8, 10, 8, 2, 7, 9, 3, 9, 5, 9, 25]"
      ]
     },
     "execution_count": 14,
     "metadata": {},
     "output_type": "execute_result"
    }
   ],
   "source": [
    "# Los valores de la muestra que están fuera de los valores bajo y alto\n",
    "# no van a ser mostrados, utilizando una combinación de filter y una función lambda simple\n",
    "# que condiciona los límites de cada item\n",
    "clean_sample = list(filter(lambda x: low<= x <=high, sample))\n",
    "clean_sample"
   ]
  },
  {
   "cell_type": "code",
   "execution_count": 15,
   "metadata": {},
   "outputs": [
    {
     "name": "stdout",
     "output_type": "stream",
     "text": [
      "True\n",
      "False\n"
     ]
    }
   ],
   "source": [
    "# Función para buscar palabras Palíndromes\n",
    "def is_palindrome(word):\n",
    "    reversed_word= \"\".join(reversed(word))\n",
    "    return word.lower()== reversed_word.lower()\n",
    "\n",
    "#madam\n",
    "print(is_palindrome(\"Madam\"))\n",
    "#Ebac\n",
    "print(is_palindrome(\"Ebac\"))"
   ]
  },
  {
   "cell_type": "code",
   "execution_count": 16,
   "metadata": {},
   "outputs": [
    {
     "data": {
      "text/plain": [
       "['Ana', 'madam', 'racecar', 'sosos']"
      ]
     },
     "execution_count": 16,
     "metadata": {},
     "output_type": "execute_result"
    }
   ],
   "source": [
    "# Función para buscar palabras Palíndromes con Filter\n",
    "\n",
    "words=(\"filter\", \"Ana\", \"Hello\",\"world\",\"madam\", \"racecar\", \"sosos\")\n",
    "list(filter(is_palindrome, words))"
   ]
  },
  {
   "cell_type": "code",
   "execution_count": 18,
   "metadata": {},
   "outputs": [
    {
     "data": {
      "text/plain": [
       "[1, 2, 3, 4, 5, 6]"
      ]
     },
     "execution_count": 18,
     "metadata": {},
     "output_type": "execute_result"
    }
   ],
   "source": [
    "# Usando la función filter para excluir números de listas\n",
    "def identity(x):\n",
    "    return x\n",
    "\n",
    "objects = [0,1,[],2,3,\"\",None,4,5,6,\"\"]\n",
    "list (filter(identity,objects))"
   ]
  },
  {
   "attachments": {},
   "cell_type": "markdown",
   "metadata": {},
   "source": [
    "### Warm Up\n",
    "\n",
    "* filter es una opción poderosa que nos va a servir para encontrar valores en listas\n",
    "* Se aplica a cada item de la lista\n"
   ]
  },
  {
   "cell_type": "markdown",
   "metadata": {},
   "source": []
  }
 ],
 "metadata": {
  "kernelspec": {
   "display_name": "base",
   "language": "python",
   "name": "python3"
  },
  "language_info": {
   "codemirror_mode": {
    "name": "ipython",
    "version": 3
   },
   "file_extension": ".py",
   "mimetype": "text/x-python",
   "name": "python",
   "nbconvert_exporter": "python",
   "pygments_lexer": "ipython3",
   "version": "3.9.12 (main, Apr  4 2022, 05:22:27) [MSC v.1916 64 bit (AMD64)]"
  },
  "orig_nbformat": 4,
  "vscode": {
   "interpreter": {
    "hash": "f920f2f54e1424f7d1c7da139b726d98c9a7e9659687bffb8714be585c4594a9"
   }
  }
 },
 "nbformat": 4,
 "nbformat_minor": 2
}
