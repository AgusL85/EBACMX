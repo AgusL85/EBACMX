{
 "cells": [
  {
   "attachments": {},
   "cell_type": "markdown",
   "metadata": {},
   "source": [
    "### Función Reduce\n",
    "\n",
    "* La función reduce implementa una operación matemática llamada \"folding\" o \"reducción\"\n",
    "* Esta función es útil cuando se quiere aplicar una misma función a un elemento iterable y reducirla a un solo número\n",
    "* Es popular entre developers que tenen una orientación a programar funcionalmente (romper un todo en sus partes)\n",
    "* Reduce se tiene que importar desde la librería \"functools\"\n",
    "* Se usa reduce (function, iterable, initializer)"
   ]
  },
  {
   "cell_type": "markdown",
   "metadata": {},
   "source": []
  },
  {
   "cell_type": "code",
   "execution_count": 2,
   "metadata": {},
   "outputs": [
    {
     "name": "stdout",
     "output_type": "stream",
     "text": [
      "5 + 10 = 15\n"
     ]
    },
    {
     "data": {
      "text/plain": [
       "15"
      ]
     },
     "execution_count": 2,
     "metadata": {},
     "output_type": "execute_result"
    }
   ],
   "source": [
    "# Ejemplo de suma simple\n",
    "def mysum (a,b):\n",
    "    result  = a+b\n",
    "    print(f\"{a} + {b} = {result}\")\n",
    "    return result\n",
    "mysum(5,10)"
   ]
  },
  {
   "cell_type": "code",
   "execution_count": 3,
   "metadata": {},
   "outputs": [
    {
     "name": "stdout",
     "output_type": "stream",
     "text": [
      "0 + 1 = 1\n",
      "1 + 2 = 3\n",
      "3 + 3 = 6\n",
      "6 + 4 = 10\n"
     ]
    },
    {
     "data": {
      "text/plain": [
       "10"
      ]
     },
     "execution_count": 3,
     "metadata": {},
     "output_type": "execute_result"
    }
   ],
   "source": [
    "# Progresión\n",
    "a = mysum(0,1)\n",
    "b = mysum(a,2)\n",
    "c = mysum(b,3)\n",
    "mysum(c,4)"
   ]
  },
  {
   "cell_type": "code",
   "execution_count": 5,
   "metadata": {},
   "outputs": [
    {
     "name": "stdout",
     "output_type": "stream",
     "text": [
      "0 + 1 = 1\n",
      "1 + 2 = 3\n",
      "3 + 3 = 6\n",
      "6 + 4 = 10\n"
     ]
    },
    {
     "data": {
      "text/plain": [
       "10"
      ]
     },
     "execution_count": 5,
     "metadata": {},
     "output_type": "execute_result"
    }
   ],
   "source": [
    "# el mismo ejemplo con reduce\n",
    "# antes que nada se, se importa la librería\n",
    "\n",
    "from functools import reduce\n",
    "\n",
    "# se genera la lista de números para ser procesados\n",
    "numbers = [0,1,2,3,4]\n",
    "# se aplica la función de suma sobre el listado de números\n",
    "\n",
    "reduce(mysum, numbers)"
   ]
  },
  {
   "cell_type": "code",
   "execution_count": 6,
   "metadata": {},
   "outputs": [
    {
     "name": "stdout",
     "output_type": "stream",
     "text": [
      "10 + 0 = 10\n",
      "10 + 1 = 11\n",
      "11 + 2 = 13\n",
      "13 + 3 = 16\n",
      "16 + 4 = 20\n"
     ]
    },
    {
     "data": {
      "text/plain": [
       "20"
      ]
     },
     "execution_count": 6,
     "metadata": {},
     "output_type": "execute_result"
    }
   ],
   "source": [
    "# Avanzado - reduce con un initializer (valor base)\n",
    "# tercer argument: Initializer\n",
    "from functools import reduce\n",
    "numbers = [0,1,2,3,4]\n",
    "reduce(mysum, numbers,10)"
   ]
  },
  {
   "cell_type": "code",
   "execution_count": 7,
   "metadata": {},
   "outputs": [
    {
     "data": {
      "text/plain": [
       "15"
      ]
     },
     "execution_count": 7,
     "metadata": {},
     "output_type": "execute_result"
    }
   ],
   "source": [
    "# Ejemplo de una suma de valores numéricos\n",
    "numbers = [1,2,3,4,5]\n",
    "total= 0\n",
    "for num in numbers:\n",
    "    total += num\n",
    "total"
   ]
  },
  {
   "cell_type": "code",
   "execution_count": 2,
   "metadata": {},
   "outputs": [
    {
     "data": {
      "text/plain": [
       "3"
      ]
     },
     "execution_count": 2,
     "metadata": {},
     "output_type": "execute_result"
    }
   ],
   "source": [
    "def my_add (a,b):\n",
    "    return a+b\n",
    "my_add(1,2)"
   ]
  },
  {
   "cell_type": "code",
   "execution_count": 3,
   "metadata": {},
   "outputs": [
    {
     "data": {
      "text/plain": [
       "15"
      ]
     },
     "execution_count": 3,
     "metadata": {},
     "output_type": "execute_result"
    }
   ],
   "source": [
    "# la misma función con reduce \n",
    "from functools import reduce\n",
    "numbers = [1,2,3,4,5]\n",
    "reduce(my_add,numbers)"
   ]
  },
  {
   "cell_type": "code",
   "execution_count": 5,
   "metadata": {},
   "outputs": [
    {
     "data": {
      "text/plain": [
       "15"
      ]
     },
     "execution_count": 5,
     "metadata": {},
     "output_type": "execute_result"
    }
   ],
   "source": [
    "# ejemplo de reduce con lambda\n",
    "from functools import reduce\n",
    "numbers = [1,2,3,4,5]\n",
    "reduce(lambda a,b: a + b, numbers)"
   ]
  },
  {
   "cell_type": "code",
   "execution_count": 6,
   "metadata": {},
   "outputs": [
    {
     "data": {
      "text/plain": [
       "55"
      ]
     },
     "execution_count": 6,
     "metadata": {},
     "output_type": "execute_result"
    }
   ],
   "source": [
    "# con add, reduce\n",
    "\n",
    "from operator import add\n",
    "from functools import reduce\n",
    "\n",
    "numbers = [1,2,3,4,5,6,7,8,9,10]\n",
    "reduce(add, numbers)"
   ]
  },
  {
   "cell_type": "code",
   "execution_count": 2,
   "metadata": {},
   "outputs": [
    {
     "name": "stdout",
     "output_type": "stream",
     "text": [
      "Mínimo = -180\n",
      "Máximo = 250\n"
     ]
    }
   ],
   "source": [
    "# Usando reduce para calcular máximo y mínimo\n",
    "# se aplican las funciones mínimo y máximo a todos los items de la lista\n",
    "from functools import reduce\n",
    "def minimo(a,b):\n",
    "    #print (\"a=\",a,\"B=\"\",b)\n",
    "    if (a<b):\n",
    "        return a\n",
    "    return b\n",
    "# Función para calcular máximo\n",
    "def maximo (a,b):\n",
    "    #print (\"a=\",a,\"B=\"\",b)\n",
    "    if (a>b):\n",
    "        return a\n",
    "    return b\n",
    "\n",
    "#return a if a > b else b\n",
    "\n",
    "numbers= [4,5,9,-20,15,109,25,-1, 250, -180, 20, 57]\n",
    "\n",
    "mini = reduce(minimo, numbers)\n",
    "maxi = reduce(maximo, numbers)\n",
    "\n",
    "# se imprime el resultado de la lista\n",
    "\n",
    "print(f\"Mínimo = {mini}\")\n",
    "print(f\"Máximo = {maxi}\")"
   ]
  },
  {
   "cell_type": "code",
   "execution_count": 4,
   "metadata": {},
   "outputs": [
    {
     "name": "stdout",
     "output_type": "stream",
     "text": [
      "a= 4 B= 5\n",
      "a= 4 B= 9\n",
      "a= 4 B= -20\n",
      "a= -20 B= 15\n",
      "a= -20 B= 109\n",
      "a= -20 B= 25\n",
      "a= -20 B= -1\n",
      "a= -20 B= 250\n",
      "a= -20 B= -180\n",
      "a= -180 B= 20\n",
      "a= -180 B= 57\n",
      "Mínimo = -180\n",
      "Máximo = 250\n"
     ]
    }
   ],
   "source": [
    "# Usando reduce para calcular máximo y mínimo - MEJORA CON EL MÍNIMO\n",
    "# se aplican las funciones mínimo y máximo a todos los items de la lista\n",
    "from functools import reduce\n",
    "def minimo(a,b):\n",
    "    print (\"a=\",a,\"B=\",b)\n",
    "    if (a<b):\n",
    "        return a\n",
    "    return b\n",
    "# Función para calcular máximo\n",
    "def maximo (a,b):\n",
    "    #print (\"a=\",a,\"B=\"\",b)\n",
    "    if (a>b):\n",
    "        return a\n",
    "    return b\n",
    "\n",
    "#return a if a > b else b\n",
    "\n",
    "numbers= [4,5,9,-20,15,109,25,-1, 250, -180, 20, 57]\n",
    "\n",
    "mini = reduce(minimo, numbers)\n",
    "maxi = reduce(maximo, numbers)\n",
    "\n",
    "# se imprime el resultado de la lista\n",
    "\n",
    "print(f\"Mínimo = {mini}\")\n",
    "print(f\"Máximo = {maxi}\")"
   ]
  },
  {
   "cell_type": "code",
   "execution_count": 6,
   "metadata": {},
   "outputs": [
    {
     "name": "stdout",
     "output_type": "stream",
     "text": [
      "Mínimo = -180\n",
      "Máximo = 250\n"
     ]
    }
   ],
   "source": [
    "# Usando reduce para calcular máximo y mínimo - MEJORA CON CÓDIGO\n",
    "# se aplican las funciones mínimo y máximo a todos los items de la lista\n",
    "from functools import reduce\n",
    "def minimo(a,b):\n",
    "    #print (\"a=\",a,\"B=\",b)\n",
    "    if (a<b):\n",
    "        return a\n",
    "    return b\n",
    "# Función para calcular máximo\n",
    "def maximo (a,b):\n",
    "    #print (\"a=\",a,\"B=\",b)\n",
    "    #if (a>b):\n",
    "     #   return a\n",
    "    #return b\n",
    "\n",
    " return a if a > b else b\n",
    "\n",
    "numbers= [4,5,9,-20,15,109,25,-1, 250, -180, 20, 57]\n",
    "\n",
    "mini = reduce(minimo, numbers)\n",
    "maxi = reduce(maximo, numbers)\n",
    "\n",
    "# se imprime el resultado de la lista\n",
    "\n",
    "print(f\"Mínimo = {mini}\")\n",
    "print(f\"Máximo = {maxi}\")"
   ]
  },
  {
   "attachments": {},
   "cell_type": "markdown",
   "metadata": {},
   "source": [
    "### Wrap up\n",
    "\n",
    "* La función reduce nos lleva a un solo número\n",
    "* Se aplica a todos los items del iterable\n",
    "* Contiene un \"Initializer\" como parámetro"
   ]
  },
  {
   "cell_type": "markdown",
   "metadata": {},
   "source": []
  }
 ],
 "metadata": {
  "kernelspec": {
   "display_name": "base",
   "language": "python",
   "name": "python3"
  },
  "language_info": {
   "codemirror_mode": {
    "name": "ipython",
    "version": 3
   },
   "file_extension": ".py",
   "mimetype": "text/x-python",
   "name": "python",
   "nbconvert_exporter": "python",
   "pygments_lexer": "ipython3",
   "version": "3.9.12 (main, Apr  4 2022, 05:22:27) [MSC v.1916 64 bit (AMD64)]"
  },
  "orig_nbformat": 4,
  "vscode": {
   "interpreter": {
    "hash": "f920f2f54e1424f7d1c7da139b726d98c9a7e9659687bffb8714be585c4594a9"
   }
  }
 },
 "nbformat": 4,
 "nbformat_minor": 2
}
