{
 "cells": [
  {
   "cell_type": "code",
   "execution_count": 1,
   "id": "cd4140ff",
   "metadata": {},
   "outputs": [
    {
     "data": {
      "text/plain": [
       "{}"
      ]
     },
     "execution_count": 1,
     "metadata": {},
     "output_type": "execute_result"
    }
   ],
   "source": [
    "#para crear un diccionario\n",
    "elementos=dict()\n",
    "elementos"
   ]
  },
  {
   "cell_type": "code",
   "execution_count": 2,
   "id": "37c2b9b6",
   "metadata": {},
   "outputs": [
    {
     "data": {
      "text/plain": [
       "{'dinero': 10000, 'dulces': 20, 'amigos': 5}"
      ]
     },
     "execution_count": 2,
     "metadata": {},
     "output_type": "execute_result"
    }
   ],
   "source": [
    "elementos[\"dinero\"]=10000\n",
    "elementos[\"dulces\"]=20\n",
    "elementos[\"amigos\"]=5\n",
    "elementos"
   ]
  },
  {
   "cell_type": "code",
   "execution_count": 3,
   "id": "0606969f",
   "metadata": {},
   "outputs": [
    {
     "data": {
      "text/plain": [
       "20"
      ]
     },
     "execution_count": 3,
     "metadata": {},
     "output_type": "execute_result"
    }
   ],
   "source": [
    "#para mostrar un elementos en particular del diccionario\n",
    "elementos[\"dulces\"]"
   ]
  },
  {
   "cell_type": "code",
   "execution_count": 6,
   "id": "82506883",
   "metadata": {},
   "outputs": [
    {
     "data": {
      "text/plain": [
       "{'Juan': 2, 'Pedro': 1, 'Ramiro': 1}"
      ]
     },
     "execution_count": 6,
     "metadata": {},
     "output_type": "execute_result"
    }
   ],
   "source": [
    "#Para contar los elementos en un diccionario\n",
    "conteo=dict()\n",
    "nombres=[\"Juan\",\"Pedro\",\"Juan\",\"Ramiro\"]\n",
    "#para cada nombre en la list de nombres.\n",
    "#checar si el nombre ya existe en el diccionario \"Conteo\".\n",
    "#si el nombre no está en la lista, inicializar su frecuencia en 1.\n",
    "#en caso contrario (ya está en la lista), incrementar su frecuencia en 1.\n",
    "\n",
    "for nombre in nombres:\n",
    "    if nombre not in conteo:\n",
    "        conteo[nombre]=1\n",
    "    else:\n",
    "        conteo[nombre]=conteo[nombre]+1\n",
    "conteo        \n",
    "            "
   ]
  },
  {
   "cell_type": "code",
   "execution_count": 9,
   "id": "1fb05ca3",
   "metadata": {},
   "outputs": [
    {
     "data": {
      "text/plain": [
       "<_io.TextIOWrapper name='trabalenguas.txt' mode='r' encoding='cp1252'>"
      ]
     },
     "execution_count": 9,
     "metadata": {},
     "output_type": "execute_result"
    }
   ],
   "source": [
    "#para abrir un archivo y dividir el texto creado en varias palabras\n",
    "archivo=open(\"trabalenguas.txt\")\n",
    "archivo"
   ]
  },
  {
   "cell_type": "code",
   "execution_count": 11,
   "id": "95259478",
   "metadata": {},
   "outputs": [
    {
     "data": {
      "text/plain": [
       "['El',\n",
       " 'amor',\n",
       " 'es',\n",
       " 'una',\n",
       " 'locura',\n",
       " 'que',\n",
       " 'ni',\n",
       " 'el',\n",
       " 'cura',\n",
       " 'lo',\n",
       " 'cura.Porque',\n",
       " 'si',\n",
       " 'el',\n",
       " 'cura',\n",
       " 'lo',\n",
       " 'cura',\n",
       " 'sería',\n",
       " 'locura',\n",
       " 'del',\n",
       " 'cura.']"
      ]
     },
     "execution_count": 11,
     "metadata": {},
     "output_type": "execute_result"
    }
   ],
   "source": [
    "for texto in archivo:\n",
    "    palabras=texto.split()\n",
    "palabras"
   ]
  },
  {
   "cell_type": "code",
   "execution_count": 12,
   "id": "cfba22c2",
   "metadata": {},
   "outputs": [
    {
     "data": {
      "text/plain": [
       "{'El': 1,\n",
       " 'amor': 1,\n",
       " 'es': 1,\n",
       " 'una': 1,\n",
       " 'locura': 2,\n",
       " 'que': 1,\n",
       " 'ni': 1,\n",
       " 'el': 2,\n",
       " 'cura': 3,\n",
       " 'lo': 2,\n",
       " 'cura.Porque': 1,\n",
       " 'si': 1,\n",
       " 'sería': 1,\n",
       " 'del': 1,\n",
       " 'cura.': 1}"
      ]
     },
     "execution_count": 12,
     "metadata": {},
     "output_type": "execute_result"
    }
   ],
   "source": [
    "#Para contar los elementos en un diccionario\n",
    "conteo=dict()\n",
    "for nombre in palabras:\n",
    "    if nombre not in conteo:\n",
    "        conteo[nombre]=1\n",
    "    else:\n",
    "        conteo[nombre]=conteo[nombre]+1\n",
    "conteo        \n",
    "            "
   ]
  },
  {
   "cell_type": "code",
   "execution_count": null,
   "id": "5f8db82d",
   "metadata": {},
   "outputs": [],
   "source": []
  }
 ],
 "metadata": {
  "kernelspec": {
   "display_name": "Python 3 (ipykernel)",
   "language": "python",
   "name": "python3"
  },
  "language_info": {
   "codemirror_mode": {
    "name": "ipython",
    "version": 3
   },
   "file_extension": ".py",
   "mimetype": "text/x-python",
   "name": "python",
   "nbconvert_exporter": "python",
   "pygments_lexer": "ipython3",
   "version": "3.9.12"
  }
 },
 "nbformat": 4,
 "nbformat_minor": 5
}
