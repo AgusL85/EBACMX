{
 "cells": [
  {
   "attachments": {},
   "cell_type": "markdown",
   "metadata": {},
   "source": [
    "#### Módulos y Paquetes"
   ]
  },
  {
   "attachments": {},
   "cell_type": "markdown",
   "metadata": {},
   "source": [
    "* Instalación de Módulos y paquetes\n",
    "* Uso de librerías estadísticas básicas\n",
    "* Primeras gráficas: histograma"
   ]
  },
  {
   "attachments": {},
   "cell_type": "markdown",
   "metadata": {},
   "source": [
    "## Introducción\n",
    "- Cualquier archivo Python es un módulo, contiene muchas funciones Python dentro de su código.\n",
    "- Cuando se importa un módulo o un paquete, el objeto que se genera en Python es siempre del tipo módulo.\n",
    "- Un paquete es un conjunto de módulos de Python, en forma de una colección que sirve para inicializar el código.\n",
    "- Los paquetes pueden tener cualquier número de niveles.\n",
    "- Esto quiere decir que la diferencia entre módulos y paquetes es nada más a nivel de sistema operativo.\n",
    "- La diferencia principal: los paquetes trabajan en cada librería, definiendo los códigos como una sola unidad, de cualquier función.\n",
    "- Mientras que los módulos son librerías separadas cada uno, con funciones incluidas.la reusabilidad de los paquetes los hace preferidos versus los módulos.\n",
    "\n"
   ]
  },
  {
   "cell_type": "code",
   "execution_count": 1,
   "metadata": {},
   "outputs": [
    {
     "data": {
      "text/plain": [
       "256.0"
      ]
     },
     "execution_count": 1,
     "metadata": {},
     "output_type": "execute_result"
    }
   ],
   "source": [
    "# Ejemplo de un módulo\n",
    "import math # paquete\n",
    "from math import pow #módulo y submódulo\n",
    "pow(2,8)"
   ]
  },
  {
   "cell_type": "code",
   "execution_count": 2,
   "metadata": {},
   "outputs": [],
   "source": [
    "# ejemplo de un paquete\n",
    "import math"
   ]
  },
  {
   "cell_type": "code",
   "execution_count": 3,
   "metadata": {},
   "outputs": [
    {
     "data": {
      "text/plain": [
       "256.0"
      ]
     },
     "execution_count": 3,
     "metadata": {},
     "output_type": "execute_result"
    }
   ],
   "source": [
    "math.pow(2,8)"
   ]
  },
  {
   "cell_type": "code",
   "execution_count": 6,
   "metadata": {},
   "outputs": [
    {
     "ename": "NameError",
     "evalue": "name 'date' is not defined",
     "output_type": "error",
     "traceback": [
      "\u001b[1;31m---------------------------------------------------------------------------\u001b[0m",
      "\u001b[1;31mNameError\u001b[0m                                 Traceback (most recent call last)",
      "\u001b[1;32mc:\\Users\\Agus\\Documents\\Cursos\\Analista de Datos\\Parte II\\Módulo 12\\Módulo 12 unidad 1.ipynb Celda 7\u001b[0m in \u001b[0;36m<cell line: 3>\u001b[1;34m()\u001b[0m\n\u001b[0;32m      <a href='vscode-notebook-cell:/c%3A/Users/Agus/Documents/Cursos/Analista%20de%20Datos/Parte%20II/M%C3%B3dulo%2012/M%C3%B3dulo%2012%20unidad%201.ipynb#X11sZmlsZQ%3D%3D?line=0'>1</a>\u001b[0m \u001b[39m# ejemplo simple de que no va a funcionar\u001b[39;00m\n\u001b[0;32m      <a href='vscode-notebook-cell:/c%3A/Users/Agus/Documents/Cursos/Analista%20de%20Datos/Parte%20II/M%C3%B3dulo%2012/M%C3%B3dulo%2012%20unidad%201.ipynb#X11sZmlsZQ%3D%3D?line=1'>2</a>\u001b[0m \u001b[39mimport\u001b[39;00m \u001b[39mdatetime\u001b[39;00m\n\u001b[1;32m----> <a href='vscode-notebook-cell:/c%3A/Users/Agus/Documents/Cursos/Analista%20de%20Datos/Parte%20II/M%C3%B3dulo%2012/M%C3%B3dulo%2012%20unidad%201.ipynb#X11sZmlsZQ%3D%3D?line=2'>3</a>\u001b[0m date\u001b[39m.\u001b[39mtoday()\n",
      "\u001b[1;31mNameError\u001b[0m: name 'date' is not defined"
     ]
    }
   ],
   "source": [
    "# ejemplo simple de que no va a funcionar\n",
    "import datetime\n",
    "date.today()"
   ]
  },
  {
   "cell_type": "code",
   "execution_count": 7,
   "metadata": {},
   "outputs": [
    {
     "data": {
      "text/plain": [
       "datetime.date(2023, 1, 27)"
      ]
     },
     "execution_count": 7,
     "metadata": {},
     "output_type": "execute_result"
    }
   ],
   "source": [
    "# ejemplo simple correcto\n",
    "from datetime import date\n",
    "date.today()"
   ]
  },
  {
   "cell_type": "code",
   "execution_count": 8,
   "metadata": {},
   "outputs": [
    {
     "name": "stdout",
     "output_type": "stream",
     "text": [
      "Current working directory:c:\\Users\\Agus\\Documents\\Cursos\\Analista de Datos\\Parte II\\Módulo 12\n"
     ]
    }
   ],
   "source": [
    "# Importar la función completa \"csv\" para tratamiento de archivos\n",
    "import csv\n",
    "# Importar la función \"os\" para leer el directorio actual\n",
    "import os\n",
    "# Get the current working directory\n",
    "cwd = os.getcwd()\n",
    "\n",
    "# Print the current working directory\n",
    "print(\"Current working directory:{0}\".format(cwd))"
   ]
  },
  {
   "cell_type": "code",
   "execution_count": 16,
   "metadata": {},
   "outputs": [],
   "source": [
    "# Abre el archivo de lectura\n",
    "file= open(r\"./netflix_titles.csv\")\n",
    "\n",
    "# lee el archivo en el objeto csvreader\n",
    "csvreader=csv.reader(file)"
   ]
  },
  {
   "cell_type": "code",
   "execution_count": 10,
   "metadata": {},
   "outputs": [
    {
     "data": {
      "text/plain": [
       "_csv.reader"
      ]
     },
     "execution_count": 10,
     "metadata": {},
     "output_type": "execute_result"
    }
   ],
   "source": [
    "type(csvreader)"
   ]
  },
  {
   "cell_type": "code",
   "execution_count": 17,
   "metadata": {},
   "outputs": [
    {
     "data": {
      "text/plain": [
       "['show_id',\n",
       " 'type',\n",
       " 'title',\n",
       " 'director',\n",
       " 'cast',\n",
       " 'country',\n",
       " 'date_added',\n",
       " 'release_year',\n",
       " 'rating',\n",
       " 'duration',\n",
       " 'listed_in',\n",
       " 'description']"
      ]
     },
     "execution_count": 17,
     "metadata": {},
     "output_type": "execute_result"
    }
   ],
   "source": [
    "# obtiene los encabezados del archivo (header)\n",
    "header=[]\n",
    "header = next(csvreader)\n",
    "header"
   ]
  },
  {
   "cell_type": "code",
   "execution_count": 20,
   "metadata": {},
   "outputs": [
    {
     "name": "stdout",
     "output_type": "stream",
     "text": [
      "[]\n"
     ]
    }
   ],
   "source": [
    "# extrae los datos a una lista\n",
    "rows=[]\n",
    "for row in csvreader:\n",
    "    rows.append(row)\n",
    "\n",
    "print(rows[:2])\n",
    "\n",
    "#tenemos toda la información de las películas en la lista rows\n",
    "# pone to"
   ]
  },
  {
   "cell_type": "code",
   "execution_count": 19,
   "metadata": {},
   "outputs": [
    {
     "data": {
      "text/plain": [
       "[['s1',\n",
       "  'Movie',\n",
       "  'Dick Johnson Is Dead',\n",
       "  'Kirsten Johnson',\n",
       "  '',\n",
       "  'United States',\n",
       "  'September 25, 2021',\n",
       "  '2020',\n",
       "  'PG-13',\n",
       "  '90 min',\n",
       "  'Documentaries',\n",
       "  'As her father nears the end of his life, filmmaker Kirsten Johnson stages his death in inventive and comical ways to help them both face the inevitable.'],\n",
       " ['s2',\n",
       "  'TV Show',\n",
       "  'Blood & Water',\n",
       "  '',\n",
       "  'Ama Qamata, Khosi Ngema, Gail Mabalane, Thabang Molaba, Dillon Windvogel, Natasha Thahane, Arno Greeff, Xolile Tshabalala, Getmore Sithole, Cindy Mahlangu, Ryle De Morny, Greteli Fincham, Sello Maake Ka-Ncube, Odwa Gwanya, Mekaila Mathys, Sandi Schultz, Duane Williams, Shamilla Miller, Patrick Mofokeng',\n",
       "  'South Africa',\n",
       "  'September 24, 2021',\n",
       "  '2021',\n",
       "  'TV-MA',\n",
       "  '2 Seasons',\n",
       "  'International TV Shows, TV Dramas, TV Mysteries',\n",
       "  'After crossing paths at a party, a Cape Town teen sets out to prove whether a private-school swimming star is her sister who was abducted at birth.']]"
      ]
     },
     "execution_count": 19,
     "metadata": {},
     "output_type": "execute_result"
    }
   ],
   "source": [
    "rows[0:2]"
   ]
  },
  {
   "cell_type": "code",
   "execution_count": null,
   "metadata": {},
   "outputs": [],
   "source": []
  }
 ],
 "metadata": {
  "kernelspec": {
   "display_name": "base",
   "language": "python",
   "name": "python3"
  },
  "language_info": {
   "codemirror_mode": {
    "name": "ipython",
    "version": 3
   },
   "file_extension": ".py",
   "mimetype": "text/x-python",
   "name": "python",
   "nbconvert_exporter": "python",
   "pygments_lexer": "ipython3",
   "version": "3.9.12 (main, Apr  4 2022, 05:22:27) [MSC v.1916 64 bit (AMD64)]"
  },
  "orig_nbformat": 4,
  "vscode": {
   "interpreter": {
    "hash": "f920f2f54e1424f7d1c7da139b726d98c9a7e9659687bffb8714be585c4594a9"
   }
  }
 },
 "nbformat": 4,
 "nbformat_minor": 2
}
