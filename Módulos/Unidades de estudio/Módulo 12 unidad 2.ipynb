{
 "cells": [
  {
   "attachments": {},
   "cell_type": "markdown",
   "metadata": {},
   "source": [
    "#### Uso de funciones estadísticas"
   ]
  },
  {
   "attachments": {},
   "cell_type": "markdown",
   "metadata": {},
   "source": [
    "* Importaciónd de funciones seleccionadas desde el módulo \"statistics\"\n",
    "* Uso del comando from"
   ]
  },
  {
   "cell_type": "code",
   "execution_count": 2,
   "metadata": {},
   "outputs": [],
   "source": [
    "# Uso de funciones\n",
    "# Partes de Módulos completos\n",
    "# Importa algunos cálculos estadísticos básicos desde la librería \"statistics\"\n",
    "from statistics import mean, median, mode, stdev"
   ]
  },
  {
   "cell_type": "code",
   "execution_count": 3,
   "metadata": {},
   "outputs": [
    {
     "data": {
      "text/plain": [
       "80.57142857142857"
      ]
     },
     "execution_count": 3,
     "metadata": {},
     "output_type": "execute_result"
    }
   ],
   "source": [
    "# un ejemplo simple para calcular la media\n",
    "test_scores = [40,85,92,76,94,99,78]\n",
    "mean(test_scores)"
   ]
  },
  {
   "cell_type": "code",
   "execution_count": 4,
   "metadata": {},
   "outputs": [
    {
     "name": "stdout",
     "output_type": "stream",
     "text": [
      "Media = 80.571\n"
     ]
    }
   ],
   "source": [
    "# para redondear decimales\n",
    "print(\"Media = {:.3f}\".format(mean(test_scores)))"
   ]
  },
  {
   "cell_type": "code",
   "execution_count": 5,
   "metadata": {},
   "outputs": [],
   "source": [
    "import csv\n",
    "import os\n",
    "file= open(r\"./netflix_titles.csv\", encoding = \"utf-8\")\n",
    "csvreader=csv.reader(file)"
   ]
  },
  {
   "cell_type": "code",
   "execution_count": 6,
   "metadata": {},
   "outputs": [
    {
     "data": {
      "text/plain": [
       "['show_id',\n",
       " 'type',\n",
       " 'title',\n",
       " 'director',\n",
       " 'cast',\n",
       " 'country',\n",
       " 'date_added',\n",
       " 'release_year',\n",
       " 'rating',\n",
       " 'duration',\n",
       " 'listed_in',\n",
       " 'description']"
      ]
     },
     "execution_count": 6,
     "metadata": {},
     "output_type": "execute_result"
    }
   ],
   "source": [
    "# para \"fijar\" el encabezado\n",
    "header=[]\n",
    "header = next(csvreader)\n",
    "header"
   ]
  },
  {
   "cell_type": "code",
   "execution_count": 7,
   "metadata": {},
   "outputs": [],
   "source": [
    "rows=[]\n",
    "for row in csvreader:\n",
    "    rows.append(row)\n"
   ]
  },
  {
   "cell_type": "code",
   "execution_count": 8,
   "metadata": {},
   "outputs": [],
   "source": [
    "#TRANSFORMACIÓN NUMÉRICA\n",
    "# Qué tal si ahora utilizamos nuestra base de datos y calculamos, sobre el campo año\n",
    "# la misma media\n",
    "\n",
    "#importamos el módulo numpy\n",
    "import numpy as np"
   ]
  },
  {
   "cell_type": "code",
   "execution_count": 9,
   "metadata": {},
   "outputs": [],
   "source": [
    "# Generamos el objeto movies con todas las filas de la lista\n",
    "movies= np.array(rows)"
   ]
  },
  {
   "cell_type": "code",
   "execution_count": 10,
   "metadata": {},
   "outputs": [
    {
     "data": {
      "text/plain": [
       "array(['s1', 'Movie', 'Dick Johnson Is Dead', 'Kirsten Johnson', '',\n",
       "       'United States', 'September 25, 2021', '2020', 'PG-13', '90 min',\n",
       "       'Documentaries',\n",
       "       'As her father nears the end of his life, filmmaker Kirsten Johnson stages his death in inventive and comical ways to help them both face the inevitable.'],\n",
       "      dtype='<U771')"
      ]
     },
     "execution_count": 10,
     "metadata": {},
     "output_type": "execute_result"
    }
   ],
   "source": [
    "# muestra la primera línea del archivo\n",
    "movies [0]"
   ]
  },
  {
   "cell_type": "code",
   "execution_count": 13,
   "metadata": {},
   "outputs": [
    {
     "data": {
      "text/plain": [
       "array([['s1', 'Movie', 'Dick Johnson Is Dead', 'Kirsten Johnson', '',\n",
       "        'United States', 'September 25, 2021'],\n",
       "       ['s2', 'TV Show', 'Blood & Water', '',\n",
       "        'Ama Qamata, Khosi Ngema, Gail Mabalane, Thabang Molaba, Dillon Windvogel, Natasha Thahane, Arno Greeff, Xolile Tshabalala, Getmore Sithole, Cindy Mahlangu, Ryle De Morny, Greteli Fincham, Sello Maake Ka-Ncube, Odwa Gwanya, Mekaila Mathys, Sandi Schultz, Duane Williams, Shamilla Miller, Patrick Mofokeng',\n",
       "        'South Africa', 'September 24, 2021'],\n",
       "       ['s3', 'TV Show', 'Ganglands', 'Julien Leclercq',\n",
       "        'Sami Bouajila, Tracy Gotoas, Samuel Jouy, Nabiha Akkari, Sofia Lesaffre, Salim Kechiouche, Noureddine Farihi, Geert Van Rampelberg, Bakary Diombera',\n",
       "        '', 'September 24, 2021'],\n",
       "       ['s4', 'TV Show', 'Jailbirds New Orleans', '', '', '',\n",
       "        'September 24, 2021'],\n",
       "       ['s5', 'TV Show', 'Kota Factory', '',\n",
       "        'Mayur More, Jitendra Kumar, Ranjan Raj, Alam Khan, Ahsaas Channa, Revathi Pillai, Urvi Singh, Arun Kumar',\n",
       "        'India', 'September 24, 2021'],\n",
       "       ['s6', 'TV Show', 'Midnight Mass', 'Mike Flanagan',\n",
       "        'Kate Siegel, Zach Gilford, Hamish Linklater, Henry Thomas, Kristin Lehman, Samantha Sloyan, Igby Rigney, Rahul Kohli, Annarah Cymone, Annabeth Gish, Alex Essoe, Rahul Abburi, Matt Biedel, Michael Trucco, Crystal Balint, Louis Oliver',\n",
       "        '', 'September 24, 2021'],\n",
       "       ['s7', 'Movie', 'My Little Pony: A New Generation',\n",
       "        'Robert Cullen, José Luis Ucha',\n",
       "        'Vanessa Hudgens, Kimiko Glenn, James Marsden, Sofia Carson, Liza Koshy, Ken Jeong, Elizabeth Perkins, Jane Krakowski, Michael McKean, Phil LaMarr',\n",
       "        '', 'September 24, 2021'],\n",
       "       ['s8', 'Movie', 'Sankofa', 'Haile Gerima',\n",
       "        'Kofi Ghanaba, Oyafunmike Ogunlano, Alexandra Duah, Nick Medley, Mutabaruka, Afemo Omilami, Reggie Carter, Mzuri',\n",
       "        'United States, Ghana, Burkina Faso, United Kingdom, Germany, Ethiopia',\n",
       "        'September 24, 2021'],\n",
       "       ['s9', 'TV Show', 'The Great British Baking Show',\n",
       "        'Andy Devonshire',\n",
       "        'Mel Giedroyc, Sue Perkins, Mary Berry, Paul Hollywood',\n",
       "        'United Kingdom', 'September 24, 2021'],\n",
       "       ['s10', 'Movie', 'The Starling', 'Theodore Melfi',\n",
       "        \"Melissa McCarthy, Chris O'Dowd, Kevin Kline, Timothy Olyphant, Daveed Diggs, Skyler Gisondo, Laura Harrier, Rosalind Chao, Kimberly Quinn, Loretta Devine, Ravi Kapoor\",\n",
       "        'United States', 'September 24, 2021'],\n",
       "       ['s11', 'TV Show', 'Vendetta: Truth, Lies and The Mafia', '', '',\n",
       "        '', 'September 24, 2021'],\n",
       "       ['s12', 'TV Show', 'Bangkok Breaking', 'Kongkiat Komesiri',\n",
       "        'Sukollawat Kanarot, Sushar Manaying, Pavarit Mongkolpisit, Sahajak Boonthanakit, Suthipongse Thatphithakkul, Bhasaworn Bawronkirati, Daweerit Chullasapya, Waratthaya Wongchayaporn, Kittiphoom Wongpentak, Abhicha Thanachanun, Nophand Boonyai, Kittipong Khamsat, Arisara Wongchalee, Jaytiya Naiwattanakul, Pantipa Arunwattanachai, Panupan Jantanawong, Kungtap Saelim, Phumphat Chartsuriyakiat, Issara Veranitinunt, Keerati Sivakuae, Panjai Sirisuwan, Supranee Charoenpol, Suda Chuenban, Visaka Banhansupavat, Pitchatorn Santinatornkul',\n",
       "        '', 'September 23, 2021'],\n",
       "       ['s13', 'Movie', 'Je Suis Karl', 'Christian Schwochow',\n",
       "        'Luna Wedler, Jannis Niewöhner, Milan Peschel, Edin Hasanović, Anna Fialová, Marlon Boess, Victor Boccard, Fleur Geffrier, Aziz Dyab, Mélanie Fouché, Elizaveta Maximová',\n",
       "        'Germany, Czech Republic', 'September 23, 2021'],\n",
       "       ['s14', 'Movie', 'Confessions of an Invisible Girl',\n",
       "        'Bruno Garotti',\n",
       "        'Klara Castanho, Lucca Picon, Júlia Gomes, Marcus Bessa, Kiria Malheiros, Fernanda Concon, Gabriel Lima, Caio Cabral, Leonardo Cidade, Jade Cardozo',\n",
       "        '', 'September 22, 2021'],\n",
       "       ['s15', 'TV Show', 'Crime Stories: India Detectives', '', '', '',\n",
       "        'September 22, 2021'],\n",
       "       ['s16', 'TV Show', 'Dear White People', '',\n",
       "        'Logan Browning, Brandon P. Bell, DeRon Horton, Antoinette Robertson, John Patrick Amedori, Ashley Blaine Featherson, Marque Richardson, Giancarlo Esposito',\n",
       "        'United States', 'September 22, 2021'],\n",
       "       ['s17', 'Movie',\n",
       "        \"Europe's Most Dangerous Man: Otto Skorzeny in Spain\",\n",
       "        'Pedro de Echave García, Pablo Azorín Williams', '', '',\n",
       "        'September 22, 2021'],\n",
       "       ['s18', 'TV Show', 'Falsa identidad', '',\n",
       "        'Luis Ernesto Franco, Camila Sodi, Sergio Goyri, Samadhi Zendejas, Eduardo Yáñez, Sonya Smith, Alejandro Camacho, Azela Robinson, Uriel del Toro, Géraldine Bazán, Gabriela Roel, Marcus Ornellas',\n",
       "        'Mexico', 'September 22, 2021'],\n",
       "       ['s19', 'Movie', 'Intrusion', 'Adam Salky',\n",
       "        'Freida Pinto, Logan Marshall-Green, Robert John Burke, Megan Elisabeth Kelly, Sarah Minnich, Hayes Hargrove, Mark Sivertsen, Brandon Fierro, Antonio Valles, Clint Obenchain',\n",
       "        '', 'September 22, 2021'],\n",
       "       ['s20', 'TV Show', 'Jaguar', '',\n",
       "        'Blanca Suárez, Iván Marcos, Óscar Casas, Adrián Lastra, Francesc Garrido, Stefan Weinert, Julia Möller, Alicia Chojnowski',\n",
       "        '', 'September 22, 2021'],\n",
       "       ['s21', 'TV Show',\n",
       "        'Monsters Inside: The 24 Faces of Billy Milligan',\n",
       "        'Olivier Megaton', '', '', 'September 22, 2021'],\n",
       "       ['s22', 'TV Show', 'Resurrection: Ertugrul', '',\n",
       "        'Engin Altan Düzyatan, Serdar Gökhan, Hülya Darcan, Kaan Taşaner, Esra Bilgiç, Osman Soykut, Serdar Deniz, Cengiz Coşkun, Reshad Strik, Hande Subaşı',\n",
       "        'Turkey', 'September 22, 2021'],\n",
       "       ['s23', 'Movie', 'Avvai Shanmughi', 'K.S. Ravikumar',\n",
       "        'Kamal Hassan, Meena, Gemini Ganesan, Heera Rajgopal, Nassar, S.P. Balasubrahmanyam',\n",
       "        '', 'September 21, 2021'],\n",
       "       ['s24', 'Movie', 'Go! Go! Cory Carson: Chrissy Takes the Wheel',\n",
       "        'Alex Woo, Stanley Moore',\n",
       "        'Maisie Benson, Paul Killam, Kerry Gudjohnsen, AC Lim', '',\n",
       "        'September 21, 2021'],\n",
       "       ['s25', 'Movie', 'Jeans', 'S. Shankar',\n",
       "        'Prashanth, Aishwarya Rai Bachchan, Sri Lakshmi, Nassar',\n",
       "        'India', 'September 21, 2021'],\n",
       "       ['s26', 'TV Show', 'Love on the Spectrum', '', 'Brooke Satchwell',\n",
       "        'Australia', 'September 21, 2021'],\n",
       "       ['s27', 'Movie', 'Minsara Kanavu', 'Rajiv Menon',\n",
       "        'Arvind Swamy, Kajol, Prabhu Deva, Nassar, S.P. Balasubrahmanyam, Girish Karnad',\n",
       "        '', 'September 21, 2021'],\n",
       "       ['s28', 'Movie', 'Grown Ups', 'Dennis Dugan',\n",
       "        'Adam Sandler, Kevin James, Chris Rock, David Spade, Rob Schneider, Salma Hayek, Maria Bello, Maya Rudolph, Colin Quinn, Tim Meadows, Joyce Van Patten',\n",
       "        'United States', 'September 20, 2021'],\n",
       "       ['s29', 'Movie', 'Dark Skies', 'Scott Stewart',\n",
       "        'Keri Russell, Josh Hamilton, J.K. Simmons, Dakota Goyo, Kadan Rockett, L.J. Benet, Rich Hutchman, Myndy Crist, Annie Thurman, Jake Brennan',\n",
       "        'United States', 'September 19, 2021'],\n",
       "       ['s30', 'Movie', 'Paranoia', 'Robert Luketic',\n",
       "        'Liam Hemsworth, Gary Oldman, Amber Heard, Harrison Ford, Lucas Till, Embeth Davidtz, Julian McMahon, Josh Holloway, Richard Dreyfuss, Angela Sarafyan',\n",
       "        'United States, India, France', 'September 19, 2021'],\n",
       "       ['s31', 'Movie', 'Ankahi Kahaniya',\n",
       "        'Ashwiny Iyer Tiwari, Abhishek Chaubey, Saket Chaudhary',\n",
       "        'Abhishek Banerjee, Rinku Rajguru, Delzad Hiwale, Kunal Kapoor, Zoya Hussain, Nikhil Dwivedi, Palomi Ghosh',\n",
       "        '', 'September 17, 2021'],\n",
       "       ['s32', 'TV Show', 'Chicago Party Aunt', '',\n",
       "        \"Lauren Ash, Rory O'Malley, RuPaul Charles, Jill Talley, Ike Barinholtz, Jon Barinholtz, Matthew Craig, Bob Odenkirk, Mike Hagerty, Katie Rich, Chris Witaske\",\n",
       "        '', 'September 17, 2021'],\n",
       "       ['s33', 'TV Show', 'Sex Education', '',\n",
       "        'Asa Butterfield, Gillian Anderson, Ncuti Gatwa, Emma Mackey, Connor Swindells, Kedar Williams-Stirling, Alistair Petrie',\n",
       "        'United Kingdom', 'September 17, 2021'],\n",
       "       ['s34', 'TV Show', 'Squid Game', '',\n",
       "        'Lee Jung-jae, Park Hae-soo, Wi Ha-jun, Oh Young-soo, Jung Ho-yeon, Heo Sung-tae, Kim Joo-ryoung, Tripathi Anupam, You Seong-joo, Lee You-mi',\n",
       "        '', 'September 17, 2021'],\n",
       "       ['s35', 'TV Show', 'Tayo and Little Wizards', '',\n",
       "        'Dami Lee, Jason Lee, Bommie Catherine Han, Jennifer Waescher, Nancy Kim',\n",
       "        '', 'September 17, 2021'],\n",
       "       ['s36', 'Movie', 'The Father Who Moves Mountains', 'Daniel Sandu',\n",
       "        'Adrian Titieni, Elena Purea, Judith State, Valeriu Andriuță, Tudor Smoleanu, Virgil Aioanei, Radu Botar, Petronela Grigorescu, Bogdan Nechifor, Cristian Bota',\n",
       "        '', 'September 17, 2021'],\n",
       "       ['s37', 'Movie', 'The Stronghold', 'Cédric Jimenez',\n",
       "        'Gilles Lellouche, Karim Leklou, François Civil, Adèle Exarchopoulos, Kenza Fortas, Cyril Lecomte, Michaël Abiteboul, Idir Azougli, Vincent Darmuzey, Jean-Yves Berteloot',\n",
       "        '', 'September 17, 2021'],\n",
       "       ['s38', 'TV Show', 'Angry Birds', '',\n",
       "        'Antti Pääkkönen, Heljä Heikkinen, Lynne Guaglione, Pasi Ruohonen, Rauno Ahonen',\n",
       "        'Finland', 'September 16, 2021'],\n",
       "       ['s39', 'Movie', 'Birth of the Dragon', 'George Nolfi',\n",
       "        'Billy Magnussen, Ron Yuan, Qu Jingjing, Terry Chen, Vanness Wu, Jin Xing, Philip Ng, Xia Yu, Yu Xia',\n",
       "        'China, Canada, United States', 'September 16, 2021'],\n",
       "       ['s40', 'TV Show', 'Chhota Bheem', '',\n",
       "        'Vatsal Dubey, Julie Tejwani, Rupa Bhimani, Jigna Bhardwaj, Rajesh Kava, Mousam, Swapnil',\n",
       "        'India', 'September 16, 2021'],\n",
       "       ['s41', 'TV Show', 'He-Man and the Masters of the Universe', '',\n",
       "        'Yuri Lowenthal, Kimberly Brooks, Antony Del Rio, Trevor Devall, Ben Diskin, Grey Griffin, David Kaye, Tom Kenny, Judy Alice Lee, Roger Craig Smith, Fred Tatasciore',\n",
       "        'United States', 'September 16, 2021'],\n",
       "       ['s42', 'Movie', 'Jaws', 'Steven Spielberg',\n",
       "        'Roy Scheider, Robert Shaw, Richard Dreyfuss, Lorraine Gary, Murray Hamilton, Carl Gottlieb, Jeffrey Kramer, Susan Backlinie, Jonathan Filley, Ted Grossman',\n",
       "        'United States', 'September 16, 2021'],\n",
       "       ['s43', 'Movie', 'Jaws 2', 'Jeannot Szwarc',\n",
       "        'Roy Scheider, Lorraine Gary, Murray Hamilton, Joseph Mascolo, Jeffrey Kramer, Collin Wilcox Paxton, Ann Dusenberry, Mark Gruner, Barry Coe, Susan French',\n",
       "        'United States', 'September 16, 2021'],\n",
       "       ['s44', 'Movie', 'Jaws 3', 'Joe Alves',\n",
       "        'Dennis Quaid, Bess Armstrong, Simon MacCorkindale, Louis Gossett Jr., John Putch, Lea Thompson, P.H. Moriarty, Dan Blasko, Liz Morris, Lisa Maurer',\n",
       "        'United States', 'September 16, 2021'],\n",
       "       ['s45', 'Movie', 'Jaws: The Revenge', 'Joseph Sargent',\n",
       "        'Lorraine Gary, Lance Guest, Mario Van Peebles, Karen Young, Michael Caine, Judith Barsi, Mitchell Anderson, Lynn Whitfield',\n",
       "        'United States', 'September 16, 2021'],\n",
       "       ['s46', 'Movie', 'My Heroes Were Cowboys', 'Tyler Greco', '', '',\n",
       "        'September 16, 2021'],\n",
       "       ['s47', 'Movie', 'Safe House', 'Daniel Espinosa',\n",
       "        'Denzel Washington, Ryan Reynolds, Vera Farmiga, Brendan Gleeson, Sam Shepard, Rubén Blades, Nora Arnezeder, Robert Patrick, Liam Cunningham, Joel Kinnaman',\n",
       "        'South Africa, United States, Japan', 'September 16, 2021'],\n",
       "       ['s48', 'TV Show', 'The Smart Money Woman', 'Bunmi Ajakaiye',\n",
       "        'Osas Ighodaro, Ini Dima-Okojie, Kemi Lala Akindoju, Toni Tones, Ebenezer Eno, Eso Okolocha DIke, Patrick Diabuah, Karibi Fubara, Temisan Emmanuel, Timini Egbuson',\n",
       "        '', 'September 16, 2021'],\n",
       "       ['s49', 'Movie', 'Training Day', 'Antoine Fuqua',\n",
       "        'Denzel Washington, Ethan Hawke, Scott Glenn, Tom Berenger, Harris Yulin, Raymond J. Barry, Cliff Curtis, Dr. Dre, Snoop Dogg, Macy Gray, Eva Mendes',\n",
       "        'United States', 'September 16, 2021']], dtype='<U771')"
      ]
     },
     "execution_count": 13,
     "metadata": {},
     "output_type": "execute_result"
    }
   ],
   "source": [
    "# Muestra la columna de año, para las primeras 50 películas\n",
    "# Recordar que cuando se utilizan arrays (numpy) los índices empiezan de cero!\n",
    "\n",
    "# Se obtiene el campo 8 (año), de las primeras 50 películas\n",
    "movies [0:49,0:7]"
   ]
  },
  {
   "cell_type": "code",
   "execution_count": 48,
   "metadata": {},
   "outputs": [
    {
     "data": {
      "text/plain": [
       "numpy.str_"
      ]
     },
     "execution_count": 48,
     "metadata": {},
     "output_type": "execute_result"
    }
   ],
   "source": [
    "# convertir la columna de año en valores (es un string)\n",
    "type(movies[0,7])"
   ]
  },
  {
   "cell_type": "code",
   "execution_count": 50,
   "metadata": {},
   "outputs": [
    {
     "data": {
      "text/plain": [
       "array(['2020', '2021', '2021', ..., '2009', '2006', '2015'], dtype='<U771')"
      ]
     },
     "execution_count": 50,
     "metadata": {},
     "output_type": "execute_result"
    }
   ],
   "source": [
    "# vamos a generar un array solamente de los años, para trabajar sobre el\n",
    "release_year = movies[:,7]\n",
    "release_year"
   ]
  },
  {
   "cell_type": "code",
   "execution_count": 51,
   "metadata": {},
   "outputs": [
    {
     "data": {
      "text/plain": [
       "[2020, 2021, 2021, 2021, 2021, 2021, 2021, 1993, 2021, 2021]"
      ]
     },
     "execution_count": 51,
     "metadata": {},
     "output_type": "execute_result"
    }
   ],
   "source": [
    "# Transformación del array en números\n",
    "release_year_int = [int(numeric_string) for numeric_string in release_year]\n",
    "release_year_int[0:10]"
   ]
  },
  {
   "cell_type": "code",
   "execution_count": 52,
   "metadata": {},
   "outputs": [
    {
     "data": {
      "text/plain": [
       "2014.1801975701146"
      ]
     },
     "execution_count": 52,
     "metadata": {},
     "output_type": "execute_result"
    }
   ],
   "source": [
    "# promedio en que se lanzaron las películas\n",
    "mean (release_year_int)"
   ]
  },
  {
   "cell_type": "code",
   "execution_count": 53,
   "metadata": {},
   "outputs": [
    {
     "data": {
      "image/png": "[encoded data removed]",
      "text/plain": [
       "<Figure size 432x288 with 1 Axes>"
      ]
     },
     "metadata": {
      "needs_background": "light"
     },
     "output_type": "display_data"
    }
   ],
   "source": [
    "# primer gráfico, una distribución de los años\n",
    "import matplotlib.pyplot as plt\n",
    "plt.hist(release_year_int)\n",
    "plt.show()"
   ]
  },
  {
   "cell_type": "code",
   "execution_count": 58,
   "metadata": {},
   "outputs": [
    {
     "data": {
      "image/png": "[encoded data removed]",
      "text/plain": [
       "<Figure size 432x288 with 1 Axes>"
      ]
     },
     "metadata": {
      "needs_background": "light"
     },
     "output_type": "display_data"
    }
   ],
   "source": [
    "# subimos el número de bins (rangos de números)\n",
    "plt.hist(release_year_int, bins=50)\n",
    "plt.show()"
   ]
  },
  {
   "cell_type": "code",
   "execution_count": 59,
   "metadata": {},
   "outputs": [
    {
     "data": {
      "image/png": "[encoded data removed]",
      "text/plain": [
       "<Figure size 432x288 with 1 Axes>"
      ]
     },
     "metadata": {
      "needs_background": "light"
     },
     "output_type": "display_data"
    }
   ],
   "source": [
    "#Generamos un título\n",
    "plt.hist(release_year_int, bins=50)\n",
    "plt.title(\"Histograma de Número de Películas por año - DB Netflix\")\n",
    "plt.show()"
   ]
  },
  {
   "cell_type": "code",
   "execution_count": null,
   "metadata": {},
   "outputs": [],
   "source": []
  }
 ],
 "metadata": {
  "kernelspec": {
   "display_name": "base",
   "language": "python",
   "name": "python3"
  },
  "language_info": {
   "codemirror_mode": {
    "name": "ipython",
    "version": 3
   },
   "file_extension": ".py",
   "mimetype": "text/x-python",
   "name": "python",
   "nbconvert_exporter": "python",
   "pygments_lexer": "ipython3",
   "version": "3.9.12"
  },
  "orig_nbformat": 4,
  "vscode": {
   "interpreter": {
    "hash": "f920f2f54e1424f7d1c7da139b726d98c9a7e9659687bffb8714be585c4594a9"
   }
  }
 },
 "nbformat": 4,
 "nbformat_minor": 2
}
