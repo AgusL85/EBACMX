{
 "cells": [
  {
   "attachments": {},
   "cell_type": "markdown",
   "metadata": {},
   "source": [
    "#### Manejo de datos básico\n",
    "\n",
    "\n"
   ]
  },
  {
   "cell_type": "code",
   "execution_count": 3,
   "metadata": {},
   "outputs": [],
   "source": [
    "import csv\n",
    "import os\n",
    "import numpy as np\n",
    "from statistics import mean, median, mode, stdev\n",
    "file= open(r\"./netflix_titles.csv\", encoding = \"utf-8\")\n",
    "csvreader=csv.reader(file)"
   ]
  },
  {
   "cell_type": "code",
   "execution_count": 4,
   "metadata": {},
   "outputs": [
    {
     "data": {
      "text/plain": [
       "['show_id',\n",
       " 'type',\n",
       " 'title',\n",
       " 'director',\n",
       " 'cast',\n",
       " 'country',\n",
       " 'date_added',\n",
       " 'release_year',\n",
       " 'rating',\n",
       " 'duration',\n",
       " 'listed_in',\n",
       " 'description']"
      ]
     },
     "execution_count": 4,
     "metadata": {},
     "output_type": "execute_result"
    }
   ],
   "source": [
    "header=[]\n",
    "header = next(csvreader)\n",
    "header"
   ]
  },
  {
   "cell_type": "code",
   "execution_count": 5,
   "metadata": {},
   "outputs": [],
   "source": [
    "rows=[]\n",
    "for row in csvreader:\n",
    "    rows.append(row)\n"
   ]
  },
  {
   "cell_type": "code",
   "execution_count": 6,
   "metadata": {},
   "outputs": [
    {
     "data": {
      "text/plain": [
       "array(['2020', '2021', '2021', ..., '2009', '2006', '2015'], dtype='<U771')"
      ]
     },
     "execution_count": 6,
     "metadata": {},
     "output_type": "execute_result"
    }
   ],
   "source": [
    "movies= np.array(rows)\n",
    "movies [0:49,7]\n",
    "release_year = movies[:,7]\n",
    "release_year"
   ]
  },
  {
   "cell_type": "code",
   "execution_count": 7,
   "metadata": {},
   "outputs": [
    {
     "data": {
      "text/plain": [
       "[2020, 2021, 2021, 2021, 2021, 2021, 2021, 1993, 2021, 2021]"
      ]
     },
     "execution_count": 7,
     "metadata": {},
     "output_type": "execute_result"
    }
   ],
   "source": [
    "release_year_int = [int(numeric_string) for numeric_string in release_year]\n",
    "release_year_int[0:10]"
   ]
  },
  {
   "cell_type": "code",
   "execution_count": 8,
   "metadata": {},
   "outputs": [
    {
     "data": {
      "text/plain": [
       "2014.1801975701146"
      ]
     },
     "execution_count": 8,
     "metadata": {},
     "output_type": "execute_result"
    }
   ],
   "source": [
    "mean(release_year_int)"
   ]
  },
  {
   "cell_type": "code",
   "execution_count": 9,
   "metadata": {},
   "outputs": [
    {
     "name": "stdout",
     "output_type": "stream",
     "text": [
      "En promedio, el año en el que se generaron las películas del archivo es el 2014\n",
      "Además, la desviación estándar de los datos nos muestra que se tienen 8 años de desviación estándar\n",
      "El primer año que se muestra en los datos es 1925\n",
      "El último año que se incluye en los datos es 2021\n"
     ]
    }
   ],
   "source": [
    "# Cálculo de la media y desviación estándar\n",
    "mean_year = mean(release_year_int)\n",
    "stdev_year = stdev(release_year_int)\n",
    "min_year = min(release_year_int)\n",
    "max_year = max(release_year_int)\n",
    "\n",
    "\n",
    "# Primer reporte estadístico de los datos\n",
    "print(\"En promedio, el año en el que se generaron las películas del archivo es el\" , int(mean_year))\n",
    "print(\"Además, la desviación estándar de los datos nos muestra que se tienen\", int(stdev_year), \"años de desviación estándar\")\n",
    "print(\"El primer año que se muestra en los datos es\",int(min_year))\n",
    "print(\"El último año que se incluye en los datos es\",int(max_year))\n"
   ]
  },
  {
   "cell_type": "code",
   "execution_count": 22,
   "metadata": {},
   "outputs": [],
   "source": [
    "# Ahora bien, estos datos nos sirven para entender los años en las que las películas se mostraron al público.\n",
    "# No sé si será tan relevante saber el año promedio, pero si saber cómo hacerlo!\n"
   ]
  },
  {
   "cell_type": "code",
   "execution_count": 10,
   "metadata": {},
   "outputs": [
    {
     "data": {
      "text/plain": [
       "array(['90 min', '2 Seasons', '1 Season', '1 Season', '2 Seasons',\n",
       "       '1 Season', '91 min', '125 min', '9 Seasons', '104 min'],\n",
       "      dtype='<U771')"
      ]
     },
     "execution_count": 10,
     "metadata": {},
     "output_type": "execute_result"
    }
   ],
   "source": [
    "# ahora se trabajará cpn el campo de \"duración\"\n",
    "# Asignamos al array duration las duraciones de todas las películas\n",
    "duration = movies [0:,9]\n",
    "duration[0:10]\n",
    "\n",
    "# las duraciones pueden estar en \"min\"= minutos, o en \"season\" o \"seasons\"= temporadas\n",
    "# cómo obtener la duración promedio de las películas\n"
   ]
  },
  {
   "cell_type": "code",
   "execution_count": 25,
   "metadata": {},
   "outputs": [],
   "source": [
    "# una definición inicial, es que vamos a obtener nada mas información de películs, no series.\n",
    "# esto quiere decir que SOLAMENTE nos vamos a enfocar en las películas que terminenen \"min\""
   ]
  },
  {
   "cell_type": "code",
   "execution_count": 11,
   "metadata": {},
   "outputs": [
    {
     "data": {
      "text/plain": [
       "array(['90 min', '91 min', '125 min', '104 min', '127 min', '91 min',\n",
       "       '67 min', '94 min', '161 min'], dtype='<U771')"
      ]
     },
     "execution_count": 11,
     "metadata": {},
     "output_type": "execute_result"
    }
   ],
   "source": [
    "# obtiene las primeras diez películas que vienen en minutos\n",
    "movies[np.char.endswith(movies,\"min\")][:9]"
   ]
  },
  {
   "cell_type": "code",
   "execution_count": 12,
   "metadata": {},
   "outputs": [
    {
     "data": {
      "text/plain": [
       "array(['90 min', '91 min', '125 min', ..., '88 min', '88 min', '111 min'],\n",
       "      dtype='<U771')"
      ]
     },
     "execution_count": 12,
     "metadata": {},
     "output_type": "execute_result"
    }
   ],
   "source": [
    "# Generar un array de las duraciones en minutos\n",
    "duration_min = (duration[np.char.endswith(duration,\"min\")])\n",
    "duration_min"
   ]
  },
  {
   "cell_type": "code",
   "execution_count": 13,
   "metadata": {},
   "outputs": [
    {
     "data": {
      "text/plain": [
       "array(['90 ', '91 ', '125 ', ..., '88 ', '88 ', '111 '], dtype='<U771')"
      ]
     },
     "execution_count": 13,
     "metadata": {},
     "output_type": "execute_result"
    }
   ],
   "source": [
    "# Una ve que tenemos las películas terminadas en min, se convierte el registro, e.j. \"90 min\" a un número =90\n",
    "# Eso se hace utilizando la función \"strip\" de la librería numpy (np.char)\n",
    "\n",
    "#Elimina la terminación \"min\"\n",
    "duration_min_end = np.char.strip(duration_min,\"min\") # se elimina el min pero sigue siendo texto\n",
    "duration_min_end"
   ]
  },
  {
   "cell_type": "code",
   "execution_count": 14,
   "metadata": {},
   "outputs": [
    {
     "data": {
      "text/plain": [
       "[90, 91, 125, 104, 127, 91, 67, 94, 161]"
      ]
     },
     "execution_count": 14,
     "metadata": {},
     "output_type": "execute_result"
    }
   ],
   "source": [
    "# entonces transformamos el array en números\n",
    "duration_min_int = [int(numeric_string) for numeric_string in duration_min_end]\n",
    "# Muestra las primeras diez películas con sus duraciones\n",
    "duration_min_int[0:9]"
   ]
  },
  {
   "cell_type": "code",
   "execution_count": 15,
   "metadata": {},
   "outputs": [
    {
     "name": "stdout",
     "output_type": "stream",
     "text": [
      "En promedio, la duración de las películas del conjunto de datos es 99 minutos.\n",
      "Además, la desviación estándar de los datos nos muestra que se tiene 28 minutos.\n",
      "La película con menor duración es de 3 minutos.\n",
      "La película con mayor duración es de 312 minutos\n"
     ]
    }
   ],
   "source": [
    "# Asi, se obtiene un nuevo reporte estadístico, mucho más interesante\n",
    "# Enfocada en las duraciones de las películas \n",
    "\n",
    "mean_movie = mean(duration_min_int)\n",
    "stdev_movie = stdev(duration_min_int)\n",
    "min_movie = min(duration_min_int)\n",
    "max_movie = max(duration_min_int)\n",
    "\n",
    "\n",
    "# Primer reporte estadístico de los datos\n",
    "print(\"En promedio, la duración de las películas del conjunto de datos es\", int(mean_movie), \"minutos.\")\n",
    "print(\"Además, la desviación estándar de los datos nos muestra que se tiene\", int(stdev_movie), \"minutos.\")\n",
    "print(\"La película con menor duración es de\",int(min_movie), \"minutos.\")\n",
    "print(\"La película con mayor duración es de\",int(max_movie), \"minutos\")"
   ]
  },
  {
   "cell_type": "code",
   "execution_count": 16,
   "metadata": {},
   "outputs": [
    {
     "data": {
      "image/png": "[encoded data removed]",
      "text/plain": [
       "<Figure size 432x288 with 1 Axes>"
      ]
     },
     "metadata": {
      "needs_background": "light"
     },
     "output_type": "display_data"
    }
   ],
   "source": [
    "# Nuevos gráficos\n",
    "import matplotlib.pyplot as plt\n",
    "plt.title(\"Histograma de Duración de Películas\")\n",
    "plt.hist(duration_min_int, bins=50)\n",
    "plt.show()\n"
   ]
  },
  {
   "cell_type": "code",
   "execution_count": 18,
   "metadata": {},
   "outputs": [
    {
     "name": "stdout",
     "output_type": "stream",
     "text": [
      "[False False False ... False False False]\n",
      "[['s3778' 'Movie' 'Silent' 'Limbert Fabian, Brandon Oldenburg' ''\n",
      "  'United States' 'June 4, 2019' '2014' 'TV-Y' '3 min'\n",
      "  'Children & Family Movies, Sci-Fi & Fantasy'\n",
      "  '\"Silent\" is an animated short film created by Academy Award® winning Moonbot Studios. It celebrates how storytellers, inventors, and technology work together to create cinema magic.']]\n"
     ]
    }
   ],
   "source": [
    "# De los resultados obtenidos surgen las siguientes preguntas:\n",
    "# ¿qué películas corresponden a la más corta y más larga?\n",
    "# Tip: buscar por \"3 min\" y \"312 min\" en la base de datos original (no la de duraciones)-movies\n",
    "\n",
    "# Filtro para la película de 3 min\n",
    "filter_arr= (duration == \"3 min\")\n",
    "print (filter_arr)\n",
    "dur_array3min=movies[filter_arr]\n",
    "print(dur_array3min)"
   ]
  },
  {
   "cell_type": "code",
   "execution_count": 19,
   "metadata": {},
   "outputs": [
    {
     "name": "stdout",
     "output_type": "stream",
     "text": [
      "[False False False ... False False False]\n",
      "[['s4254' 'Movie' 'Black Mirror: Bandersnatch' ''\n",
      "  'Fionn Whitehead, Will Poulter, Craig Parkinson, Alice Lowe, Asim Chaudhry'\n",
      "  'United States' 'December 28, 2018' '2018' 'TV-MA' '312 min'\n",
      "  'Dramas, International Movies, Sci-Fi & Fantasy'\n",
      "  'In 1984, a young programmer begins to question reality as he adapts a dark fantasy novel into a video game. A mind-bending tale with multiple endings.']]\n"
     ]
    }
   ],
   "source": [
    "# Filtro para la película de 312 min\n",
    "filter_arr= (duration == \"312 min\")\n",
    "print (filter_arr)\n",
    "dur_array312min=movies[filter_arr]\n",
    "print(dur_array312min)"
   ]
  },
  {
   "cell_type": "code",
   "execution_count": 20,
   "metadata": {},
   "outputs": [
    {
     "name": "stdout",
     "output_type": "stream",
     "text": [
      "Silent\n",
      "Black Mirror: Bandersnatch\n"
     ]
    }
   ],
   "source": [
    "# Para ver el nombre solamente de las películas se puede referir al campo de esta forma\n",
    "# Los índices vienen del primer campo \"s3778\", que es un índice numérico\n",
    "print(movies[3777][2])\n",
    "print(movies[4253][2])\n"
   ]
  },
  {
   "cell_type": "markdown",
   "metadata": {},
   "source": [
    "#### Importando Funciones de Internet\n",
    "* En esta sección, se verá cómo importar funciones de internet.\n",
    "* Para este ejemplo se utilizó una función llamada \"IMDbPY\" http://www.geeksforgeeks.org/python-imdbpy-searching-a-movie/.\n",
    "* IMBD es una base de datos digital enorme de información de películas.\n",
    "* La librería trae información de IMDB - una de las librerías públicas"
   ]
  },
  {
   "attachments": {},
   "cell_type": "markdown",
   "metadata": {},
   "source": [
    "#### Instalación de la librería en nuestro entrono\n",
    "\n",
    "* En muchas ocasiones tendremos que instalar nuevas librerías, y eso se lo hace utilizando el \"terminal\" desde VS Code"
   ]
  },
  {
   "cell_type": "code",
   "execution_count": 21,
   "metadata": {},
   "outputs": [
    {
     "name": "stdout",
     "output_type": "stream",
     "text": [
      "Black Mirror: Bandersnatch\n",
      "Black Mirror: Bandersnatch\n",
      "Black Mirror: Bandersnatch\n",
      "Black Mirror: Bandersnatch\n",
      "Black Mirror: Bandersnatch\n",
      "Black Mirror: Bandersnatch\n",
      "Black Mirror - Bandersnatch\n",
      "Black Mirror Bandersnatch\n",
      "Black Mirror: Bandersnatch - Spoilercast\n",
      "43 - Black Mirror: Bandersnatch (2018)\n",
      "Bird Box/Black Mirror: Bandersnatch\n",
      "DR228: Black Mirror: Bandersnatch and The Masked Singer\n",
      "AFL Season 2020 Round 6 - The Black Mirror Bandersnatch Special\n",
      "Star Wars Park - X-Men & The MCU - Black Mirror: Bandersnatch\n",
      "Choose Your Own Adventure: Customer Service Experience (Black Mirror Bandersnatch Parody)\n",
      "Black Mirror: Bandersnatch Izleme Deneyiminde Bir Devrim mi? - Yeni Sezon Gelmis mi? 1\n",
      "'Siamo serie\": Alla scoperta di Black Mirror: Bandersnatch, After Yang e The Sound of 007.\n",
      "Black Mirror's Bandersnatch... Any Good?\n",
      "Black Mirror: Bandersnach - Final Thoughts & Can This Ever Work Again?\n",
      "Coding for the ZX Spectrum and Netflix/Black Mirror's Bandersnach with Matt Westcott\n"
     ]
    }
   ],
   "source": [
    "# Importando funciones de la web\n",
    "# https://www.geeksforgeeks.org/python-imdbpy-searching-a-movie/\n",
    "# Usando IMDbPY\n",
    "\n",
    "# importando el módulo\n",
    "import imdb\n",
    "# creando una instancia de IMDb\n",
    "ia = imdb.IMDb()\n",
    "# busca el nombre de la película correspondiente a la más corta (s3778) y más larga (s4254)\n",
    "name= movies[4253][2]\n",
    "# busca la película\n",
    "search = ia.search_movie(name)\n",
    "# se imprime el resultado\n",
    "for i in search:\n",
    "    print(i)\n"
   ]
  },
  {
   "cell_type": "code",
   "execution_count": 22,
   "metadata": {},
   "outputs": [
    {
     "name": "stdout",
     "output_type": "stream",
     "text": [
      "Black Mirror: Bandersnatch\n",
      "Black Mirror: Bandersnatch\n",
      "Black Mirror: Bandersnatch\n",
      "Black Mirror: Bandersnatch\n",
      "Black Mirror: Bandersnatch\n",
      "Black Mirror: Bandersnatch\n",
      "Black Mirror - Bandersnatch\n",
      "Black Mirror Bandersnatch\n",
      "Black Mirror: Bandersnatch - Spoilercast\n",
      "43 - Black Mirror: Bandersnatch (2018)\n",
      "Bird Box/Black Mirror: Bandersnatch\n",
      "DR228: Black Mirror: Bandersnatch and The Masked Singer\n",
      "AFL Season 2020 Round 6 - The Black Mirror Bandersnatch Special\n",
      "Star Wars Park - X-Men & The MCU - Black Mirror: Bandersnatch\n",
      "Choose Your Own Adventure: Customer Service Experience (Black Mirror Bandersnatch Parody)\n",
      "Black Mirror: Bandersnatch Izleme Deneyiminde Bir Devrim mi? - Yeni Sezon Gelmis mi? 1\n",
      "'Siamo serie\": Alla scoperta di Black Mirror: Bandersnatch, After Yang e The Sound of 007.\n",
      "Black Mirror's Bandersnatch... Any Good?\n",
      "Black Mirror: Bandersnach - Final Thoughts & Can This Ever Work Again?\n",
      "Coding for the ZX Spectrum and Netflix/Black Mirror's Bandersnach with Matt Westcott\n"
     ]
    }
   ],
   "source": [
    "# busca el nombre de la película correspondiente a la más corta (s3778) y más larga (s4254)\n",
    "name= movies[4253][2]\n",
    "# busca la película\n",
    "search = ia.search_movie(name)\n",
    "# se imprime el resultado\n",
    "for i in search:\n",
    "    print(i)"
   ]
  },
  {
   "cell_type": "code",
   "execution_count": null,
   "metadata": {},
   "outputs": [],
   "source": [
    "# Los resultados traen películas que tienen nombres similares\n",
    "# la librería permite hacer muchas más cosas y en su documentación (internet) se invita a explorarla"
   ]
  },
  {
   "cell_type": "code",
   "execution_count": 23,
   "metadata": {},
   "outputs": [
    {
     "name": "stdout",
     "output_type": "stream",
     "text": [
      "Lana Wachowski\n",
      "Lilly Wachowski\n",
      "['akas', 'animation department', 'art department', 'art direction', 'aspect ratio', 'assistant director', 'box office', 'camera and electrical department', 'canonical title', 'cast', 'casting department', 'casting director', 'certificates', 'cinematographer', 'color info', 'composer', 'costume department', 'costume designer', 'countries', 'country codes', 'cover url', 'director', 'distributors', 'editor', 'editorial department', 'full-size cover url', 'genres', 'imdbID', 'kind', 'language codes', 'languages', 'localized title', 'location management', 'long imdb canonical title', 'long imdb title', 'make up', 'miscellaneous crew', 'music department', 'original air date', 'original title', 'other companies', 'plot outline', 'producer', 'production companies', 'production design', 'production manager', 'rating', 'runtimes', 'script department', 'set decoration', 'smart canonical title', 'smart long imdb canonical title', 'sound crew', 'sound mix', 'special effects', 'special effects companies', 'stunt performer', 'title', 'top 250 rank', 'transportation department', 'videos', 'visual effects', 'votes', 'writer', 'year']\n",
      "['airing', 'akas', 'alternate versions', 'awards', 'connections', 'crazy credits', 'critic reviews', 'episodes', 'external reviews', 'external sites', 'faqs', 'full credits', 'goofs', 'keywords', 'list', 'locations', 'main', 'misc sites', 'news', 'official sites', 'parents guide', 'photo sites', 'plot', 'quotes', 'recommendations', 'release dates', 'release info', 'reviews', 'sound clips', 'soundtrack', 'synopsis', 'taglines', 'technical', 'trivia', 'tv schedule', 'video clips', 'vote details']\n",
      "['tech']\n",
      "{}\n"
     ]
    }
   ],
   "source": [
    "# Ejemplo de lo anterior\n",
    "from imdb import Cinemagoer\n",
    "\n",
    "# create an instance of the Cinemagoer class\n",
    "ia = Cinemagoer()\n",
    "\n",
    "# get a movie and print its director(s)\n",
    "the_matrix = ia.get_movie('0133093')\n",
    "for director in the_matrix['directors']:\n",
    "    print(director['name'])\n",
    "\n",
    "# show all information that are currently available for a movie\n",
    "print(sorted(the_matrix.keys()))\n",
    "\n",
    "# show all information sets that can be fetched for a movie\n",
    "print(ia.get_movie_infoset())\n",
    "\n",
    "# update a Movie object with more information\n",
    "ia.update(the_matrix, ['technical'])\n",
    "# show which keys were added by the information set\n",
    "print(the_matrix.infoset2keys['technical'])\n",
    "# print one of the new keys\n",
    "print(the_matrix.get('tech'))"
   ]
  },
  {
   "attachments": {},
   "cell_type": "markdown",
   "metadata": {},
   "source": [
    "#### Wrap up\n",
    "* Se vieron las funcionalidades principales de importar librerías completas (módulos) y sus funciones/submódulos individuales\n",
    "* Se generó una importación simple de un archivo CSV\n",
    "* Se generó una exploración inicial acerca del manejo estadístico con Numpy\n",
    "* Se instaló una librería utilizando \"pip install\"\n",
    "* Se descargó una librería desde la web para ver información de películas (IMDB) y además se le hicieron algunas consultas para entender su funcionamiento y la implementación de la misma en una aplicación propia"
   ]
  },
  {
   "cell_type": "markdown",
   "metadata": {},
   "source": []
  }
 ],
 "metadata": {
  "kernelspec": {
   "display_name": "base",
   "language": "python",
   "name": "python3"
  },
  "language_info": {
   "codemirror_mode": {
    "name": "ipython",
    "version": 3
   },
   "file_extension": ".py",
   "mimetype": "text/x-python",
   "name": "python",
   "nbconvert_exporter": "python",
   "pygments_lexer": "ipython3",
   "version": "3.9.12 (main, Apr  4 2022, 05:22:27) [MSC v.1916 64 bit (AMD64)]"
  },
  "orig_nbformat": 4,
  "vscode": {
   "interpreter": {
    "hash": "f920f2f54e1424f7d1c7da139b726d98c9a7e9659687bffb8714be585c4594a9"
   }
  }
 },
 "nbformat": 4,
 "nbformat_minor": 2
}
