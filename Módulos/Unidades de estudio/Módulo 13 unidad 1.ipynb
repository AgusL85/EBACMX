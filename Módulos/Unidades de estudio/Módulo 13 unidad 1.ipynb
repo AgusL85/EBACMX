{
 "cells": [
  {
   "attachments": {},
   "cell_type": "markdown",
   "metadata": {},
   "source": [
    "# Errores\n",
    "\n",
    "* En esta sesión hablaremos sobre cómo controlar y monitorear los errores en el código fuente.\n",
    "* Se aprenderá cómo Python señala los errores\n",
    "* Se harán ejemplos de captura de errores con TRY/EXCEPT\n",
    "* Haciendo Debugging de un Script de un Notebook de Python"
   ]
  },
  {
   "attachments": {},
   "cell_type": "markdown",
   "metadata": {},
   "source": [
    "# Antes de empezar\n",
    "\n",
    "* Revisar la configuración del ambiente de trabajo: Anaconda + VS Code\n",
    "* Generar una cuenta en StackOverflow\n",
    "* Generar como bookmark: libro de cabecera para analistas\n",
    "* Ejecutar VS Code y Anaconda con los suficientes permisos en el sistema (admin) para poder obtener información del sistema operativo (necesario para el ejercicio).\n",
    "* Para esta lección, no se necesita archivo adicional."
   ]
  },
  {
   "attachments": {},
   "cell_type": "markdown",
   "metadata": {},
   "source": [
    "# Tipo de Error en Python\n",
    "* Errores de Sintaxis, errores de escritura y ortografía.\n",
    "* Excepciones. Pueden ocurrir en bloques de código que están bien escritos pero que por algunas razón no pueden ejecutarse. Por ejemplo tratar de leer un archivo que no existe. Ver documentación de Python Library/exceptions.html\n",
    "* Errores de lógica. Los más difíciles de detectar, ya que el código sigue ejecutándose, pero no produce la saluda deseada."
   ]
  },
  {
   "cell_type": "code",
   "execution_count": 1,
   "metadata": {},
   "outputs": [
    {
     "ename": "SyntaxError",
     "evalue": "unmatched ')' (1160854585.py, line 3)",
     "output_type": "error",
     "traceback": [
      "\u001b[1;36m  Input \u001b[1;32mIn [1]\u001b[1;36m\u001b[0m\n\u001b[1;33m    print(0/0))\u001b[0m\n\u001b[1;37m              ^\u001b[0m\n\u001b[1;31mSyntaxError\u001b[0m\u001b[1;31m:\u001b[0m unmatched ')'\n"
     ]
    }
   ],
   "source": [
    "# Ejemplos de errores, y cómo Python funciona revisándolos\n",
    "# Error de Sintaxis\n",
    "print(0/0))"
   ]
  },
  {
   "cell_type": "code",
   "execution_count": 2,
   "metadata": {},
   "outputs": [
    {
     "ename": "TypeError",
     "evalue": "can only concatenate str (not \"int\") to str",
     "output_type": "error",
     "traceback": [
      "\u001b[1;31m---------------------------------------------------------------------------\u001b[0m",
      "\u001b[1;31mTypeError\u001b[0m                                 Traceback (most recent call last)",
      "\u001b[1;32mc:\\Users\\Agus\\Documents\\Cursos\\Analista de Datos\\Parte II\\Módulo 13\\Módulo 13 unidad 1.ipynb Celda 5\u001b[0m in \u001b[0;36m<cell line: 2>\u001b[1;34m()\u001b[0m\n\u001b[0;32m      <a href='vscode-notebook-cell:/c%3A/Users/Agus/Documents/Cursos/Analista%20de%20Datos/Parte%20II/M%C3%B3dulo%2013/M%C3%B3dulo%2013%20unidad%201.ipynb#W4sZmlsZQ%3D%3D?line=0'>1</a>\u001b[0m \u001b[39m# Error de Tipo de Datos\u001b[39;00m\n\u001b[1;32m----> <a href='vscode-notebook-cell:/c%3A/Users/Agus/Documents/Cursos/Analista%20de%20Datos/Parte%20II/M%C3%B3dulo%2013/M%C3%B3dulo%2013%20unidad%201.ipynb#W4sZmlsZQ%3D%3D?line=1'>2</a>\u001b[0m \u001b[39mprint\u001b[39m(\u001b[39m\"\u001b[39;49m\u001b[39m0\u001b[39;49m\u001b[39m\"\u001b[39;49m \u001b[39m+\u001b[39;49m \u001b[39m0\u001b[39;49m)\n",
      "\u001b[1;31mTypeError\u001b[0m: can only concatenate str (not \"int\") to str"
     ]
    }
   ],
   "source": [
    "# Error de Tipo de Datos\n",
    "print(\"0\" + 0)"
   ]
  },
  {
   "cell_type": "code",
   "execution_count": 3,
   "metadata": {},
   "outputs": [
    {
     "ename": "NameError",
     "evalue": "name 'O' is not defined",
     "output_type": "error",
     "traceback": [
      "\u001b[1;31m---------------------------------------------------------------------------\u001b[0m",
      "\u001b[1;31mNameError\u001b[0m                                 Traceback (most recent call last)",
      "\u001b[1;32mc:\\Users\\Agus\\Documents\\Cursos\\Analista de Datos\\Parte II\\Módulo 13\\Módulo 13 unidad 1.ipynb Celda 6\u001b[0m in \u001b[0;36m<cell line: 2>\u001b[1;34m()\u001b[0m\n\u001b[0;32m      <a href='vscode-notebook-cell:/c%3A/Users/Agus/Documents/Cursos/Analista%20de%20Datos/Parte%20II/M%C3%B3dulo%2013/M%C3%B3dulo%2013%20unidad%201.ipynb#W5sZmlsZQ%3D%3D?line=0'>1</a>\u001b[0m \u001b[39m# Error de tipo \u001b[39;00m\n\u001b[1;32m----> <a href='vscode-notebook-cell:/c%3A/Users/Agus/Documents/Cursos/Analista%20de%20Datos/Parte%20II/M%C3%B3dulo%2013/M%C3%B3dulo%2013%20unidad%201.ipynb#W5sZmlsZQ%3D%3D?line=1'>2</a>\u001b[0m \u001b[39mprint\u001b[39m (\u001b[39m0\u001b[39m\u001b[39m/\u001b[39mO)\n",
      "\u001b[1;31mNameError\u001b[0m: name 'O' is not defined"
     ]
    }
   ],
   "source": [
    "# Error de tipo \n",
    "print (0/O)"
   ]
  },
  {
   "cell_type": "code",
   "execution_count": 4,
   "metadata": {},
   "outputs": [
    {
     "ename": "ZeroDivisionError",
     "evalue": "division by zero",
     "output_type": "error",
     "traceback": [
      "\u001b[1;31m---------------------------------------------------------------------------\u001b[0m",
      "\u001b[1;31mZeroDivisionError\u001b[0m                         Traceback (most recent call last)",
      "\u001b[1;32mc:\\Users\\Agus\\Documents\\Cursos\\Analista de Datos\\Parte II\\Módulo 13\\Módulo 13 unidad 1.ipynb Celda 7\u001b[0m in \u001b[0;36m<cell line: 2>\u001b[1;34m()\u001b[0m\n\u001b[0;32m      <a href='vscode-notebook-cell:/c%3A/Users/Agus/Documents/Cursos/Analista%20de%20Datos/Parte%20II/M%C3%B3dulo%2013/M%C3%B3dulo%2013%20unidad%201.ipynb#W6sZmlsZQ%3D%3D?line=0'>1</a>\u001b[0m \u001b[39m# Error numérico\u001b[39;00m\n\u001b[1;32m----> <a href='vscode-notebook-cell:/c%3A/Users/Agus/Documents/Cursos/Analista%20de%20Datos/Parte%20II/M%C3%B3dulo%2013/M%C3%B3dulo%2013%20unidad%201.ipynb#W6sZmlsZQ%3D%3D?line=1'>2</a>\u001b[0m \u001b[39mprint\u001b[39m(\u001b[39m0\u001b[39;49m\u001b[39m/\u001b[39;49m\u001b[39m0\u001b[39;49m)\n",
      "\u001b[1;31mZeroDivisionError\u001b[0m: division by zero"
     ]
    }
   ],
   "source": [
    "# Error de tipo numérico\n",
    "print(0/0)"
   ]
  },
  {
   "cell_type": "code",
   "execution_count": 5,
   "metadata": {},
   "outputs": [
    {
     "name": "stdout",
     "output_type": "stream",
     "text": [
      "0.0\n"
     ]
    },
    {
     "ename": "ZeroDivisionError",
     "evalue": "division by zero",
     "output_type": "error",
     "traceback": [
      "\u001b[1;31m---------------------------------------------------------------------------\u001b[0m",
      "\u001b[1;31mZeroDivisionError\u001b[0m                         Traceback (most recent call last)",
      "\u001b[1;32mc:\\Users\\Agus\\Documents\\Cursos\\Analista de Datos\\Parte II\\Módulo 13\\Módulo 13 unidad 1.ipynb Celda 8\u001b[0m in \u001b[0;36m<cell line: 4>\u001b[1;34m()\u001b[0m\n\u001b[0;32m      <a href='vscode-notebook-cell:/c%3A/Users/Agus/Documents/Cursos/Analista%20de%20Datos/Parte%20II/M%C3%B3dulo%2013/M%C3%B3dulo%2013%20unidad%201.ipynb#X10sZmlsZQ%3D%3D?line=0'>1</a>\u001b[0m \u001b[39m# Ahora que se corrige la sintaxis\u001b[39;00m\n\u001b[0;32m      <a href='vscode-notebook-cell:/c%3A/Users/Agus/Documents/Cursos/Analista%20de%20Datos/Parte%20II/M%C3%B3dulo%2013/M%C3%B3dulo%2013%20unidad%201.ipynb#X10sZmlsZQ%3D%3D?line=1'>2</a>\u001b[0m \u001b[39m#Aparece un error dividido para zero\u001b[39;00m\n\u001b[0;32m      <a href='vscode-notebook-cell:/c%3A/Users/Agus/Documents/Cursos/Analista%20de%20Datos/Parte%20II/M%C3%B3dulo%2013/M%C3%B3dulo%2013%20unidad%201.ipynb#X10sZmlsZQ%3D%3D?line=2'>3</a>\u001b[0m \u001b[39mprint\u001b[39m(\u001b[39m0\u001b[39m\u001b[39m/\u001b[39m\u001b[39m5\u001b[39m)\n\u001b[1;32m----> <a href='vscode-notebook-cell:/c%3A/Users/Agus/Documents/Cursos/Analista%20de%20Datos/Parte%20II/M%C3%B3dulo%2013/M%C3%B3dulo%2013%20unidad%201.ipynb#X10sZmlsZQ%3D%3D?line=3'>4</a>\u001b[0m \u001b[39mprint\u001b[39m(\u001b[39m0\u001b[39;49m\u001b[39m/\u001b[39;49m\u001b[39m0\u001b[39;49m)\n",
      "\u001b[1;31mZeroDivisionError\u001b[0m: division by zero"
     ]
    }
   ],
   "source": [
    "# Ahora que se corrige la sintaxis\n",
    "#Aparece un error dividido para zero\n",
    "print(0/5)\n",
    "print(0/0)\n",
    "\n",
    "#la flecha señala en dónde se encuentra el error"
   ]
  },
  {
   "cell_type": "code",
   "execution_count": 1,
   "metadata": {},
   "outputs": [
    {
     "ename": "FileNotFoundError",
     "evalue": "[Errno 2] No such file or directory: 'vacio.txt'",
     "output_type": "error",
     "traceback": [
      "\u001b[1;31m---------------------------------------------------------------------------\u001b[0m",
      "\u001b[1;31mFileNotFoundError\u001b[0m                         Traceback (most recent call last)",
      "\u001b[1;32mc:\\Users\\Agus\\Documents\\Cursos\\Analista de Datos\\Parte II\\Módulo 13\\Módulo 13 unidad 1.ipynb Celda 9\u001b[0m in \u001b[0;36m<cell line: 3>\u001b[1;34m()\u001b[0m\n\u001b[0;32m      <a href='vscode-notebook-cell:/c%3A/Users/Agus/Documents/Cursos/Analista%20de%20Datos/Parte%20II/M%C3%B3dulo%2013/M%C3%B3dulo%2013%20unidad%201.ipynb#X11sZmlsZQ%3D%3D?line=0'>1</a>\u001b[0m \u001b[39m# Archivo no encontrado\u001b[39;00m\n\u001b[0;32m      <a href='vscode-notebook-cell:/c%3A/Users/Agus/Documents/Cursos/Analista%20de%20Datos/Parte%20II/M%C3%B3dulo%2013/M%C3%B3dulo%2013%20unidad%201.ipynb#X11sZmlsZQ%3D%3D?line=1'>2</a>\u001b[0m archivo\u001b[39m=\u001b[39m \u001b[39m\"\u001b[39m\u001b[39mvacio.txt\u001b[39m\u001b[39m\"\u001b[39m\n\u001b[1;32m----> <a href='vscode-notebook-cell:/c%3A/Users/Agus/Documents/Cursos/Analista%20de%20Datos/Parte%20II/M%C3%B3dulo%2013/M%C3%B3dulo%2013%20unidad%201.ipynb#X11sZmlsZQ%3D%3D?line=2'>3</a>\u001b[0m fileContent\u001b[39m=\u001b[39m\u001b[39mopen\u001b[39;49m(archivo, \u001b[39m\"\u001b[39;49m\u001b[39mr\u001b[39;49m\u001b[39m\"\u001b[39;49m)\n",
      "\u001b[1;31mFileNotFoundError\u001b[0m: [Errno 2] No such file or directory: 'vacio.txt'"
     ]
    }
   ],
   "source": [
    "# Archivo no encontrado\n",
    "archivo= \"vacio.txt\"\n",
    "fileContent=open(archivo, \"r\")"
   ]
  },
  {
   "cell_type": "code",
   "execution_count": 2,
   "metadata": {},
   "outputs": [
    {
     "ename": "SyntaxError",
     "evalue": "invalid syntax (2148773481.py, line 2)",
     "output_type": "error",
     "traceback": [
      "\u001b[1;36m  Input \u001b[1;32mIn [2]\u001b[1;36m\u001b[0m\n\u001b[1;33m    fr i in range(50):\u001b[0m\n\u001b[1;37m       ^\u001b[0m\n\u001b[1;31mSyntaxError\u001b[0m\u001b[1;31m:\u001b[0m invalid syntax\n"
     ]
    }
   ],
   "source": [
    "# Error de Sintaxis\n",
    "fr i in range(5):\n",
    "    print(i)"
   ]
  },
  {
   "cell_type": "code",
   "execution_count": 3,
   "metadata": {},
   "outputs": [
    {
     "name": "stdout",
     "output_type": "stream",
     "text": [
      "0\n",
      "1\n",
      "2\n",
      "3\n",
      "4\n"
     ]
    }
   ],
   "source": [
    "# lo correcto\n",
    "for i in range(5):\n",
    "    print(i)\n"
   ]
  },
  {
   "cell_type": "code",
   "execution_count": null,
   "metadata": {},
   "outputs": [],
   "source": []
  }
 ],
 "metadata": {
  "kernelspec": {
   "display_name": "base",
   "language": "python",
   "name": "python3"
  },
  "language_info": {
   "codemirror_mode": {
    "name": "ipython",
    "version": 3
   },
   "file_extension": ".py",
   "mimetype": "text/x-python",
   "name": "python",
   "nbconvert_exporter": "python",
   "pygments_lexer": "ipython3",
   "version": "3.9.12"
  },
  "orig_nbformat": 4,
  "vscode": {
   "interpreter": {
    "hash": "f920f2f54e1424f7d1c7da139b726d98c9a7e9659687bffb8714be585c4594a9"
   }
  }
 },
 "nbformat": 4,
 "nbformat_minor": 2
}
