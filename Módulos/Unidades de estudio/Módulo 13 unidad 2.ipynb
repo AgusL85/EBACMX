{
 "cells": [
  {
   "attachments": {},
   "cell_type": "markdown",
   "metadata": {},
   "source": [
    "## Excepciones"
   ]
  },
  {
   "attachments": {},
   "cell_type": "markdown",
   "metadata": {},
   "source": [
    "* Se pueden generar excepciones como la que se mostró arriba, de manera manual\n",
    "* Se utiliza el comando \"raise\""
   ]
  },
  {
   "cell_type": "code",
   "execution_count": 4,
   "metadata": {},
   "outputs": [
    {
     "name": "stdout",
     "output_type": "stream",
     "text": [
      "8\n"
     ]
    }
   ],
   "source": [
    "# Generando Excepciones en el código\n",
    "# No son errores de Python, sino condiciones que van a cortar el flujo del programa\n",
    "# Si bien son útiles, van a generar que el programa se corte abruptamente\n",
    "x=8\n",
    "if x>10:\n",
    "    raise Exception(\"x no puede sobrepasar el valor 7. El valor de x fue:{}\".format(x))\n",
    "print(x)"
   ]
  },
  {
   "cell_type": "code",
   "execution_count": 8,
   "metadata": {},
   "outputs": [
    {
     "ename": "Exception",
     "evalue": "x no puede sobrepasar el valor 7. El valor de x fue:8",
     "output_type": "error",
     "traceback": [
      "\u001b[1;31m---------------------------------------------------------------------------\u001b[0m",
      "\u001b[1;31mException\u001b[0m                                 Traceback (most recent call last)",
      "\u001b[1;32mc:\\Users\\Agus\\Documents\\Cursos\\Analista de Datos\\Parte II\\Módulo 13\\Módulo 13 unidad 2.ipynb Celda 4\u001b[0m in \u001b[0;36m<cell line: 3>\u001b[1;34m()\u001b[0m\n\u001b[0;32m      <a href='vscode-notebook-cell:/c%3A/Users/Agus/Documents/Cursos/Analista%20de%20Datos/Parte%20II/M%C3%B3dulo%2013/M%C3%B3dulo%2013%20unidad%202.ipynb#W5sZmlsZQ%3D%3D?line=1'>2</a>\u001b[0m x\u001b[39m=\u001b[39m\u001b[39m8\u001b[39m\n\u001b[0;32m      <a href='vscode-notebook-cell:/c%3A/Users/Agus/Documents/Cursos/Analista%20de%20Datos/Parte%20II/M%C3%B3dulo%2013/M%C3%B3dulo%2013%20unidad%202.ipynb#W5sZmlsZQ%3D%3D?line=2'>3</a>\u001b[0m \u001b[39mif\u001b[39;00m x\u001b[39m>\u001b[39m\u001b[39m7\u001b[39m:\n\u001b[1;32m----> <a href='vscode-notebook-cell:/c%3A/Users/Agus/Documents/Cursos/Analista%20de%20Datos/Parte%20II/M%C3%B3dulo%2013/M%C3%B3dulo%2013%20unidad%202.ipynb#W5sZmlsZQ%3D%3D?line=3'>4</a>\u001b[0m     \u001b[39mraise\u001b[39;00m \u001b[39mException\u001b[39;00m(\u001b[39m\"\u001b[39m\u001b[39mx no puede sobrepasar el valor 7. El valor de x fue:\u001b[39m\u001b[39m{}\u001b[39;00m\u001b[39m\"\u001b[39m\u001b[39m.\u001b[39mformat(x))\n\u001b[0;32m      <a href='vscode-notebook-cell:/c%3A/Users/Agus/Documents/Cursos/Analista%20de%20Datos/Parte%20II/M%C3%B3dulo%2013/M%C3%B3dulo%2013%20unidad%202.ipynb#W5sZmlsZQ%3D%3D?line=4'>5</a>\u001b[0m \u001b[39mprint\u001b[39m(x)\n",
      "\u001b[1;31mException\u001b[0m: x no puede sobrepasar el valor 7. El valor de x fue:8"
     ]
    }
   ],
   "source": [
    "# con la excepción\n",
    "x=8\n",
    "if x>7:\n",
    "    raise Exception(\"x no puede sobrepasar el valor 7. El valor de x fue:{}\".format(x))\n",
    "print(x)\n"
   ]
  },
  {
   "attachments": {},
   "cell_type": "markdown",
   "metadata": {},
   "source": [
    "### Evaluación de Condiciones con Assert\n",
    "* Si es que se cumple la condición, se genera la excepción"
   ]
  },
  {
   "cell_type": "code",
   "execution_count": 10,
   "metadata": {},
   "outputs": [
    {
     "ename": "AssertionError",
     "evalue": "",
     "output_type": "error",
     "traceback": [
      "\u001b[1;31m---------------------------------------------------------------------------\u001b[0m",
      "\u001b[1;31mAssertionError\u001b[0m                            Traceback (most recent call last)",
      "\u001b[1;32mc:\\Users\\Agus\\Documents\\Cursos\\Analista de Datos\\Parte II\\Módulo 13\\Módulo 13 unidad 2.ipynb Celda 6\u001b[0m in \u001b[0;36m<cell line: 5>\u001b[1;34m()\u001b[0m\n\u001b[0;32m      <a href='vscode-notebook-cell:/c%3A/Users/Agus/Documents/Cursos/Analista%20de%20Datos/Parte%20II/M%C3%B3dulo%2013/M%C3%B3dulo%2013%20unidad%202.ipynb#X12sZmlsZQ%3D%3D?line=2'>3</a>\u001b[0m \u001b[39massert\u001b[39;00m x \u001b[39m==\u001b[39m \u001b[39m\"\u001b[39m\u001b[39mhola\u001b[39m\u001b[39m\"\u001b[39m\n\u001b[0;32m      <a href='vscode-notebook-cell:/c%3A/Users/Agus/Documents/Cursos/Analista%20de%20Datos/Parte%20II/M%C3%B3dulo%2013/M%C3%B3dulo%2013%20unidad%202.ipynb#X12sZmlsZQ%3D%3D?line=3'>4</a>\u001b[0m \u001b[39m# Si la condición es falsa, se genera una excepción\u001b[39;00m\n\u001b[1;32m----> <a href='vscode-notebook-cell:/c%3A/Users/Agus/Documents/Cursos/Analista%20de%20Datos/Parte%20II/M%C3%B3dulo%2013/M%C3%B3dulo%2013%20unidad%202.ipynb#X12sZmlsZQ%3D%3D?line=4'>5</a>\u001b[0m \u001b[39massert\u001b[39;00m x \u001b[39m==\u001b[39m \u001b[39m\"\u001b[39m\u001b[39mChao\u001b[39m\u001b[39m\"\u001b[39m\n",
      "\u001b[1;31mAssertionError\u001b[0m: "
     ]
    }
   ],
   "source": [
    "x = \"hola\"\n",
    "# No ocurre nada si la condición se cumple\n",
    "assert x == \"hola\"\n",
    "# Si la condición es falsa, se genera una excepción\n",
    "assert x == \"Chao\""
   ]
  },
  {
   "cell_type": "code",
   "execution_count": 21,
   "metadata": {},
   "outputs": [
    {
     "name": "stdout",
     "output_type": "stream",
     "text": [
      "Plataforma=  win32\n"
     ]
    },
    {
     "ename": "AssertionError",
     "evalue": "Este código funciona nada más en Windows",
     "output_type": "error",
     "traceback": [
      "\u001b[1;31m---------------------------------------------------------------------------\u001b[0m",
      "\u001b[1;31mAssertionError\u001b[0m                            Traceback (most recent call last)",
      "\u001b[1;32mc:\\Users\\Agus\\Documents\\Cursos\\Analista de Datos\\Parte II\\Módulo 13\\Módulo 13 unidad 2.ipynb Celda 7\u001b[0m in \u001b[0;36m<cell line: 7>\u001b[1;34m()\u001b[0m\n\u001b[0;32m      <a href='vscode-notebook-cell:/c%3A/Users/Agus/Documents/Cursos/Analista%20de%20Datos/Parte%20II/M%C3%B3dulo%2013/M%C3%B3dulo%2013%20unidad%202.ipynb#X13sZmlsZQ%3D%3D?line=4'>5</a>\u001b[0m \u001b[39mimport\u001b[39;00m \u001b[39msys\u001b[39;00m\n\u001b[0;32m      <a href='vscode-notebook-cell:/c%3A/Users/Agus/Documents/Cursos/Analista%20de%20Datos/Parte%20II/M%C3%B3dulo%2013/M%C3%B3dulo%2013%20unidad%202.ipynb#X13sZmlsZQ%3D%3D?line=5'>6</a>\u001b[0m \u001b[39mprint\u001b[39m(\u001b[39m\"\u001b[39m\u001b[39mPlataforma= \u001b[39m\u001b[39m\"\u001b[39m, sys\u001b[39m.\u001b[39mplatform)\n\u001b[1;32m----> <a href='vscode-notebook-cell:/c%3A/Users/Agus/Documents/Cursos/Analista%20de%20Datos/Parte%20II/M%C3%B3dulo%2013/M%C3%B3dulo%2013%20unidad%202.ipynb#X13sZmlsZQ%3D%3D?line=6'>7</a>\u001b[0m \u001b[39massert\u001b[39;00m(\u001b[39m\"\u001b[39m\u001b[39mdarwin\u001b[39m\u001b[39m\"\u001b[39m \u001b[39min\u001b[39;00m sys\u001b[39m.\u001b[39mplatform), \u001b[39m\"\u001b[39m\u001b[39mEste código funciona nada más en Windows\u001b[39m\u001b[39m\"\u001b[39m\n",
      "\u001b[1;31mAssertionError\u001b[0m: Este código funciona nada más en Windows"
     ]
    }
   ],
   "source": [
    "# también se pueden evaluar las condiciones (assert) que causan el problema\n",
    "# y luego si es que no se cumplen, entonces se las deja fuera\n",
    "\n",
    "# importa la librería \"sys\" que validará qué tipo de plataforma tenemos\n",
    "import sys\n",
    "print(\"Plataforma= \", sys.platform)\n",
    "assert(\"darwin\" in sys.platform), \"Este código funciona nada más en Windows\""
   ]
  },
  {
   "cell_type": "code",
   "execution_count": 22,
   "metadata": {},
   "outputs": [
    {
     "name": "stdout",
     "output_type": "stream",
     "text": [
      "Plataforma=  win32\n"
     ]
    }
   ],
   "source": [
    "# lo correcto \n",
    "import sys\n",
    "print(\"Plataforma= \", sys.platform)\n",
    "assert(\"win32\" in sys.platform), \"Este código funciona nada más en Windows\""
   ]
  },
  {
   "cell_type": "code",
   "execution_count": 23,
   "metadata": {},
   "outputs": [],
   "source": [
    "# encontrarán la función \"assert\" como algo my común en el código Python\n",
    "# esta función se usa para validar condiciones tanto de cálculo, de negocio, de sistema, etc\n",
    "# Corta el flujo del sistema cuando se crea necesario, antes de pasar a ejecuciones más largas"
   ]
  },
  {
   "attachments": {},
   "cell_type": "markdown",
   "metadata": {},
   "source": [
    "### Manejando Excepciones con Try/Except\n",
    "* Este bloque se usa en Python para capturar excepciones.\n",
    "* Python ejecuta todo lo que esté en el bloque \"try\" de manera regular\n",
    "* Si es que existe algún error o problema, se ejecuta en cambio el código del área \"except\"\n"
   ]
  },
  {
   "cell_type": "code",
   "execution_count": 24,
   "metadata": {},
   "outputs": [
    {
     "data": {
      "text/plain": [
       "'win32'"
      ]
     },
     "execution_count": 24,
     "metadata": {},
     "output_type": "execute_result"
    }
   ],
   "source": [
    "# Vamos a hacer un ejercicio con la plataforma de cada equipo\n",
    "# la que se puede ver desde la librería sys.\n",
    "sys.platform"
   ]
  },
  {
   "cell_type": "code",
   "execution_count": 25,
   "metadata": {},
   "outputs": [
    {
     "name": "stdout",
     "output_type": "stream",
     "text": [
      "Ambiente incorrecto!\n"
     ]
    }
   ],
   "source": [
    "# ejemplo1 - se toman acciones en la parte Except\n",
    "# y si no lo es, simplemente \"pass\" (no hace nada)\n",
    "\n",
    "def linux_interaction():\n",
    "    assert(\"Linux\" in sys.platform), \"Solo Linux\"\n",
    "    print(\"Aquí Casual\")\n",
    "\n",
    "try: \n",
    "    linux_interaction()\n",
    "except:\n",
    "    print(\"Ambiente incorrecto!\")"
   ]
  },
  {
   "cell_type": "code",
   "execution_count": 27,
   "metadata": {},
   "outputs": [
    {
     "name": "stdout",
     "output_type": "stream",
     "text": [
      "Aquí Casual\n"
     ]
    }
   ],
   "source": [
    "# ejemplo a lo anterior\n",
    "def win_interaction():\n",
    "    assert(\"win32\" in sys.platform), \"Solo Windows\"\n",
    "    print(\"Aquí Casual\")\n",
    "\n",
    "try: \n",
    "    win_interaction()\n",
    "except:\n",
    "    print(\"Ambiente incorrecto!\")"
   ]
  },
  {
   "cell_type": "code",
   "execution_count": 28,
   "metadata": {},
   "outputs": [
    {
     "name": "stdout",
     "output_type": "stream",
     "text": [
      "Aquí Casual\n"
     ]
    }
   ],
   "source": [
    "# ejemplo 2 - ambiente de desarrollo\n",
    "# el ejemplo nuevamente valida si el sistema es windows\n",
    "# y si lo es, simplemente \"pass\" (no  hace nada)\n",
    "# Se hacen pruebas tanto con windows como con linux en el sistema operativo para probbar su funcionamiento\n",
    "def win_interaction():\n",
    "    assert(\"win32\" in sys.platform), \"Solo Windows\"\n",
    "    print(\"Aquí Casual\")\n",
    "\n",
    "try: \n",
    "    win_interaction()\n",
    "except:\n",
    "    print(\"No Linux\")\n",
    "    pass"
   ]
  },
  {
   "cell_type": "code",
   "execution_count": 35,
   "metadata": {},
   "outputs": [
    {
     "name": "stdout",
     "output_type": "stream",
     "text": [
      "No Linux\n"
     ]
    }
   ],
   "source": [
    "# ejemplo a lo anterior\n",
    "def win_interaction():\n",
    "    assert(\"Linux\" in sys.platform), \"Solo Windows\"\n",
    "    print(\"Aquí Casual\")\n",
    "\n",
    "try: \n",
    "    win_interaction()\n",
    "except:\n",
    "    print(\"No Linux\")\n",
    "    pass"
   ]
  },
  {
   "cell_type": "code",
   "execution_count": 36,
   "metadata": {},
   "outputs": [
    {
     "name": "stdout",
     "output_type": "stream",
     "text": [
      "Solo Windows\n",
      "La función win_interaction() no se ejecutó\n"
     ]
    }
   ],
   "source": [
    "# Se modifica ahora el código del except con un \"Assert\"\n",
    "try:\n",
    "    win_interaction()\n",
    "except AssertionError as error:\n",
    "    print(error)\n",
    "    print(\"La función win_interaction() no se ejecutó\")"
   ]
  },
  {
   "cell_type": "code",
   "execution_count": 37,
   "metadata": {},
   "outputs": [
    {
     "name": "stdout",
     "output_type": "stream",
     "text": [
      "No puedo abrir file.log\n"
     ]
    }
   ],
   "source": [
    "# otro ejemplo muy común, la apertura de archivos\n",
    "# se trata de abrir un archivo (que sabemos No existe)\n",
    "try:\n",
    "    with open(\"file.log\") as file:\n",
    "        read_data = file.read()\n",
    "except: print(\"No puedo abrir file.log\")"
   ]
  },
  {
   "cell_type": "code",
   "execution_count": 39,
   "metadata": {},
   "outputs": [
    {
     "name": "stdout",
     "output_type": "stream",
     "text": [
      "No ingresaste un número par!\n"
     ]
    }
   ],
   "source": [
    "# ejemplo con else\n",
    "# se imprime el recíproco de un número\n",
    "# además se utiliza la función \"input\" para utilizar la barra de comandos para ingresar el número\n",
    "# si es par, genera el recíproco, si es imar, genera un mensaje\n",
    "try:\n",
    "    num = int(input(\"Ingrese un número:\"))\n",
    "    assert num % 2 == 0\n",
    "except:\n",
    "    print(\"No ingresaste un número par!\")\n",
    "else:\n",
    "    reciprocal=1/num\n",
    "    print(reciprocal)"
   ]
  },
  {
   "cell_type": "code",
   "execution_count": 41,
   "metadata": {},
   "outputs": [
    {
     "name": "stdout",
     "output_type": "stream",
     "text": [
      "Respuesta: 4\n",
      "División para cero!\n"
     ]
    }
   ],
   "source": [
    "# ejemplo 3 - División para cero\n",
    "\n",
    "def divide (x,y):\n",
    "    try:\n",
    "        # se usa la división floor, solamente Fraccional\n",
    "        result = x // y\n",
    "        print(\"Respuesta:\", result)\n",
    "    except ZeroDivisionError:\n",
    "        print (\"División para cero!\")\n",
    "\n",
    "divide(8,2)\n",
    "divide(7,0)"
   ]
  },
  {
   "cell_type": "code",
   "execution_count": 42,
   "metadata": {},
   "outputs": [
    {
     "name": "stdout",
     "output_type": "stream",
     "text": [
      "Respuesta: 5\n",
      "División para cero!\n"
     ]
    }
   ],
   "source": [
    "# Hacemos una modificación menor\n",
    "\n",
    "def divide (x,y):\n",
    "    try:\n",
    "        result = x // y\n",
    "    except ZeroDivisionError:\n",
    "        print (\"División para cero!\")\n",
    "    else:\n",
    "        print(\"Respuesta:\", result)\n",
    "\n",
    "divide(10,2)\n",
    "divide(10,0)"
   ]
  },
  {
   "cell_type": "code",
   "execution_count": 45,
   "metadata": {},
   "outputs": [
    {
     "name": "stdout",
     "output_type": "stream",
     "text": [
      "División para cero!\n",
      "Siempre se ejecuta\n"
     ]
    }
   ],
   "source": [
    "# Ejemplo con Finally\n",
    "def divide (x,y):\n",
    "    try:\n",
    "        result = x // y\n",
    "    except ZeroDivisionError:\n",
    "        print (\"División para cero!\")\n",
    "    else:\n",
    "        print(\"Respuesta:\", result)\n",
    "    finally:\n",
    "        #este bloque se ejecuta SIEMPRE, sin importar el estado de las excepciones\n",
    "        print(\"Siempre se ejecuta\")\n",
    "\n",
    "#divide(10,2)\n",
    "divide(10,0)"
   ]
  },
  {
   "cell_type": "code",
   "execution_count": null,
   "metadata": {},
   "outputs": [],
   "source": []
  }
 ],
 "metadata": {
  "kernelspec": {
   "display_name": "base",
   "language": "python",
   "name": "python3"
  },
  "language_info": {
   "codemirror_mode": {
    "name": "ipython",
    "version": 3
   },
   "file_extension": ".py",
   "mimetype": "text/x-python",
   "name": "python",
   "nbconvert_exporter": "python",
   "pygments_lexer": "ipython3",
   "version": "3.9.12"
  },
  "orig_nbformat": 4,
  "vscode": {
   "interpreter": {
    "hash": "f920f2f54e1424f7d1c7da139b726d98c9a7e9659687bffb8714be585c4594a9"
   }
  }
 },
 "nbformat": 4,
 "nbformat_minor": 2
}
