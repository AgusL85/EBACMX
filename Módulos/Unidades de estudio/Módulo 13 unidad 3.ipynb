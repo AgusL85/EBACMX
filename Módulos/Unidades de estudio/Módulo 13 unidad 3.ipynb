{
 "cells": [
  {
   "attachments": {},
   "cell_type": "markdown",
   "metadata": {},
   "source": [
    "## Debugging en Python\n",
    "* Se puede hacer debugging de una celda directamente en VS Code, en vez de hacer play (CTRL+ENTER), se hace click en el dropdown y se escoge Debug Cell\n",
    "* Para entrar a este modo, se recomienda tener un \"breakpoint\" configurado con anterioridad, para poder revisar el código línea por línea\n",
    "* Eso inmediatamente activa el modo de Debugg y permite generar operaciones como:\n",
    "1. Watch: que permite validar el valor de cada variable mientras el código se ejecuta. También se puede ver el valor del la variable hacer hover over cada uba de ellas con el mouse.\n",
    "2. Step Over (f10), navega el código, línea por línea. Si la línea llama a una función, la ejecuta también, línea por línea.\n",
    "3. Step Out (Shift + F11). Navega el código, línea por línea. Si se llama a una función, omite seguirla\n",
    "4. Restart (shift + CTRL+F5) Reinicia el debug de la celda"
   ]
  },
  {
   "cell_type": "code",
   "execution_count": 1,
   "metadata": {},
   "outputs": [
    {
     "name": "stdout",
     "output_type": "stream",
     "text": [
      "Resultado =  6000000\n"
     ]
    }
   ],
   "source": [
    "a = 100\n",
    "b= 150\n",
    "c= 400\n",
    "d=a*b*c\n",
    "print (\"Resultado = \", d)"
   ]
  },
  {
   "cell_type": "code",
   "execution_count": null,
   "metadata": {},
   "outputs": [],
   "source": []
  }
 ],
 "metadata": {
  "kernelspec": {
   "display_name": "base",
   "language": "python",
   "name": "python3"
  },
  "language_info": {
   "codemirror_mode": {
    "name": "ipython",
    "version": 3
   },
   "file_extension": ".py",
   "mimetype": "text/x-python",
   "name": "python",
   "nbconvert_exporter": "python",
   "pygments_lexer": "ipython3",
   "version": "3.10.9"
  },
  "orig_nbformat": 4,
  "vscode": {
   "interpreter": {
    "hash": "f920f2f54e1424f7d1c7da139b726d98c9a7e9659687bffb8714be585c4594a9"
   }
  }
 },
 "nbformat": 4,
 "nbformat_minor": 2
}
