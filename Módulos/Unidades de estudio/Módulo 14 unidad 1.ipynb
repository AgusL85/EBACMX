{
 "cells": [
  {
   "attachments": {},
   "cell_type": "markdown",
   "metadata": {},
   "source": [
    "## Interacción con datos\n",
    "* Manejo de distintos tipos de archivos: CSV, JSON, Excel\n",
    "* Lectura y escritura de los archivos\n",
    "* Manejo de diccionarios y listas"
   ]
  },
  {
   "attachments": {},
   "cell_type": "markdown",
   "metadata": {},
   "source": [
    "### Lectura de un Archivo CSV"
   ]
  },
  {
   "cell_type": "code",
   "execution_count": 19,
   "metadata": {},
   "outputs": [
    {
     "name": "stdout",
     "output_type": "stream",
     "text": [
      "Directorio de Trabajo:c:\\Users\\Agus\\Documents\\Cursos\\Analista de Datos\\Parte II\\Módulo 14\n"
     ]
    }
   ],
   "source": [
    "# Manejo de archivos CSV\n",
    "# Importar la función completa \"csv\" para tratamiento de archivos\n",
    "import csv\n",
    "# Importar la función \"os\" para leer el directorio actual\n",
    "import os\n",
    "# Obtener el directorio actual\n",
    "cwd= os.getcwd()\n",
    "#Imprimir el directorio actual\n",
    "print(\"Directorio de Trabajo:{0}\".format(cwd))\n",
    "# Cambiar el directorio actual con chdir\n",
    "#os.chdir(\"WWW\")"
   ]
  },
  {
   "cell_type": "code",
   "execution_count": 20,
   "metadata": {},
   "outputs": [
    {
     "data": {
      "text/plain": [
       "['show_id',\n",
       " 'type',\n",
       " 'title',\n",
       " 'director',\n",
       " 'cast',\n",
       " 'country',\n",
       " 'date_added',\n",
       " 'release_year',\n",
       " 'rating',\n",
       " 'duration',\n",
       " 'listed_in',\n",
       " 'description']"
      ]
     },
     "execution_count": 20,
     "metadata": {},
     "output_type": "execute_result"
    }
   ],
   "source": [
    "# Abre el archivo de lectura\n",
    "file= open(r\"./netflix_titles.csv\")\n",
    "#Lee el archivo en el objeto csvreader\n",
    "csvreader = csv.reader(file)\n",
    "#Obtiene los encabezados del archivo (header)\n",
    "header =[]\n",
    "header = next(csvreader)\n",
    "header"
   ]
  },
  {
   "cell_type": "code",
   "execution_count": 21,
   "metadata": {},
   "outputs": [
    {
     "name": "stdout",
     "output_type": "stream",
     "text": [
      "[['s1', 'Movie', 'Dick Johnson Is Dead', 'Kirsten Johnson', '', 'United States', 'September 25, 2021', '2020', 'PG-13', '90 min', 'Documentaries', 'As her father nears the end of his life, filmmaker Kirsten Johnson stages his death in inventive and comical ways to help them both face the inevitable.'], ['s2', 'TV Show', 'Blood & Water', '', 'Ama Qamata, Khosi Ngema, Gail Mabalane, Thabang Molaba, Dillon Windvogel, Natasha Thahane, Arno Greeff, Xolile Tshabalala, Getmore Sithole, Cindy Mahlangu, Ryle De Morny, Greteli Fincham, Sello Maake Ka-Ncube, Odwa Gwanya, Mekaila Mathys, Sandi Schultz, Duane Williams, Shamilla Miller, Patrick Mofokeng', 'South Africa', 'September 24, 2021', '2021', 'TV-MA', '2 Seasons', 'International TV Shows, TV Dramas, TV Mysteries', 'After crossing paths at a party, a Cape Town teen sets out to prove whether a private-school swimming star is her sister who was abducted at birth.']]\n"
     ]
    }
   ],
   "source": [
    "#  extrae los datos de una lista\n",
    "rows=[]\n",
    "for row in csvreader:\n",
    "    rows.append(row)\n",
    "#imprime las 3 primeras filas\n",
    "print(rows[:2])\n",
    "#tenemos toda la información de las películas en la lista rows!\n"
   ]
  },
  {
   "cell_type": "code",
   "execution_count": 9,
   "metadata": {},
   "outputs": [
    {
     "data": {
      "text/plain": [
       "8807"
      ]
     },
     "execution_count": 9,
     "metadata": {},
     "output_type": "execute_result"
    }
   ],
   "source": [
    "len(rows)"
   ]
  },
  {
   "cell_type": "code",
   "execution_count": 22,
   "metadata": {},
   "outputs": [],
   "source": [
    "# Para trabajar con filas y columnas, podemos usar numpy\n",
    "# Importamos la función numpy\n",
    "# https://numpy.org/doc/\n",
    "import numpy as np\n",
    "movies = np.array(rows)\n"
   ]
  },
  {
   "cell_type": "code",
   "execution_count": 23,
   "metadata": {},
   "outputs": [
    {
     "data": {
      "text/plain": [
       "array(['Kirsten Johnson', '', 'Julien Leclercq', '', '', 'Mike Flanagan',\n",
       "       'Robert Cullen, José Luis Ucha', 'Haile Gerima', 'Andy Devonshire',\n",
       "       'Theodore Melfi'], dtype='<U771')"
      ]
     },
     "execution_count": 23,
     "metadata": {},
     "output_type": "execute_result"
    }
   ],
   "source": [
    "# Ahora podemos usar filas y columnas\n",
    "# un array se puede usar con dos parámetros: rango de filas y rango de columnas\n",
    "# recordar que en los array los índices empiezan en cero y van hasta n-l (0:10)\n",
    "# Si quisiera ver todos los títulos, por ejemplo, de las primeras 10 películas\n",
    "# Ej: se pueden hacer ejercicios con otros campos\n",
    "movies[0:10,3]"
   ]
  },
  {
   "cell_type": "code",
   "execution_count": 24,
   "metadata": {},
   "outputs": [
    {
     "data": {
      "text/plain": [
       "numpy.ndarray"
      ]
     },
     "execution_count": 24,
     "metadata": {},
     "output_type": "execute_result"
    }
   ],
   "source": [
    "type (movies)"
   ]
  },
  {
   "cell_type": "code",
   "execution_count": null,
   "metadata": {},
   "outputs": [],
   "source": [
    "# vamos a explorar más formas de uso de lectura de archivos más adelante.Por ahora a enfocarnos al manejo de archivos CSV"
   ]
  },
  {
   "attachments": {},
   "cell_type": "markdown",
   "metadata": {},
   "source": [
    "## Escribiendo un archivo CSV"
   ]
  },
  {
   "cell_type": "code",
   "execution_count": 26,
   "metadata": {},
   "outputs": [],
   "source": [
    "# Para escribir a un archivo CSV, se debe abrir el archivo con el flag \"w\"\n",
    "import csv\n",
    "header_student = [\"id\" , \"nombre\", \"ciudad\", \"total\"]\n",
    "data=[\n",
    "    [\"01A\", \"G. Vinueza\", \"Cuenca\", 50],\n",
    "    [\"02A\", \"J. García\",\"Ciudad de México\", 75],\n",
    "    [\"03A\", \"E. Maldonado\",\"Puebla\", 82],\n",
    "    [\"04A\", \"S. Humbren\", \"Monterrey\", 74]\n",
    "]\n",
    "with open(\"alumnos.csv\", \"w\", encoding=\"UTF8\", newline=\"\") as f:\n",
    "    writer=csv.writer(f)\n",
    "\n",
    "#write the header\n",
    "    writer.writerow(header_student)\n",
    "#write the data\n",
    "    writer.writerow(data)\n",
    "\n",
    "# tener cuidado con los espacios, sino marcará error: ValueError : I/O operation on closed file "
   ]
  },
  {
   "cell_type": "code",
   "execution_count": 27,
   "metadata": {},
   "outputs": [
    {
     "data": {
      "text/plain": [
       "['id', 'nombre', 'ciudad', 'total']"
      ]
     },
     "execution_count": 27,
     "metadata": {},
     "output_type": "execute_result"
    }
   ],
   "source": [
    "# luego podemos visualizar\n",
    "# abre el archivo de lectura\n",
    "file=open(r\"./alumnos.csv\")\n",
    "# lee el archivo en el objeto csvreader\n",
    "csvreader = csv.reader(file)\n",
    "\n",
    "#obtiene los encabezados del archivo (header)\n",
    "header_student =[]\n",
    "header_student = next(csvreader)\n",
    "header_student"
   ]
  },
  {
   "cell_type": "code",
   "execution_count": 28,
   "metadata": {},
   "outputs": [
    {
     "data": {
      "text/plain": [
       "[[\"['01A', 'G. Vinueza', 'Cuenca', 50]\",\n",
       "  \"['02A', 'J. García', 'Ciudad de México', 75]\",\n",
       "  \"['03A', 'E. Maldonado', 'Puebla', 82]\",\n",
       "  \"['04A', 'S. Humbren', 'Monterrey', 74]\"]]"
      ]
     },
     "execution_count": 28,
     "metadata": {},
     "output_type": "execute_result"
    }
   ],
   "source": [
    "# extrae los datos a una lista\n",
    "rows_alumnos=[]\n",
    "for row in csvreader:\n",
    "    rows_alumnos.append(row)\n",
    "\n",
    "#imprime el contenido de las filas de alumnos\n",
    "rows_alumnos"
   ]
  },
  {
   "cell_type": "code",
   "execution_count": null,
   "metadata": {},
   "outputs": [],
   "source": []
  }
 ],
 "metadata": {
  "kernelspec": {
   "display_name": "base",
   "language": "python",
   "name": "python3"
  },
  "language_info": {
   "codemirror_mode": {
    "name": "ipython",
    "version": 3
   },
   "file_extension": ".py",
   "mimetype": "text/x-python",
   "name": "python",
   "nbconvert_exporter": "python",
   "pygments_lexer": "ipython3",
   "version": "3.9.12"
  },
  "orig_nbformat": 4,
  "vscode": {
   "interpreter": {
    "hash": "f920f2f54e1424f7d1c7da139b726d98c9a7e9659687bffb8714be585c4594a9"
   }
  }
 },
 "nbformat": 4,
 "nbformat_minor": 2
}
