{
 "cells": [
  {
   "attachments": {},
   "cell_type": "markdown",
   "metadata": {},
   "source": [
    "## Uso de Archivos de Excel\n",
    "\n",
    "* Abrir archivos en Excel\n",
    "* Generar archivos en excel desde estructuras"
   ]
  },
  {
   "cell_type": "code",
   "execution_count": 20,
   "metadata": {},
   "outputs": [],
   "source": [
    "# Se usará el archivo de netflix (xlsx)\n",
    "# se usa la librería openpyxl\n",
    "# para mas infotmación se puede consultar: https://www.python-excel.org\n",
    "# https://openpyxl.readthedocs.io/en/latest/tutorial.html\n",
    "import openpyxl\n",
    "from pathlib import Path\n",
    "\n",
    "xlsx_file = Path(\".\",\"netflix_titles.xlsx\")\n",
    "wb_obj = openpyxl.load_workbook(xlsx_file)\n",
    "# Read the active sheet:\n",
    "sheet = wb_obj.active"
   ]
  },
  {
   "cell_type": "code",
   "execution_count": 21,
   "metadata": {},
   "outputs": [
    {
     "name": "stdout",
     "output_type": "stream",
     "text": [
      "<bound method Path.cwd of <class 'pathlib.Path'>>\n"
     ]
    }
   ],
   "source": [
    "print(Path.cwd)"
   ]
  },
  {
   "cell_type": "code",
   "execution_count": 2,
   "metadata": {},
   "outputs": [
    {
     "data": {
      "text/plain": [
       "WindowsPath('netflix_titles.xlsx')"
      ]
     },
     "execution_count": 2,
     "metadata": {},
     "output_type": "execute_result"
    }
   ],
   "source": [
    "xlsx_file"
   ]
  },
  {
   "cell_type": "code",
   "execution_count": 22,
   "metadata": {},
   "outputs": [],
   "source": [
    "# Para leer el archivo\n",
    "wb_obj = openpyxl.load_workbook(xlsx_file)\n",
    "sheet = wb_obj.active"
   ]
  },
  {
   "cell_type": "code",
   "execution_count": 23,
   "metadata": {},
   "outputs": [
    {
     "name": "stdout",
     "output_type": "stream",
     "text": [
      "Dick Johnson Is Dead\n"
     ]
    }
   ],
   "source": [
    "# se imprime el primer título\n",
    "print(sheet[\"C2\"].value)"
   ]
  },
  {
   "cell_type": "code",
   "execution_count": 5,
   "metadata": {},
   "outputs": [],
   "source": [
    "#rangos\n",
    "cell_range= sheet[\"A1\":\"D50\"]"
   ]
  },
  {
   "cell_type": "code",
   "execution_count": 6,
   "metadata": {},
   "outputs": [
    {
     "name": "stdout",
     "output_type": "stream",
     "text": [
      "((<Cell 'netflix_titles'.A1>, <Cell 'netflix_titles'.B1>, <Cell 'netflix_titles'.C1>, <Cell 'netflix_titles'.D1>), (<Cell 'netflix_titles'.A2>, <Cell 'netflix_titles'.B2>, <Cell 'netflix_titles'.C2>, <Cell 'netflix_titles'.D2>), (<Cell 'netflix_titles'.A3>, <Cell 'netflix_titles'.B3>, <Cell 'netflix_titles'.C3>, <Cell 'netflix_titles'.D3>), (<Cell 'netflix_titles'.A4>, <Cell 'netflix_titles'.B4>, <Cell 'netflix_titles'.C4>, <Cell 'netflix_titles'.D4>), (<Cell 'netflix_titles'.A5>, <Cell 'netflix_titles'.B5>, <Cell 'netflix_titles'.C5>, <Cell 'netflix_titles'.D5>), (<Cell 'netflix_titles'.A6>, <Cell 'netflix_titles'.B6>, <Cell 'netflix_titles'.C6>, <Cell 'netflix_titles'.D6>), (<Cell 'netflix_titles'.A7>, <Cell 'netflix_titles'.B7>, <Cell 'netflix_titles'.C7>, <Cell 'netflix_titles'.D7>), (<Cell 'netflix_titles'.A8>, <Cell 'netflix_titles'.B8>, <Cell 'netflix_titles'.C8>, <Cell 'netflix_titles'.D8>), (<Cell 'netflix_titles'.A9>, <Cell 'netflix_titles'.B9>, <Cell 'netflix_titles'.C9>, <Cell 'netflix_titles'.D9>), (<Cell 'netflix_titles'.A10>, <Cell 'netflix_titles'.B10>, <Cell 'netflix_titles'.C10>, <Cell 'netflix_titles'.D10>), (<Cell 'netflix_titles'.A11>, <Cell 'netflix_titles'.B11>, <Cell 'netflix_titles'.C11>, <Cell 'netflix_titles'.D11>), (<Cell 'netflix_titles'.A12>, <Cell 'netflix_titles'.B12>, <Cell 'netflix_titles'.C12>, <Cell 'netflix_titles'.D12>), (<Cell 'netflix_titles'.A13>, <Cell 'netflix_titles'.B13>, <Cell 'netflix_titles'.C13>, <Cell 'netflix_titles'.D13>), (<Cell 'netflix_titles'.A14>, <Cell 'netflix_titles'.B14>, <Cell 'netflix_titles'.C14>, <Cell 'netflix_titles'.D14>), (<Cell 'netflix_titles'.A15>, <Cell 'netflix_titles'.B15>, <Cell 'netflix_titles'.C15>, <Cell 'netflix_titles'.D15>), (<Cell 'netflix_titles'.A16>, <Cell 'netflix_titles'.B16>, <Cell 'netflix_titles'.C16>, <Cell 'netflix_titles'.D16>), (<Cell 'netflix_titles'.A17>, <Cell 'netflix_titles'.B17>, <Cell 'netflix_titles'.C17>, <Cell 'netflix_titles'.D17>), (<Cell 'netflix_titles'.A18>, <Cell 'netflix_titles'.B18>, <Cell 'netflix_titles'.C18>, <Cell 'netflix_titles'.D18>), (<Cell 'netflix_titles'.A19>, <Cell 'netflix_titles'.B19>, <Cell 'netflix_titles'.C19>, <Cell 'netflix_titles'.D19>), (<Cell 'netflix_titles'.A20>, <Cell 'netflix_titles'.B20>, <Cell 'netflix_titles'.C20>, <Cell 'netflix_titles'.D20>), (<Cell 'netflix_titles'.A21>, <Cell 'netflix_titles'.B21>, <Cell 'netflix_titles'.C21>, <Cell 'netflix_titles'.D21>), (<Cell 'netflix_titles'.A22>, <Cell 'netflix_titles'.B22>, <Cell 'netflix_titles'.C22>, <Cell 'netflix_titles'.D22>), (<Cell 'netflix_titles'.A23>, <Cell 'netflix_titles'.B23>, <Cell 'netflix_titles'.C23>, <Cell 'netflix_titles'.D23>), (<Cell 'netflix_titles'.A24>, <Cell 'netflix_titles'.B24>, <Cell 'netflix_titles'.C24>, <Cell 'netflix_titles'.D24>), (<Cell 'netflix_titles'.A25>, <Cell 'netflix_titles'.B25>, <Cell 'netflix_titles'.C25>, <Cell 'netflix_titles'.D25>), (<Cell 'netflix_titles'.A26>, <Cell 'netflix_titles'.B26>, <Cell 'netflix_titles'.C26>, <Cell 'netflix_titles'.D26>), (<Cell 'netflix_titles'.A27>, <Cell 'netflix_titles'.B27>, <Cell 'netflix_titles'.C27>, <Cell 'netflix_titles'.D27>), (<Cell 'netflix_titles'.A28>, <Cell 'netflix_titles'.B28>, <Cell 'netflix_titles'.C28>, <Cell 'netflix_titles'.D28>), (<Cell 'netflix_titles'.A29>, <Cell 'netflix_titles'.B29>, <Cell 'netflix_titles'.C29>, <Cell 'netflix_titles'.D29>), (<Cell 'netflix_titles'.A30>, <Cell 'netflix_titles'.B30>, <Cell 'netflix_titles'.C30>, <Cell 'netflix_titles'.D30>), (<Cell 'netflix_titles'.A31>, <Cell 'netflix_titles'.B31>, <Cell 'netflix_titles'.C31>, <Cell 'netflix_titles'.D31>), (<Cell 'netflix_titles'.A32>, <Cell 'netflix_titles'.B32>, <Cell 'netflix_titles'.C32>, <Cell 'netflix_titles'.D32>), (<Cell 'netflix_titles'.A33>, <Cell 'netflix_titles'.B33>, <Cell 'netflix_titles'.C33>, <Cell 'netflix_titles'.D33>), (<Cell 'netflix_titles'.A34>, <Cell 'netflix_titles'.B34>, <Cell 'netflix_titles'.C34>, <Cell 'netflix_titles'.D34>), (<Cell 'netflix_titles'.A35>, <Cell 'netflix_titles'.B35>, <Cell 'netflix_titles'.C35>, <Cell 'netflix_titles'.D35>), (<Cell 'netflix_titles'.A36>, <Cell 'netflix_titles'.B36>, <Cell 'netflix_titles'.C36>, <Cell 'netflix_titles'.D36>), (<Cell 'netflix_titles'.A37>, <Cell 'netflix_titles'.B37>, <Cell 'netflix_titles'.C37>, <Cell 'netflix_titles'.D37>), (<Cell 'netflix_titles'.A38>, <Cell 'netflix_titles'.B38>, <Cell 'netflix_titles'.C38>, <Cell 'netflix_titles'.D38>), (<Cell 'netflix_titles'.A39>, <Cell 'netflix_titles'.B39>, <Cell 'netflix_titles'.C39>, <Cell 'netflix_titles'.D39>), (<Cell 'netflix_titles'.A40>, <Cell 'netflix_titles'.B40>, <Cell 'netflix_titles'.C40>, <Cell 'netflix_titles'.D40>), (<Cell 'netflix_titles'.A41>, <Cell 'netflix_titles'.B41>, <Cell 'netflix_titles'.C41>, <Cell 'netflix_titles'.D41>), (<Cell 'netflix_titles'.A42>, <Cell 'netflix_titles'.B42>, <Cell 'netflix_titles'.C42>, <Cell 'netflix_titles'.D42>), (<Cell 'netflix_titles'.A43>, <Cell 'netflix_titles'.B43>, <Cell 'netflix_titles'.C43>, <Cell 'netflix_titles'.D43>), (<Cell 'netflix_titles'.A44>, <Cell 'netflix_titles'.B44>, <Cell 'netflix_titles'.C44>, <Cell 'netflix_titles'.D44>), (<Cell 'netflix_titles'.A45>, <Cell 'netflix_titles'.B45>, <Cell 'netflix_titles'.C45>, <Cell 'netflix_titles'.D45>), (<Cell 'netflix_titles'.A46>, <Cell 'netflix_titles'.B46>, <Cell 'netflix_titles'.C46>, <Cell 'netflix_titles'.D46>), (<Cell 'netflix_titles'.A47>, <Cell 'netflix_titles'.B47>, <Cell 'netflix_titles'.C47>, <Cell 'netflix_titles'.D47>), (<Cell 'netflix_titles'.A48>, <Cell 'netflix_titles'.B48>, <Cell 'netflix_titles'.C48>, <Cell 'netflix_titles'.D48>), (<Cell 'netflix_titles'.A49>, <Cell 'netflix_titles'.B49>, <Cell 'netflix_titles'.C49>, <Cell 'netflix_titles'.D49>), (<Cell 'netflix_titles'.A50>, <Cell 'netflix_titles'.B50>, <Cell 'netflix_titles'.C50>, <Cell 'netflix_titles'.D50>))\n"
     ]
    }
   ],
   "source": [
    "print(cell_range)"
   ]
  },
  {
   "cell_type": "code",
   "execution_count": 8,
   "metadata": {},
   "outputs": [
    {
     "name": "stdout",
     "output_type": "stream",
     "text": [
      "('show_id', 'type', 'title', 'director')\n",
      "('s1', 'Movie', 'Dick Johnson Is Dead', 'Kirsten Johnson')\n",
      "('s2', 'TV Show', 'Blood & Water', None)\n",
      "('s3', 'TV Show', 'Ganglands', 'Julien Leclercq')\n",
      "('s4', 'TV Show', 'Jailbirds New Orleans', None)\n",
      "('s5', 'TV Show', 'Kota Factory', None)\n",
      "('s6', 'TV Show', 'Midnight Mass', 'Mike Flanagan')\n",
      "('s7', 'Movie', 'My Little Pony: A New Generation', 'Robert Cullen, JosÃ© Luis Ucha')\n",
      "('s8', 'Movie', 'Sankofa', 'Haile Gerima')\n",
      "('s9', 'TV Show', 'The Great British Baking Show', 'Andy Devonshire')\n",
      "('s10', 'Movie', 'The Starling', 'Theodore Melfi')\n",
      "('s11', 'TV Show', 'Vendetta: Truth, Lies and The Mafia', None)\n",
      "('s12', 'TV Show', 'Bangkok Breaking', 'Kongkiat Komesiri')\n",
      "('s13', 'Movie', 'Je Suis Karl', 'Christian Schwochow')\n",
      "('s14', 'Movie', 'Confessions of an Invisible Girl', 'Bruno Garotti')\n",
      "('s15', 'TV Show', 'Crime Stories: India Detectives', None)\n",
      "('s16', 'TV Show', 'Dear White People', None)\n",
      "('s17', 'Movie', \"Europe's Most Dangerous Man: Otto Skorzeny in Spain\", 'Pedro de Echave GarcÃ\\xada, Pablo AzorÃ\\xadn Williams')\n",
      "('s18', 'TV Show', 'Falsa identidad', None)\n",
      "('s19', 'Movie', 'Intrusion', 'Adam Salky')\n",
      "('s20', 'TV Show', 'Jaguar', None)\n",
      "('s21', 'TV Show', 'Monsters Inside: The 24 Faces of Billy Milligan', 'Olivier Megaton')\n",
      "('s22', 'TV Show', 'Resurrection: Ertugrul', None)\n",
      "('s23', 'Movie', 'Avvai Shanmughi', 'K.S. Ravikumar')\n",
      "('s24', 'Movie', 'Go! Go! Cory Carson: Chrissy Takes the Wheel', 'Alex Woo, Stanley Moore')\n",
      "('s25', 'Movie', 'Jeans', 'S. Shankar')\n",
      "('s26', 'TV Show', 'Love on the Spectrum', None)\n",
      "('s27', 'Movie', 'Minsara Kanavu', 'Rajiv Menon')\n",
      "('s28', 'Movie', 'Grown Ups', 'Dennis Dugan')\n",
      "('s29', 'Movie', 'Dark Skies', 'Scott Stewart')\n",
      "('s30', 'Movie', 'Paranoia', 'Robert Luketic')\n",
      "('s31', 'Movie', 'Ankahi Kahaniya', 'Ashwiny Iyer Tiwari, Abhishek Chaubey, Saket Chaudhary')\n",
      "('s32', 'TV Show', 'Chicago Party Aunt', None)\n",
      "('s33', 'TV Show', 'Sex Education', None)\n",
      "('s34', 'TV Show', 'Squid Game', None)\n",
      "('s35', 'TV Show', 'Tayo and Little Wizards', None)\n",
      "('s36', 'Movie', 'The Father Who Moves Mountains', 'Daniel Sandu')\n",
      "('s37', 'Movie', 'The Stronghold', 'CÃ©dric Jimenez')\n",
      "('s38', 'TV Show', 'Angry Birds', None)\n",
      "('s39', 'Movie', 'Birth of the Dragon', 'George Nolfi')\n",
      "('s40', 'TV Show', 'Chhota Bheem', None)\n",
      "('s41', 'TV Show', 'He-Man and the Masters of the Universe', None)\n",
      "('s42', 'Movie', 'Jaws', 'Steven Spielberg')\n",
      "('s43', 'Movie', 'Jaws 2', 'Jeannot Szwarc')\n",
      "('s44', 'Movie', 'Jaws 3', 'Joe Alves')\n",
      "('s45', 'Movie', 'Jaws: The Revenge', 'Joseph Sargent')\n",
      "('s46', 'Movie', 'My Heroes Were Cowboys', 'Tyler Greco')\n",
      "('s47', 'Movie', 'Safe House', 'Daniel Espinosa')\n",
      "('s48', 'TV Show', 'The Smart Money Woman', 'Bunmi Ajakaiye')\n",
      "('s49', 'Movie', 'Training Day', 'Antoine Fuqua')\n"
     ]
    }
   ],
   "source": [
    "# obtener valores de un rango\n",
    "for row in sheet.iter_rows(min_row=1, max_col=4,max_row=50, values_only=True):\n",
    "    print(row)"
   ]
  },
  {
   "cell_type": "code",
   "execution_count": 11,
   "metadata": {},
   "outputs": [
    {
     "name": "stdout",
     "output_type": "stream",
     "text": [
      "<Cell 'netflix_titles'.D2>\n"
     ]
    }
   ],
   "source": [
    "# Asignar un valor\n",
    "valor = sheet[\"D2\"]\n",
    "print(valor)"
   ]
  },
  {
   "cell_type": "code",
   "execution_count": 12,
   "metadata": {},
   "outputs": [],
   "source": [
    "valor.value = 10000"
   ]
  },
  {
   "cell_type": "code",
   "execution_count": 13,
   "metadata": {},
   "outputs": [],
   "source": [
    "# Puedo generar una nueva hoja\n",
    "ws1 = wb_obj.create_sheet(\"Ejemplo\")"
   ]
  },
  {
   "cell_type": "code",
   "execution_count": 15,
   "metadata": {},
   "outputs": [
    {
     "name": "stdout",
     "output_type": "stream",
     "text": [
      "netflix_titles\n",
      "Ejemplo\n"
     ]
    }
   ],
   "source": [
    "#para ver las hojas del archivo excel\n",
    "for sheet in wb_obj:\n",
    "    print(sheet.title)"
   ]
  },
  {
   "cell_type": "code",
   "execution_count": 16,
   "metadata": {},
   "outputs": [
    {
     "name": "stdout",
     "output_type": "stream",
     "text": [
      "None\n"
     ]
    }
   ],
   "source": [
    "print(sheet[\"C2\"].value)"
   ]
  },
  {
   "cell_type": "code",
   "execution_count": 24,
   "metadata": {},
   "outputs": [
    {
     "name": "stdout",
     "output_type": "stream",
     "text": [
      "show_idtypetitledirectorcastcountrydate_addedrelease_yearratingdurationlisted_indescription\n",
      "s1MovieDick Johnson Is DeadKirsten JohnsonNoneUnited StatesSeptember 25, 20212020PG-1390 minDocumentariesAs her father nears the end of his life, filmmaker Kirsten Johnson stages his death in inventive and comical ways to help them both face the inevitable.\n",
      "s2TV ShowBlood & WaterNoneAma Qamata, Khosi Ngema, Gail Mabalane, Thabang Molaba, Dillon Windvogel, Natasha Thahane, Arno Greeff, Xolile Tshabalala, Getmore Sithole, Cindy Mahlangu, Ryle De Morny, Greteli Fincham, Sello Maake Ka-Ncube, Odwa Gwanya, Mekaila Mathys, Sandi Schultz, Duane Williams, Shamilla Miller, Patrick MofokengSouth AfricaSeptember 24, 20212021TV-MA2 SeasonsInternational TV Shows, TV Dramas, TV MysteriesAfter crossing paths at a party, a Cape Town teen sets out to prove whether a private-school swimming star is her sister who was abducted at birth.\n",
      "s3TV ShowGanglandsJulien LeclercqSami Bouajila, Tracy Gotoas, Samuel Jouy, Nabiha Akkari, Sofia Lesaffre, Salim Kechiouche, Noureddine Farihi, Geert Van Rampelberg, Bakary DiomberaNoneSeptember 24, 20212021TV-MA1 SeasonCrime TV Shows, International TV Shows, TV Action & AdventureTo protect his family from a powerful drug lord, skilled thief Mehdi and his expert team of robbers are pulled into a violent and deadly turf war.\n",
      "s4TV ShowJailbirds New OrleansNoneNoneNoneSeptember 24, 20212021TV-MA1 SeasonDocuseries, Reality TVFeuds, flirtations and toilet talk go down among the incarcerated women at the Orleans Justice Center in New Orleans on this gritty reality series.\n",
      "s5TV ShowKota FactoryNoneMayur More, Jitendra Kumar, Ranjan Raj, Alam Khan, Ahsaas Channa, Revathi Pillai, Urvi Singh, Arun KumarIndiaSeptember 24, 20212021TV-MA2 SeasonsInternational TV Shows, Romantic TV Shows, TV ComediesIn a city of coaching centers known to train Indiaâ€™s finest collegiate minds, an earnest but unexceptional student and his friends navigate campus life.\n"
     ]
    }
   ],
   "source": [
    "# Se imprimen las primeras 5 líneas:\n",
    "for row in sheet.iter_rows(max_row=6):\n",
    "    for cell in row:\n",
    "        print(cell.value,end=\"\")\n",
    "    print()"
   ]
  },
  {
   "cell_type": "code",
   "execution_count": 25,
   "metadata": {},
   "outputs": [
    {
     "name": "stdout",
     "output_type": "stream",
     "text": [
      "8808 12\n"
     ]
    }
   ],
   "source": [
    "# se imprime el tamaño de la hoja abierta en filas y columnas\n",
    "print(sheet.max_row,sheet.max_column)"
   ]
  },
  {
   "cell_type": "code",
   "execution_count": 26,
   "metadata": {},
   "outputs": [
    {
     "data": {
      "text/plain": [
       "['show_id',\n",
       " 'type',\n",
       " 'title',\n",
       " 'director',\n",
       " 'cast',\n",
       " 'country',\n",
       " 'date_added',\n",
       " 'release_year',\n",
       " 'rating',\n",
       " 'duration',\n",
       " 'listed_in',\n",
       " 'description']"
      ]
     },
     "execution_count": 26,
     "metadata": {},
     "output_type": "execute_result"
    }
   ],
   "source": [
    "# Se puede además generar un diccionario con las columnas\n",
    "col_names=[]\n",
    "for column in sheet.iter_cols(1,sheet.max_column):\n",
    "    col_names.append(column[0].value)\n",
    "col_names"
   ]
  },
  {
   "attachments": {},
   "cell_type": "markdown",
   "metadata": {},
   "source": [
    "### Ecribiendo un archivo Excel\n",
    "* A partir de un diccionario, se genera un archivo de Excel\n",
    "* Si es que no se tiene la librería se debería instalar \"openpyxl\"\n",
    "* Existen muchas librerías diferentes de manejo de archivos Excel, se debe escojer la que mejor se adapte a las necesidades"
   ]
  },
  {
   "cell_type": "code",
   "execution_count": 29,
   "metadata": {},
   "outputs": [],
   "source": [
    "# importamos el módulo openpyxl\n",
    "import openpyxl\n",
    "\n",
    "# Call a workbook() function of openpyxl\n",
    "# to create a new blank workbook object\n",
    "wb = openpyxl.Workbook()\n",
    "\n",
    "#get workbook activate sheet\n",
    "#from the active attribute\n",
    "sheet = wb.active\n",
    "\n",
    "#Cell objects also have row, column\n",
    "# and coordinate attributes that provide\n",
    "#location information for the cell.alignment\n",
    "\n",
    "#note: the first row or column integer\n",
    "# is 1, not 0. Cell object is created by\n",
    "# using sheet object's cell() method\n",
    "c1= sheet.cell(row = 1, column = 1)\n",
    "\n",
    "# writing values to cells\n",
    "c1.value = \" Esta es una prueba\"\n",
    "c2 = sheet.cell(row= 2, column = 2)\n",
    "c2.value = \"Con Python y Excel\"\n",
    "\n",
    "# once have a worksheet object, one can\n",
    "# acces a cel object by its name also\n",
    "# A2 means column = 1 & row = 2\n",
    "c3 = sheet [\"A2\"]\n",
    "c3.value=\"para escribir\"\n",
    "#b2 means column = 2 & row = 2\n",
    "c4 = sheet[\"B2\"]\n",
    "c4.value = \"conenido\"\n",
    "\n",
    "# anytime you modify the workbook object\n",
    "# or its sheets and cells, the spreadsheet\n",
    "# file will not be saved until you call\n",
    "# the save() workbook method\n",
    "wb.save(\"/Users/Agus/Documents/Cursos/Analista de Datos/Parte II/Módulo 14/demo.xlsx\")\n",
    "\n"
   ]
  },
  {
   "attachments": {},
   "cell_type": "markdown",
   "metadata": {},
   "source": [
    "Ver ipynb del módulo 14 unidad 2"
   ]
  },
  {
   "attachments": {},
   "cell_type": "markdown",
   "metadata": {},
   "source": [
    "## Wrap up\n",
    "\n",
    "* Uso de archivos CSV,JSON y Excel\n",
    "* Se abren archivos, se utilizan estructuras para usar su data, y se pueden escribir además\n",
    "* Manejo de listas y diccionarios\n",
    "* Estas estructuras se pueden intercalar, es decir, se podría abrir un archivo JSON para luego escribirlo en Excel y viceversa\n",
    "* Es ahí donde está el verdadero poder de Python"
   ]
  },
  {
   "cell_type": "markdown",
   "metadata": {},
   "source": []
  }
 ],
 "metadata": {
  "kernelspec": {
   "display_name": "base",
   "language": "python",
   "name": "python3"
  },
  "language_info": {
   "codemirror_mode": {
    "name": "ipython",
    "version": 3
   },
   "file_extension": ".py",
   "mimetype": "text/x-python",
   "name": "python",
   "nbconvert_exporter": "python",
   "pygments_lexer": "ipython3",
   "version": "3.9.12"
  },
  "orig_nbformat": 4,
  "vscode": {
   "interpreter": {
    "hash": "f920f2f54e1424f7d1c7da139b726d98c9a7e9659687bffb8714be585c4594a9"
   }
  }
 },
 "nbformat": 4,
 "nbformat_minor": 2
}
