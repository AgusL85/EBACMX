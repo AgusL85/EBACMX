{
 "cells": [
  {
   "cell_type": "code",
   "execution_count": 4,
   "id": "87723974",
   "metadata": {},
   "outputs": [
    {
     "name": "stdout",
     "output_type": "stream",
     "text": [
      "Bienvenido al Curso de Phyton\n"
     ]
    }
   ],
   "source": [
    "print ('Bienvenido al Curso de Phyton')"
   ]
  },
  {
   "cell_type": "code",
   "execution_count": 5,
   "id": "66b1dae8",
   "metadata": {},
   "outputs": [
    {
     "name": "stdout",
     "output_type": "stream",
     "text": [
      "123\n"
     ]
    }
   ],
   "source": [
    "print (123)"
   ]
  },
  {
   "cell_type": "code",
   "execution_count": 6,
   "id": "4114a5c1",
   "metadata": {},
   "outputs": [],
   "source": [
    "x=10.5\n",
    "y=20"
   ]
  },
  {
   "cell_type": "code",
   "execution_count": 8,
   "id": "cb104981",
   "metadata": {},
   "outputs": [
    {
     "name": "stdout",
     "output_type": "stream",
     "text": [
      "10.5\n"
     ]
    }
   ],
   "source": [
    "print(x)"
   ]
  },
  {
   "cell_type": "code",
   "execution_count": 10,
   "id": "cf042091",
   "metadata": {},
   "outputs": [
    {
     "name": "stdout",
     "output_type": "stream",
     "text": [
      "El valor de la variable x es 10.5\n"
     ]
    }
   ],
   "source": [
    "print(\"El valor de la variable x es\",x)"
   ]
  },
  {
   "cell_type": "code",
   "execution_count": 11,
   "id": "1fd42b72",
   "metadata": {},
   "outputs": [
    {
     "name": "stdout",
     "output_type": "stream",
     "text": [
      "El resultado de z es 30.5\n"
     ]
    }
   ],
   "source": [
    "z= x+y\n",
    "print(\"El resultado de z es\",z)"
   ]
  },
  {
   "cell_type": "code",
   "execution_count": 12,
   "id": "6c817c1d",
   "metadata": {},
   "outputs": [
    {
     "name": "stdout",
     "output_type": "stream",
     "text": [
      "30.5\n"
     ]
    }
   ],
   "source": [
    "long_objeto1=10.5\n",
    "long_objeto2=20\n",
    "long_objeto3= long_objeto1+long_objeto2\n",
    "print(long_objeto3)"
   ]
  },
  {
   "cell_type": "code",
   "execution_count": null,
   "id": "dce2025e",
   "metadata": {},
   "outputs": [],
   "source": []
  }
 ],
 "metadata": {
  "kernelspec": {
   "display_name": "Python 3 (ipykernel)",
   "language": "python",
   "name": "python3"
  },
  "language_info": {
   "codemirror_mode": {
    "name": "ipython",
    "version": 3
   },
   "file_extension": ".py",
   "mimetype": "text/x-python",
   "name": "python",
   "nbconvert_exporter": "python",
   "pygments_lexer": "ipython3",
   "version": "3.9.12"
  }
 },
 "nbformat": 4,
 "nbformat_minor": 5
}
