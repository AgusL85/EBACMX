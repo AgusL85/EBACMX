{
 "cells": [
  {
   "cell_type": "code",
   "execution_count": 1,
   "id": "851a6b1d",
   "metadata": {},
   "outputs": [
    {
     "data": {
      "text/plain": [
       "['Pedro', 'Juan', 'José']"
      ]
     },
     "execution_count": 1,
     "metadata": {},
     "output_type": "execute_result"
    }
   ],
   "source": [
    "amigos=[\"Pedro\",\"Juan\",\"José\"]\n",
    "amigos"
   ]
  },
  {
   "cell_type": "code",
   "execution_count": 3,
   "id": "16ab9d25",
   "metadata": {},
   "outputs": [
    {
     "data": {
      "text/plain": [
       "['rojo', 15, [2, 9]]"
      ]
     },
     "execution_count": 3,
     "metadata": {},
     "output_type": "execute_result"
    }
   ],
   "source": [
    "elementos=[\"rojo\",15,[2,9]]\n",
    "elementos"
   ]
  },
  {
   "cell_type": "code",
   "execution_count": 4,
   "id": "d6419b2a",
   "metadata": {},
   "outputs": [
    {
     "name": "stdout",
     "output_type": "stream",
     "text": [
      "Juan\n"
     ]
    }
   ],
   "source": [
    "#para hacer referencia a cualquier elemento de una lista\n",
    "print(amigos[1])"
   ]
  },
  {
   "cell_type": "code",
   "execution_count": 5,
   "id": "24c7b2be",
   "metadata": {},
   "outputs": [
    {
     "data": {
      "text/plain": [
       "['Pedro', 'Juan', 'Jesús']"
      ]
     },
     "execution_count": 5,
     "metadata": {},
     "output_type": "execute_result"
    }
   ],
   "source": [
    "#hacer una lista mutable, para hacer cambios sobre los elementos de una lista\n",
    "amigos_cercanos=amigos\n",
    "amigos_cercanos[2]=\"Jesús\"\n",
    "amigos_cercanos"
   ]
  },
  {
   "cell_type": "code",
   "execution_count": 7,
   "id": "d640f884",
   "metadata": {},
   "outputs": [
    {
     "data": {
      "text/plain": [
       "3"
      ]
     },
     "execution_count": 7,
     "metadata": {},
     "output_type": "execute_result"
    }
   ],
   "source": [
    "#para calcular el número de elementos de una lista\n",
    "longitud=len(amigos)\n",
    "longitud"
   ]
  },
  {
   "cell_type": "code",
   "execution_count": 9,
   "id": "43869c6a",
   "metadata": {},
   "outputs": [
    {
     "name": "stdout",
     "output_type": "stream",
     "text": [
      "[1, 2, 3, 4, 5, 6]\n"
     ]
    }
   ],
   "source": [
    "#para concatenar listas\n",
    "a=[1,2,3]\n",
    "b=[4,5,6]\n",
    "c=a+b\n",
    "print(c) #no es necesario poner print, Phyton automáticamente identifica el nombre de las variables y con solo llamarlas imprime el resultado"
   ]
  },
  {
   "cell_type": "code",
   "execution_count": 12,
   "id": "26a82a7a",
   "metadata": {},
   "outputs": [
    {
     "data": {
      "text/plain": [
       "[2, 3]"
      ]
     },
     "execution_count": 12,
     "metadata": {},
     "output_type": "execute_result"
    }
   ],
   "source": [
    "#para rebanar listas\n",
    "c[1:3]"
   ]
  },
  {
   "cell_type": "code",
   "execution_count": 13,
   "id": "33c7c3c3",
   "metadata": {},
   "outputs": [
    {
     "data": {
      "text/plain": [
       "[3, 4, 5, 6]"
      ]
     },
     "execution_count": 13,
     "metadata": {},
     "output_type": "execute_result"
    }
   ],
   "source": [
    "c[2:]"
   ]
  },
  {
   "cell_type": "code",
   "execution_count": 14,
   "id": "34072061",
   "metadata": {},
   "outputs": [
    {
     "data": {
      "text/plain": [
       "list"
      ]
     },
     "execution_count": 14,
     "metadata": {},
     "output_type": "execute_result"
    }
   ],
   "source": [
    "#para saber que tipo de elemento estamos utilizando\n",
    "type(c)"
   ]
  },
  {
   "cell_type": "code",
   "execution_count": 15,
   "id": "f6b8086e",
   "metadata": {},
   "outputs": [
    {
     "data": {
      "text/plain": [
       "['__add__',\n",
       " '__class__',\n",
       " '__class_getitem__',\n",
       " '__contains__',\n",
       " '__delattr__',\n",
       " '__delitem__',\n",
       " '__dir__',\n",
       " '__doc__',\n",
       " '__eq__',\n",
       " '__format__',\n",
       " '__ge__',\n",
       " '__getattribute__',\n",
       " '__getitem__',\n",
       " '__gt__',\n",
       " '__hash__',\n",
       " '__iadd__',\n",
       " '__imul__',\n",
       " '__init__',\n",
       " '__init_subclass__',\n",
       " '__iter__',\n",
       " '__le__',\n",
       " '__len__',\n",
       " '__lt__',\n",
       " '__mul__',\n",
       " '__ne__',\n",
       " '__new__',\n",
       " '__reduce__',\n",
       " '__reduce_ex__',\n",
       " '__repr__',\n",
       " '__reversed__',\n",
       " '__rmul__',\n",
       " '__setattr__',\n",
       " '__setitem__',\n",
       " '__sizeof__',\n",
       " '__str__',\n",
       " '__subclasshook__',\n",
       " 'append',\n",
       " 'clear',\n",
       " 'copy',\n",
       " 'count',\n",
       " 'extend',\n",
       " 'index',\n",
       " 'insert',\n",
       " 'pop',\n",
       " 'remove',\n",
       " 'reverse',\n",
       " 'sort']"
      ]
     },
     "execution_count": 15,
     "metadata": {},
     "output_type": "execute_result"
    }
   ],
   "source": [
    "#para conocer los diferentes comandos que se puenden aplicar\n",
    "dir(c)"
   ]
  },
  {
   "cell_type": "code",
   "execution_count": 17,
   "id": "611f451d",
   "metadata": {},
   "outputs": [
    {
     "data": {
      "text/plain": [
       "[]"
      ]
     },
     "execution_count": 17,
     "metadata": {},
     "output_type": "execute_result"
    }
   ],
   "source": [
    "#para generar listas desde cero\n",
    "listado=list()\n",
    "listado"
   ]
  },
  {
   "cell_type": "code",
   "execution_count": 19,
   "id": "8eaa5c3d",
   "metadata": {},
   "outputs": [
    {
     "data": {
      "text/plain": [
       "['libro', 100]"
      ]
     },
     "execution_count": 19,
     "metadata": {},
     "output_type": "execute_result"
    }
   ],
   "source": [
    "#para agregar un elemento a una lista\n",
    "listado.append(\"libro\")\n",
    "listado.append(100)\n",
    "listado"
   ]
  },
  {
   "cell_type": "code",
   "execution_count": 20,
   "id": "c42e67be",
   "metadata": {},
   "outputs": [
    {
     "data": {
      "text/plain": [
       "['Pedro', 'Juan', 'Jesús']"
      ]
     },
     "execution_count": 20,
     "metadata": {},
     "output_type": "execute_result"
    }
   ],
   "source": [
    "#para ordenar las listas\n",
    "amigos"
   ]
  },
  {
   "cell_type": "code",
   "execution_count": 23,
   "id": "23fca588",
   "metadata": {},
   "outputs": [
    {
     "data": {
      "text/plain": [
       "['Jesús', 'Juan', 'Pedro']"
      ]
     },
     "execution_count": 23,
     "metadata": {},
     "output_type": "execute_result"
    }
   ],
   "source": [
    "amigos.sort()\n",
    "amigos"
   ]
  },
  {
   "cell_type": "code",
   "execution_count": 24,
   "id": "9f3785c3",
   "metadata": {},
   "outputs": [
    {
     "name": "stdout",
     "output_type": "stream",
     "text": [
      "6\n"
     ]
    }
   ],
   "source": [
    "#para conocer el elemnto máximo en una lista\n",
    "print(max(c))"
   ]
  },
  {
   "cell_type": "code",
   "execution_count": 25,
   "id": "397f8f6b",
   "metadata": {},
   "outputs": [
    {
     "name": "stdout",
     "output_type": "stream",
     "text": [
      "21\n"
     ]
    }
   ],
   "source": [
    "#para conocer la suma de los elementos de una lista\n",
    "print(sum(c))"
   ]
  },
  {
   "cell_type": "code",
   "execution_count": 26,
   "id": "3adbe525",
   "metadata": {},
   "outputs": [
    {
     "data": {
      "text/plain": [
       "['José', 'Claudia', 'Ramiro']"
      ]
     },
     "execution_count": 26,
     "metadata": {},
     "output_type": "execute_result"
    }
   ],
   "source": [
    "#combinación de listas con cadenas, es decir una relación de cadenas y listas\n",
    "amigos=\"José Claudia Ramiro\"\n",
    "lista_amigos=amigos.split()\n",
    "lista_amigos"
   ]
  },
  {
   "cell_type": "code",
   "execution_count": null,
   "id": "4b70c63c",
   "metadata": {},
   "outputs": [],
   "source": []
  }
 ],
 "metadata": {
  "kernelspec": {
   "display_name": "Python 3 (ipykernel)",
   "language": "python",
   "name": "python3"
  },
  "language_info": {
   "codemirror_mode": {
    "name": "ipython",
    "version": 3
   },
   "file_extension": ".py",
   "mimetype": "text/x-python",
   "name": "python",
   "nbconvert_exporter": "python",
   "pygments_lexer": "ipython3",
   "version": "3.9.12"
  }
 },
 "nbformat": 4,
 "nbformat_minor": 5
}
