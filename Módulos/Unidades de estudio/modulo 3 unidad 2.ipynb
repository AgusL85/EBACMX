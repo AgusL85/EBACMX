{
 "cells": [
  {
   "cell_type": "code",
   "execution_count": 2,
   "id": "ef8f223f",
   "metadata": {},
   "outputs": [
    {
     "name": "stdout",
     "output_type": "stream",
     "text": [
      "b es mayor que a\n"
     ]
    }
   ],
   "source": [
    "a=33\n",
    "b=200\n",
    "if b > a:\n",
    "    print(\"b es mayor que a\")\n",
    "    \n",
    "    "
   ]
  },
  {
   "cell_type": "code",
   "execution_count": 4,
   "id": "c9b4cdf6",
   "metadata": {},
   "outputs": [
    {
     "ename": "IndentationError",
     "evalue": "expected an indented block (974798022.py, line 4)",
     "output_type": "error",
     "traceback": [
      "\u001b[1;36m  Input \u001b[1;32mIn [4]\u001b[1;36m\u001b[0m\n\u001b[1;33m    print(\"b es mayor que a\")\u001b[0m\n\u001b[1;37m    ^\u001b[0m\n\u001b[1;31mIndentationError\u001b[0m\u001b[1;31m:\u001b[0m expected an indented block\n"
     ]
    }
   ],
   "source": [
    "a=33\n",
    "b=200\n",
    "if b > a:\n",
    "print(\"b es mayor que a\")\n",
    "    "
   ]
  },
  {
   "cell_type": "code",
   "execution_count": 9,
   "id": "4af86629",
   "metadata": {},
   "outputs": [
    {
     "name": "stdout",
     "output_type": "stream",
     "text": [
      "1\n",
      "2\n",
      "3\n"
     ]
    }
   ],
   "source": [
    "if \"f\" in \"foo\":   #cuando una condición se cumple se ejecuta la orden\n",
    "    print(\"1\")\n",
    "    print(\"2\")\n",
    "    print(\"3\")"
   ]
  },
  {
   "cell_type": "code",
   "execution_count": 11,
   "id": "908e402f",
   "metadata": {},
   "outputs": [
    {
     "name": "stdout",
     "output_type": "stream",
     "text": [
      "1\n",
      "2\n",
      "3\n"
     ]
    }
   ],
   "source": [
    "if \"f\" in \"foo\": print(\"1\");print(\"2\");print(\"3\") #Alternativa a ejecución en varios renglones"
   ]
  },
  {
   "cell_type": "code",
   "execution_count": 12,
   "id": "b77dceb8",
   "metadata": {},
   "outputs": [
    {
     "name": "stdout",
     "output_type": "stream",
     "text": [
      "i es mayor que 11\n"
     ]
    }
   ],
   "source": [
    "i=15\n",
    "if i > 11: print(\"i es mayor que 11\")"
   ]
  },
  {
   "cell_type": "code",
   "execution_count": 6,
   "id": "5fe740ec",
   "metadata": {},
   "outputs": [
    {
     "name": "stdout",
     "output_type": "stream",
     "text": [
      "Ambas condiciones son verdaderas\n"
     ]
    }
   ],
   "source": [
    "# condiciones con disyunciones o conjunciones\n",
    "a=200\n",
    "b=33\n",
    "c=500\n",
    "if a>b and c>a:\n",
    "    print(\"Ambas condiciones son verdaderas\")"
   ]
  },
  {
   "cell_type": "code",
   "execution_count": 8,
   "id": "ad5ffe02",
   "metadata": {},
   "outputs": [
    {
     "name": "stdout",
     "output_type": "stream",
     "text": [
      "Al menos una de las condiciones es verdadera\n"
     ]
    }
   ],
   "source": [
    "# condiciones con disyunciones o conjunciones\n",
    "a=200\n",
    "b=33\n",
    "c=500\n",
    "if a>b or c>a:\n",
    "    print(\"Al menos una de las condiciones es verdadera\")"
   ]
  },
  {
   "cell_type": "code",
   "execution_count": 11,
   "id": "eda9ae2f",
   "metadata": {},
   "outputs": [
    {
     "name": "stdout",
     "output_type": "stream",
     "text": [
      "Grande\n",
      "FIN\n"
     ]
    }
   ],
   "source": [
    "# ejemplo con diagrama de flujo, ver ppt\n",
    "x=50\n",
    "if x <10:\n",
    "    print(\"Pequeño\")\n",
    "if x >20:\n",
    "    print (\"Grande\")\n",
    "print (\"FIN\")\n"
   ]
  },
  {
   "cell_type": "code",
   "execution_count": 13,
   "id": "7fe5d42b",
   "metadata": {},
   "outputs": [
    {
     "name": "stdout",
     "output_type": "stream",
     "text": [
      "Igual a 5\n",
      "Mayor a 4\n",
      "Mayor o igual a 5\n",
      "Menor a 5\n",
      "Menor o igual a 5\n",
      "Diferente de 6\n"
     ]
    }
   ],
   "source": [
    "x=5\n",
    "if x==5: print(\"Igual a 5\")\n",
    "if x>4:  print(\"Mayor a 4\")\n",
    "if x>=5: print (\"Mayor o igual a 5\")\n",
    "if 5<6:  print(\"Menor a 5\")\n",
    "if x<=5: print(\"Menor o igual a 5\")\n",
    "if x!=6: print(\"Diferente de 6\")\n",
    "    "
   ]
  },
  {
   "cell_type": "code",
   "execution_count": 17,
   "id": "d40d54d3",
   "metadata": {},
   "outputs": [
    {
     "name": "stdout",
     "output_type": "stream",
     "text": [
      "Dame un número 0\n",
      "Proceso terminado\n"
     ]
    }
   ],
   "source": [
    "# Decisiones “anidadas” (nested) 0 if anidado\n",
    "# Vamos a convertir de cadena a punto flotante\n",
    "x= input(\"Dame un número \")\n",
    "if float(x)>1:\n",
    "    print(\"Mayor a uno\")\n",
    "    if float (x)<100:\n",
    "        print(\"Menor a 100\")\n",
    "print(\"Proceso terminado\")\n"
   ]
  },
  {
   "cell_type": "code",
   "execution_count": 21,
   "id": "da325dc3",
   "metadata": {},
   "outputs": [
    {
     "name": "stdout",
     "output_type": "stream",
     "text": [
      "Más pequeño\n",
      "FIN DEL PROCESO\n"
     ]
    }
   ],
   "source": [
    "# Decisiones de dos caminos\n",
    "x=1\n",
    "if x >2:\n",
    "    print(\"Más grande\")\n",
    "else:\n",
    "    print(\"Más pequeño\")\n",
    "print(\"FIN DEL PROCESO\")"
   ]
  },
  {
   "cell_type": "code",
   "execution_count": 26,
   "id": "b5ed3995",
   "metadata": {},
   "outputs": [
    {
     "name": "stdout",
     "output_type": "stream",
     "text": [
      "Dame un número: 1\n",
      "x =  1.0\n",
      "Pequeño\n",
      "\n",
      "FIN\n"
     ]
    }
   ],
   "source": [
    "# Decisiones de caminos múltiples\n",
    "x= float(input(\"Dame un número: \"))\n",
    "if x < 2:\n",
    "    print(\"x = \",x)\n",
    "    print(\"Pequeño\")\n",
    "elif x < 10:\n",
    "    print(\"x = \",x)\n",
    "    print(\"Mediano\")\n",
    "else:\n",
    "    print(\"x = \",x)\n",
    "    print(\"Grande\")\n",
    "print(\"\\nFIN\")"
   ]
  },
  {
   "cell_type": "code",
   "execution_count": 30,
   "id": "8938f610",
   "metadata": {},
   "outputs": [
    {
     "name": "stdout",
     "output_type": "stream",
     "text": [
      "Dame un número: 200\n",
      "x =  200.0\n",
      "Grande\n",
      "\n",
      "FIN\n"
     ]
    }
   ],
   "source": [
    "# cómo hacemos el ejercicio anterior más fácil\n",
    "x= float(input(\"Dame un número: \"))\n",
    "print(\"x = \",x) #como este se repite se pone al principio de cada instrucción\n",
    "if x < 2: print(\"Pequeño\")\n",
    "elif x < 10: print(\"Mediano\")\n",
    "else: print(\"Grande\")\n",
    "print(\"\\nFIN\")"
   ]
  },
  {
   "cell_type": "code",
   "execution_count": 3,
   "id": "e10c3639",
   "metadata": {},
   "outputs": [
    {
     "name": "stdout",
     "output_type": "stream",
     "text": [
      "Dame un número: hola\n"
     ]
    },
    {
     "ename": "ValueError",
     "evalue": "could not convert string to float: 'hola'",
     "output_type": "error",
     "traceback": [
      "\u001b[1;31m---------------------------------------------------------------------------\u001b[0m",
      "\u001b[1;31mValueError\u001b[0m                                Traceback (most recent call last)",
      "Input \u001b[1;32mIn [3]\u001b[0m, in \u001b[0;36m<cell line: 2>\u001b[1;34m()\u001b[0m\n\u001b[0;32m      1\u001b[0m \u001b[38;5;66;03m# se pueden insertar los ELIF que uno deseé\u001b[39;00m\n\u001b[1;32m----> 2\u001b[0m x\u001b[38;5;241m=\u001b[39m \u001b[38;5;28;43mfloat\u001b[39;49m\u001b[43m(\u001b[49m\u001b[38;5;28;43minput\u001b[39;49m\u001b[43m(\u001b[49m\u001b[38;5;124;43m\"\u001b[39;49m\u001b[38;5;124;43mDame un número: \u001b[39;49m\u001b[38;5;124;43m\"\u001b[39;49m\u001b[43m)\u001b[49m\u001b[43m)\u001b[49m\n\u001b[0;32m      3\u001b[0m \u001b[38;5;28mprint\u001b[39m(\u001b[38;5;124m\"\u001b[39m\u001b[38;5;124mx = \u001b[39m\u001b[38;5;124m\"\u001b[39m,x) \u001b[38;5;66;03m#como este se repite se pone al principio de cada instrucción\u001b[39;00m\n\u001b[0;32m      4\u001b[0m \u001b[38;5;28;01mif\u001b[39;00m x \u001b[38;5;241m<\u001b[39m \u001b[38;5;241m2\u001b[39m: \u001b[38;5;28mprint\u001b[39m(\u001b[38;5;124m\"\u001b[39m\u001b[38;5;124mPequeño\u001b[39m\u001b[38;5;124m\"\u001b[39m)\n",
      "\u001b[1;31mValueError\u001b[0m: could not convert string to float: 'hola'"
     ]
    }
   ],
   "source": [
    "# se pueden insertar los ELIF que uno deseé\n",
    "x= float(input(\"Dame un número: \"))\n",
    "print(\"x = \",x) #como este se repite se pone al principio de cada instrucción\n",
    "if x < 2: print(\"Pequeño\")\n",
    "elif x < 10: print(\"Mediano\")\n",
    "elif x < 20: print(\"Grande\")\n",
    "else: print(\"Gigante\")\n",
    "print(\"\\nFIN\")"
   ]
  },
  {
   "cell_type": "code",
   "execution_count": 32,
   "id": "b6d5afb3",
   "metadata": {},
   "outputs": [
    {
     "name": "stdout",
     "output_type": "stream",
     "text": [
      "B\n"
     ]
    }
   ],
   "source": [
    "# caso especial de condiciones cortas\n",
    "a=3\n",
    "b=5\n",
    "print(\"A\") if a > b else print(\"B\")"
   ]
  },
  {
   "cell_type": "code",
   "execution_count": 2,
   "id": "ccfe2ae6",
   "metadata": {},
   "outputs": [
    {
     "name": "stdout",
     "output_type": "stream",
     "text": [
      "B es mayor\n"
     ]
    }
   ],
   "source": [
    "# caso especial de condiciones cortas. Ejemplo 2\n",
    "a=3\n",
    "b=5\n",
    "print (\"A es mayor\") if a > b else print (\"=\") if a==b else print(\"B es mayor\")"
   ]
  },
  {
   "cell_type": "code",
   "execution_count": 37,
   "id": "aa09601c",
   "metadata": {},
   "outputs": [],
   "source": [
    "# ejemplo de pasar (\"paso\") y a Phyton se le dice que no haga nada\n",
    "a=33\n",
    "b= 200\n",
    "if b>a:\n",
    "    pass\n"
   ]
  },
  {
   "cell_type": "code",
   "execution_count": 40,
   "id": "781b4721",
   "metadata": {},
   "outputs": [
    {
     "name": "stdout",
     "output_type": "stream",
     "text": [
      "Dame un entero positivo: pablo\n",
      "Valor incorrecto\n"
     ]
    }
   ],
   "source": [
    "#Ejemplo de TRY y EXCEPT\n",
    "cadena=input(\"Dame un entero positivo: \")\n",
    "try:\n",
    "    entero=int(cadena)\n",
    "except:\n",
    "    entero=-1\n",
    "\n",
    "    if entero > 0:\n",
    "        print(\"Valor correcto\")\n",
    "    else:\n",
    "        print(\"Valor incorrecto\")"
   ]
  },
  {
   "cell_type": "markdown",
   "id": "4c553563",
   "metadata": {},
   "source": [
    "## Usos avanzados de IF\n"
   ]
  },
  {
   "cell_type": "code",
   "execution_count": 41,
   "id": "8e50a14e",
   "metadata": {},
   "outputs": [
    {
     "name": "stdout",
     "output_type": "stream",
     "text": [
      "Vamos a la biblioteca\n"
     ]
    }
   ],
   "source": [
    "lluvia= True\n",
    "print(\"Vamos a\",\"la playa\" if not lluvia else \"la biblioteca\")"
   ]
  },
  {
   "cell_type": "code",
   "execution_count": 42,
   "id": "2644ba96",
   "metadata": {},
   "outputs": [
    {
     "name": "stdout",
     "output_type": "stream",
     "text": [
      "Vamos a la playa\n"
     ]
    }
   ],
   "source": [
    "lluvia= False\n",
    "print(\"Vamos a\",\"la playa\" if not lluvia else \"la biblioteca\")"
   ]
  },
  {
   "cell_type": "code",
   "execution_count": 45,
   "id": "f061b451",
   "metadata": {},
   "outputs": [
    {
     "data": {
      "text/plain": [
       "42"
      ]
     },
     "execution_count": 45,
     "metadata": {},
     "output_type": "execute_result"
    }
   ],
   "source": [
    "#Asignaciones múltiples en Phyton\n",
    "x=y=40\n",
    "z=x+1 if x>y else y+2\n",
    "z"
   ]
  },
  {
   "cell_type": "code",
   "execution_count": 49,
   "id": "609940ca",
   "metadata": {},
   "outputs": [
    {
     "data": {
      "text/plain": [
       "'mno'"
      ]
     },
     "execution_count": 49,
     "metadata": {},
     "output_type": "execute_result"
    }
   ],
   "source": [
    "x=3\n",
    "s= ('abc' if (x==1) else\n",
    "    'def' if (x==2) else\n",
    "    'ghi' if (x==4) else\n",
    "    'mno')\n",
    "s"
   ]
  },
  {
   "cell_type": "code",
   "execution_count": 52,
   "id": "a512e26b",
   "metadata": {},
   "outputs": [
    {
     "data": {
      "text/plain": [
       "'no'"
      ]
     },
     "execution_count": 52,
     "metadata": {},
     "output_type": "execute_result"
    }
   ],
   "source": [
    "'Si' if ('jkl' in ['abc','def', 'ghi']) else 'no'"
   ]
  },
  {
   "cell_type": "code",
   "execution_count": null,
   "id": "cc571a60",
   "metadata": {},
   "outputs": [],
   "source": []
  }
 ],
 "metadata": {
  "kernelspec": {
   "display_name": "Python 3 (ipykernel)",
   "language": "python",
   "name": "python3"
  },
  "language_info": {
   "codemirror_mode": {
    "name": "ipython",
    "version": 3
   },
   "file_extension": ".py",
   "mimetype": "text/x-python",
   "name": "python",
   "nbconvert_exporter": "python",
   "pygments_lexer": "ipython3",
   "version": "3.9.12"
  }
 },
 "nbformat": 4,
 "nbformat_minor": 5
}
