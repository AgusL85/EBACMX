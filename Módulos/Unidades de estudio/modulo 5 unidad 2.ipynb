{
 "cells": [
  {
   "cell_type": "code",
   "execution_count": 5,
   "id": "5d796f67",
   "metadata": {},
   "outputs": [
    {
     "name": "stdout",
     "output_type": "stream",
     "text": [
      "1\n",
      "2\n",
      "3\n",
      "4\n"
     ]
    }
   ],
   "source": [
    "# proceso de desdoblamiento en la recursividad\n",
    "\n",
    "def imprimir (x):\n",
    "    if x > 0:\n",
    "        imprimir (x-1)\n",
    "        print(x)\n",
    "        \n",
    "imprimir (4)"
   ]
  },
  {
   "cell_type": "code",
   "execution_count": 7,
   "id": "47eb1cb5",
   "metadata": {},
   "outputs": [
    {
     "name": "stdout",
     "output_type": "stream",
     "text": [
      "25\n"
     ]
    }
   ],
   "source": [
    "# suma de una lista sin recursividad\n",
    "\n",
    "def suma(lista):\n",
    "    suma=0\n",
    "    for i in range (0, len(lista)):\n",
    "        suma = suma + lista [i]\n",
    "    return suma\n",
    "print(suma([6,3,4,2,10]))"
   ]
  },
  {
   "cell_type": "code",
   "execution_count": 9,
   "id": "a9e5fdeb",
   "metadata": {},
   "outputs": [
    {
     "name": "stdout",
     "output_type": "stream",
     "text": [
      "25\n"
     ]
    }
   ],
   "source": [
    "# suma de una lista con recursividad\n",
    "\n",
    "def suma(lista):\n",
    "    if len(lista)==1:\n",
    "        return lista [0]\n",
    "    else:\n",
    "        return lista [0] + suma(lista[1:])\n",
    "print (suma([6,3,4,2,10]))\n",
    "    "
   ]
  },
  {
   "cell_type": "code",
   "execution_count": 1,
   "id": "967f9a07",
   "metadata": {},
   "outputs": [
    {
     "name": "stdout",
     "output_type": "stream",
     "text": [
      "3628800\n"
     ]
    }
   ],
   "source": [
    "# Ejercicio Desarrolle una función recursiva en Python que le permita al usuario obtener el factorial de un número n.\n",
    "\n",
    "def factorial(n):\n",
    "    if n == 1:\n",
    "        return 1\n",
    "    else:\n",
    "        return n * factorial (n-1)\n",
    "print(factorial(10))"
   ]
  },
  {
   "cell_type": "code",
   "execution_count": null,
   "id": "9d06ee64",
   "metadata": {},
   "outputs": [],
   "source": []
  }
 ],
 "metadata": {
  "kernelspec": {
   "display_name": "Python 3 (ipykernel)",
   "language": "python",
   "name": "python3"
  },
  "language_info": {
   "codemirror_mode": {
    "name": "ipython",
    "version": 3
   },
   "file_extension": ".py",
   "mimetype": "text/x-python",
   "name": "python",
   "nbconvert_exporter": "python",
   "pygments_lexer": "ipython3",
   "version": "3.9.12"
  }
 },
 "nbformat": 4,
 "nbformat_minor": 5
}
