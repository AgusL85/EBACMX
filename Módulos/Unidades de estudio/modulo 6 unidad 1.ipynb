{
 "cells": [
  {
   "cell_type": "code",
   "execution_count": 1,
   "id": "e3fc2f46",
   "metadata": {},
   "outputs": [],
   "source": [
    "# Creación de una nueva clase\n",
    "\n",
    "class mi_clase:\n",
    "    pass"
   ]
  },
  {
   "cell_type": "code",
   "execution_count": 2,
   "id": "e0c20548",
   "metadata": {},
   "outputs": [
    {
     "name": "stdout",
     "output_type": "stream",
     "text": [
      "5\n",
      "10\n"
     ]
    }
   ],
   "source": [
    "# Creación de un nuevo objeto\n",
    "objeto=mi_clase\n",
    "#damos de alta características al objeto sobre la marcha\n",
    "objeto.x = 5\n",
    "objeto.y = 10\n",
    "\n",
    "print(objeto.x)\n",
    "print(objeto.y)"
   ]
  },
  {
   "cell_type": "code",
   "execution_count": 3,
   "id": "dc338a9b",
   "metadata": {},
   "outputs": [],
   "source": [
    "# Creación de una nueva clase con atributos iniciales\n",
    "class mi_clase:\n",
    "    x = 5\n",
    "    y = 10"
   ]
  },
  {
   "cell_type": "code",
   "execution_count": 4,
   "id": "b7d68608",
   "metadata": {},
   "outputs": [
    {
     "name": "stdout",
     "output_type": "stream",
     "text": [
      "5\n",
      "10\n"
     ]
    }
   ],
   "source": [
    "objeto = mi_clase()\n",
    "print(objeto.x)\n",
    "print(objeto.y)"
   ]
  },
  {
   "cell_type": "code",
   "execution_count": 5,
   "id": "b3c3e886",
   "metadata": {},
   "outputs": [
    {
     "name": "stdout",
     "output_type": "stream",
     "text": [
      "5\n",
      "10\n"
     ]
    }
   ],
   "source": [
    "objeto = mi_clase\n",
    "print(objeto.x)\n",
    "print(objeto.y)"
   ]
  },
  {
   "cell_type": "code",
   "execution_count": 6,
   "id": "061a6cab",
   "metadata": {},
   "outputs": [],
   "source": [
    "# se pueden asociar a los objetos acciones\n",
    "\n",
    "# Definición de un método para una clase\n",
    "\n",
    "class aviso:\n",
    "    def saludar(self): #el primer parámetro siempre se refiere al objeto mismo\n",
    "        print(\"¡Hola, buen día!\")"
   ]
  },
  {
   "cell_type": "code",
   "execution_count": 10,
   "id": "df25837f",
   "metadata": {},
   "outputs": [
    {
     "name": "stdout",
     "output_type": "stream",
     "text": [
      "¡Hola, buen día!\n"
     ]
    }
   ],
   "source": [
    "texto = aviso ()\n",
    "texto.saludar()"
   ]
  },
  {
   "cell_type": "code",
   "execution_count": 1,
   "id": "dec07e51",
   "metadata": {},
   "outputs": [],
   "source": [
    "# Definición de una clase para almacenar los datos de estudiantes (nombre y calificaciones)\n",
    "class Estudiante:\n",
    "    def aprobado(self):\n",
    "        if self.calif >= 60:\n",
    "            return True\n",
    "        else:\n",
    "            return False\n",
    "        \n",
    "    \n",
    "    "
   ]
  },
  {
   "cell_type": "code",
   "execution_count": 3,
   "id": "7f70fa27",
   "metadata": {},
   "outputs": [
    {
     "name": "stdout",
     "output_type": "stream",
     "text": [
      "True\n"
     ]
    }
   ],
   "source": [
    "estudiante1=Estudiante()\n",
    "estudiante1.nombre =\"Juan\"\n",
    "estudiante1.calif=80\n",
    "aprobo1 = estudiante1.aprobado()\n",
    "print(aprobo1)"
   ]
  },
  {
   "cell_type": "code",
   "execution_count": 4,
   "id": "edd141c3",
   "metadata": {},
   "outputs": [
    {
     "name": "stdout",
     "output_type": "stream",
     "text": [
      "False\n"
     ]
    }
   ],
   "source": [
    "estudiante2=Estudiante()\n",
    "estudiante2.nombre =\"Araceli\"\n",
    "estudiante2.calif=50\n",
    "aprobo2 = estudiante2.aprobado()\n",
    "print(aprobo2)"
   ]
  },
  {
   "cell_type": "code",
   "execution_count": 5,
   "id": "87a99330",
   "metadata": {},
   "outputs": [],
   "source": [
    "# Manejor de un constructor \n",
    "\n",
    "class Estudiante:\n",
    "    def aprobado(self):\n",
    "        if self.calif >= 60:\n",
    "            return True\n",
    "        else:\n",
    "            return False\n",
    "    def __init__(self,nombre,calif):\n",
    "        self.nombre=nombre\n",
    "        self.calif=calif\n",
    "        "
   ]
  },
  {
   "cell_type": "code",
   "execution_count": 13,
   "id": "a1c441ff",
   "metadata": {},
   "outputs": [
    {
     "name": "stdout",
     "output_type": "stream",
     "text": [
      "Araceli\n",
      "50\n"
     ]
    }
   ],
   "source": [
    "estudiante2=Estudiante(\"Araceli\",50)\n",
    "print(estudiante2.nombre)\n",
    "print(estudiante2.calif)"
   ]
  },
  {
   "cell_type": "code",
   "execution_count": 12,
   "id": "b5f47aa3",
   "metadata": {},
   "outputs": [
    {
     "name": "stdout",
     "output_type": "stream",
     "text": [
      "Juan\n",
      "80\n"
     ]
    }
   ],
   "source": [
    "estudiante1=Estudiante(\"Juan\",80)\n",
    "print(estudiante1.nombre)\n",
    "print(estudiante1.calif)"
   ]
  },
  {
   "cell_type": "code",
   "execution_count": 14,
   "id": "573c42bf",
   "metadata": {},
   "outputs": [
    {
     "name": "stdout",
     "output_type": "stream",
     "text": [
      "True\n",
      "False\n"
     ]
    }
   ],
   "source": [
    "aprobo1=estudiante1.aprobado()\n",
    "aprobo2=estudiante2.aprobado()\n",
    "print(aprobo1)\n",
    "print(aprobo2)"
   ]
  },
  {
   "cell_type": "code",
   "execution_count": 1,
   "id": "283e1b7f",
   "metadata": {},
   "outputs": [],
   "source": [
    "# Ejemplo\n",
    "# Desarrolle una clase en Python que le permita al usuario calcular la suma de dos números complejos.\n",
    "\n",
    "class complejo:\n",
    "    def __init__(self, real, imaginario):\n",
    "        self.real= real\n",
    "        self.imaginario= imaginario\n",
    "        \n",
    "    def agregar (self,numero):\n",
    "        real=self.real + numero.real\n",
    "        imaginario= self.imaginario + numero.imaginario\n",
    "        resultado = complejo (real,imaginario)\n",
    "        return resultado"
   ]
  },
  {
   "cell_type": "code",
   "execution_count": 3,
   "id": "2ecd05d9",
   "metadata": {},
   "outputs": [
    {
     "name": "stdout",
     "output_type": "stream",
     "text": [
      "Parte real: 5\n",
      "Parte imaginario: 7\n"
     ]
    }
   ],
   "source": [
    "numero1=complejo(2,3)\n",
    "numero2=complejo(3,4)\n",
    "\n",
    "suma= numero1.agregar(numero2)\n",
    "print(\"Parte real:\", suma.real)\n",
    "print(\"Parte imaginario:\", suma.imaginario)"
   ]
  },
  {
   "cell_type": "code",
   "execution_count": 4,
   "id": "0f7d594a",
   "metadata": {},
   "outputs": [
    {
     "ename": "NameError",
     "evalue": "name 'numero1' is not defined",
     "output_type": "error",
     "traceback": [
      "\u001b[1;31m---------------------------------------------------------------------------\u001b[0m",
      "\u001b[1;31mNameError\u001b[0m                                 Traceback (most recent call last)",
      "Input \u001b[1;32mIn [4]\u001b[0m, in \u001b[0;36m<cell line: 2>\u001b[1;34m()\u001b[0m\n\u001b[0;32m      1\u001b[0m \u001b[38;5;28;01mdel\u001b[39;00m numero1\n\u001b[1;32m----> 2\u001b[0m \u001b[43mnumero1\u001b[49m\n",
      "\u001b[1;31mNameError\u001b[0m: name 'numero1' is not defined"
     ]
    }
   ],
   "source": [
    "# para borrar una variable en una recursividad\n",
    "del numero1\n",
    "numero1"
   ]
  },
  {
   "cell_type": "code",
   "execution_count": 5,
   "id": "10bf31de",
   "metadata": {},
   "outputs": [
    {
     "name": "stdout",
     "output_type": "stream",
     "text": [
      "Hola! Mi nombre es:Juan\n"
     ]
    }
   ],
   "source": [
    "# la referencia \"Self\" puede tomar cualquier otra denominación\n",
    "class persona:\n",
    "    def __init__(objeto,nombre,edad):\n",
    "        objeto.nombre = nombre\n",
    "        objeto.edad = edad\n",
    "        \n",
    "    def mensaje(objeto):\n",
    "        print(\"Hola! Mi nombre es:\" + objeto.nombre)\n",
    "        \n",
    "persona1 = persona (\"Juan\", 36)\n",
    "persona1.mensaje()"
   ]
  },
  {
   "cell_type": "code",
   "execution_count": 6,
   "id": "55aaf735",
   "metadata": {},
   "outputs": [],
   "source": [
    "# Crea una clase denominada “Triangulo”. Crea un objeto a partir de dicha clase, el cual deberá tener los atributos a, b y c \n",
    "# que representan los lados de dicho triángulo.\n",
    "\n",
    "# La clase “Triangulo” deberá tener 2 métodos:\n",
    "# 1) El constructor init se usará para inicializar los lados del triángulo\n",
    "# 2) El método perim que deberá usarse para calcular el perímetro total del triángulo\n",
    "\n",
    "# El perímetro del triángulo deberá ser impreso desde fuera de la clase.\n",
    "\n",
    "class triangulo:\n",
    "    def __init__(self,a,b,c):\n",
    "        self.a = a\n",
    "        self.b = b\n",
    "        self.c = c\n",
    "        \n",
    "    def perim(self):\n",
    "        return self.a + self.b + self.c\n",
    "        "
   ]
  },
  {
   "cell_type": "code",
   "execution_count": 7,
   "id": "c375af7a",
   "metadata": {},
   "outputs": [
    {
     "name": "stdout",
     "output_type": "stream",
     "text": [
      "9\n"
     ]
    }
   ],
   "source": [
    "triangulo1= triangulo (2,3,4)\n",
    "perimetro1= triangulo1.perim()\n",
    "print (perimetro1)"
   ]
  },
  {
   "cell_type": "code",
   "execution_count": null,
   "id": "9df646f9",
   "metadata": {},
   "outputs": [],
   "source": []
  }
 ],
 "metadata": {
  "kernelspec": {
   "display_name": "Python 3 (ipykernel)",
   "language": "python",
   "name": "python3"
  },
  "language_info": {
   "codemirror_mode": {
    "name": "ipython",
    "version": 3
   },
   "file_extension": ".py",
   "mimetype": "text/x-python",
   "name": "python",
   "nbconvert_exporter": "python",
   "pygments_lexer": "ipython3",
   "version": "3.9.12"
  }
 },
 "nbformat": 4,
 "nbformat_minor": 5
}
