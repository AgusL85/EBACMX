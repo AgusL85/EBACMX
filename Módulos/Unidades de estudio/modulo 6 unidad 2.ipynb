{
 "cells": [
  {
   "cell_type": "code",
   "execution_count": 2,
   "id": "a9858d61",
   "metadata": {},
   "outputs": [
    {
     "name": "stdout",
     "output_type": "stream",
     "text": [
      "Sesión experta\n"
     ]
    }
   ],
   "source": [
    "# Constructor predeterminado\n",
    "\n",
    "class expertos:\n",
    "    def __init__(self):\n",
    "        self.texto= \"Sesión experta\"\n",
    "        \n",
    "    def imprime_texto(self):\n",
    "        print(self.texto)\n",
    "        \n",
    "elemento=expertos()\n",
    "elemento.imprime_texto()\n",
    "        "
   ]
  },
  {
   "cell_type": "code",
   "execution_count": 5,
   "id": "52318a0a",
   "metadata": {},
   "outputs": [],
   "source": [
    "# Constructor parametrizado\n",
    "\n",
    "class adicion:\n",
    "    respuesta = 0\n",
    "    \n",
    "    def __init__(self, primero, segundo):\n",
    "        self.primero = primero\n",
    "        self.segundo = segundo\n",
    "        \n",
    "    def calcula(self):\n",
    "        self.respuesta = self.primero + self.segundo\n",
    "        \n",
    "    def mostrar (self):\n",
    "        print (\"Primer número= \" + str(self.primero))\n",
    "        print (\"Segundo número= \" + str(self.segundo))\n",
    "        print (\"Adición de dos números= \" + str(self.respuesta))"
   ]
  },
  {
   "cell_type": "code",
   "execution_count": 7,
   "id": "68d4045d",
   "metadata": {},
   "outputs": [
    {
     "name": "stdout",
     "output_type": "stream",
     "text": [
      "Primer número= 1000\n",
      "Segundo número= 2000\n",
      "Adición de dos números= 3000\n"
     ]
    }
   ],
   "source": [
    "obj= adicion(1000,2000)\n",
    "obj.calcula()\n",
    "obj.mostrar()"
   ]
  },
  {
   "cell_type": "code",
   "execution_count": 13,
   "id": "e0d26522",
   "metadata": {},
   "outputs": [
    {
     "name": "stdout",
     "output_type": "stream",
     "text": [
      "Soy Manuel Gómez, tengo 26 años y estudio Derecho.\n"
     ]
    }
   ],
   "source": [
    "# ejemplo de herencia simple\n",
    "\n",
    "class estudiante(object):        # clase padre\n",
    "    def __init__(self,edad,nombre):\n",
    "        self.edad= edad\n",
    "        self.nombre= nombre\n",
    "\n",
    "class derecho (estudiante):    # clase hija\n",
    "    def presentarse (self):\n",
    "        print(f\"Soy {self.nombre}, tengo {self.edad} años y estudio Derecho.\")\n",
    "              \n",
    "Manuel= derecho(26, \"Manuel Gómez\")\n",
    "Manuel.presentarse()"
   ]
  },
  {
   "cell_type": "code",
   "execution_count": 15,
   "id": "1ae87a25",
   "metadata": {},
   "outputs": [
    {
     "name": "stdout",
     "output_type": "stream",
     "text": [
      "Soy Manuel Gómez, tengo 26 años y estudio Derecho.\n",
      "Estudio en el Instituto de Leyes\n"
     ]
    }
   ],
   "source": [
    "# ejemplo de herencia múltiple\n",
    "\n",
    "class estudiante(object):        # Clase padre no. 1\n",
    "    def __init__(self,edad,nombre):\n",
    "        self.edad= edad\n",
    "        self.nombre= nombre\n",
    "        \n",
    "class instituto(object):         # Clase padre no. 2\n",
    "    def presentarinstituto(self):\n",
    "        print(\"Estudio en el Instituto de Leyes\")\n",
    "        \n",
    "class derecho (estudiante, instituto):    # clase hija\n",
    "    def presentarse (self):\n",
    "        print(f\"Soy {self.nombre}, tengo {self.edad} años y estudio Derecho.\")\n",
    "    \n",
    "Manuel= derecho(26, \"Manuel Gómez\")\n",
    "Manuel.presentarse()\n",
    "Manuel.presentarinstituto()"
   ]
  },
  {
   "cell_type": "code",
   "execution_count": 28,
   "id": "4951393f",
   "metadata": {},
   "outputs": [],
   "source": [
    "# Ejercicio\n",
    "\n",
    "# Defina una clase padre denominada “Figura”. A partir de ella desarrolle dos clases hijas, denominadas “Circulo” y “Triangulo”, \n",
    "# las cuales deben ser capaces de calcular el área en cada caso a partir de los parámetros requeridos por cada figura (para el\n",
    "# círculo se requiere el radio, y para el triángulo la base y su altura).\n",
    "\n",
    "class figura(object):\n",
    "    def area(self):\n",
    "        pass\n",
    "    \n",
    "class circulo(figura):\n",
    "    \"\"\"Objeto de tipo circulo \"\"\"\n",
    "    def __init__(self,radio=0):\n",
    "        self.radio = radio\n",
    "\n",
    "    def area(self):\n",
    "        return 3.1416* (self.radio **2)\n",
    "    \n",
    "class triangulo(figura):\n",
    "    \"\"\"Objeto de tipo triangulo \"\"\"\n",
    "    def __init__(self,base=0,altura=0):\n",
    "        self.base=base\n",
    "        self.altura=altura\n",
    "        \n",
    "    def area(self):\n",
    "        return self.base * self.altura / 2\n",
    "    \n",
    "    \n",
    "\n"
   ]
  },
  {
   "cell_type": "code",
   "execution_count": 29,
   "id": "17413907",
   "metadata": {},
   "outputs": [
    {
     "data": {
      "text/plain": [
       "50.2656"
      ]
     },
     "execution_count": 29,
     "metadata": {},
     "output_type": "execute_result"
    }
   ],
   "source": [
    "c=circulo(4)\n",
    "c.area()"
   ]
  },
  {
   "cell_type": "code",
   "execution_count": 30,
   "id": "3c632656",
   "metadata": {},
   "outputs": [
    {
     "data": {
      "text/plain": [
       "7.5"
      ]
     },
     "execution_count": 30,
     "metadata": {},
     "output_type": "execute_result"
    }
   ],
   "source": [
    "t=triangulo(3,5)\n",
    "t.area()"
   ]
  },
  {
   "cell_type": "code",
   "execution_count": null,
   "id": "23ef2ca2",
   "metadata": {},
   "outputs": [],
   "source": []
  }
 ],
 "metadata": {
  "kernelspec": {
   "display_name": "Python 3 (ipykernel)",
   "language": "python",
   "name": "python3"
  },
  "language_info": {
   "codemirror_mode": {
    "name": "ipython",
    "version": 3
   },
   "file_extension": ".py",
   "mimetype": "text/x-python",
   "name": "python",
   "nbconvert_exporter": "python",
   "pygments_lexer": "ipython3",
   "version": "3.9.12"
  }
 },
 "nbformat": 4,
 "nbformat_minor": 5
}
