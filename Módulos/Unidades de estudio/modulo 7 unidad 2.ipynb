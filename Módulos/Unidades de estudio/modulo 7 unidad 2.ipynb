{
 "cells": [
  {
   "cell_type": "code",
   "execution_count": 2,
   "id": "e2153d14",
   "metadata": {},
   "outputs": [],
   "source": [
    "import numpy as np\n",
    "import pandas as pd"
   ]
  },
  {
   "cell_type": "code",
   "execution_count": 4,
   "id": "264adeae",
   "metadata": {},
   "outputs": [
    {
     "data": {
      "text/plain": [
       "array([['Bella', 'Labrador', 'Cafe', '56', '24', '2013-07-01'],\n",
       "       ['Charlie', 'Poodle', 'Negro', '43', '24', '2016-09-16'],\n",
       "       ['Lucy', 'Chow Chow', 'Café', '46', '24', '2014-08-25'],\n",
       "       ['Cooper', 'Shnauzer', 'Gris', '49', '17', '2011-12-11'],\n",
       "       ['Bernie', 'San Bernardo', 'Blanco', '77', '74', '2018-02-27'],\n",
       "       ['Max', 'Chow Chow', 'Blanco', '45', '28', '2019-03-27'],\n",
       "       ['Reed', 'Shnauzer', 'Negro', '45', '15', '2017-09-18']],\n",
       "      dtype='<U12')"
      ]
     },
     "execution_count": 4,
     "metadata": {},
     "output_type": "execute_result"
    }
   ],
   "source": [
    "arreglo = np.array([[\"Bella\",\"Labrador\",\"Cafe\",56,24,\"2013-07-01\"],[\"Charlie\",\"Poodle\",\"Negro\",43,24,\"2016-09-16\"],\n",
    "                    [\"Lucy\",\"Chow Chow\",\"Café\",46,24,\"2014-08-25\"],[\"Cooper\",\"Shnauzer\",\"Gris\",49,17,\"2011-12-11\"],\n",
    "                    [\"Bernie\",\"San Bernardo\",\"Blanco\",77,74,\"2018-02-27\"],[\"Max\",\"Chow Chow\",\"Blanco\",45,28,\"2019-03-27\"],\n",
    "                    [\"Reed\",\"Shnauzer\",\"Negro\",45,15,\"2017-09-18\"] ])\n",
    "arreglo"
   ]
  },
  {
   "cell_type": "code",
   "execution_count": 5,
   "id": "2aac3006",
   "metadata": {},
   "outputs": [
    {
     "data": {
      "text/html": [
       "<div>\n",
       "<style scoped>\n",
       "    .dataframe tbody tr th:only-of-type {\n",
       "        vertical-align: middle;\n",
       "    }\n",
       "\n",
       "    .dataframe tbody tr th {\n",
       "        vertical-align: top;\n",
       "    }\n",
       "\n",
       "    .dataframe thead th {\n",
       "        text-align: right;\n",
       "    }\n",
       "</style>\n",
       "<table border=\"1\" class=\"dataframe\">\n",
       "  <thead>\n",
       "    <tr style=\"text-align: right;\">\n",
       "      <th></th>\n",
       "      <th>Nombre</th>\n",
       "      <th>Raza</th>\n",
       "      <th>Color</th>\n",
       "      <th>Altura_cm</th>\n",
       "      <th>Peso_kg</th>\n",
       "      <th>Fecha_nac</th>\n",
       "    </tr>\n",
       "  </thead>\n",
       "  <tbody>\n",
       "    <tr>\n",
       "      <th>0</th>\n",
       "      <td>Bella</td>\n",
       "      <td>Labrador</td>\n",
       "      <td>Cafe</td>\n",
       "      <td>56</td>\n",
       "      <td>24</td>\n",
       "      <td>2013-07-01</td>\n",
       "    </tr>\n",
       "    <tr>\n",
       "      <th>1</th>\n",
       "      <td>Charlie</td>\n",
       "      <td>Poodle</td>\n",
       "      <td>Negro</td>\n",
       "      <td>43</td>\n",
       "      <td>24</td>\n",
       "      <td>2016-09-16</td>\n",
       "    </tr>\n",
       "    <tr>\n",
       "      <th>2</th>\n",
       "      <td>Lucy</td>\n",
       "      <td>Chow Chow</td>\n",
       "      <td>Café</td>\n",
       "      <td>46</td>\n",
       "      <td>24</td>\n",
       "      <td>2014-08-25</td>\n",
       "    </tr>\n",
       "    <tr>\n",
       "      <th>3</th>\n",
       "      <td>Cooper</td>\n",
       "      <td>Shnauzer</td>\n",
       "      <td>Gris</td>\n",
       "      <td>49</td>\n",
       "      <td>17</td>\n",
       "      <td>2011-12-11</td>\n",
       "    </tr>\n",
       "    <tr>\n",
       "      <th>4</th>\n",
       "      <td>Bernie</td>\n",
       "      <td>San Bernardo</td>\n",
       "      <td>Blanco</td>\n",
       "      <td>77</td>\n",
       "      <td>74</td>\n",
       "      <td>2018-02-27</td>\n",
       "    </tr>\n",
       "    <tr>\n",
       "      <th>5</th>\n",
       "      <td>Max</td>\n",
       "      <td>Chow Chow</td>\n",
       "      <td>Blanco</td>\n",
       "      <td>45</td>\n",
       "      <td>28</td>\n",
       "      <td>2019-03-27</td>\n",
       "    </tr>\n",
       "    <tr>\n",
       "      <th>6</th>\n",
       "      <td>Reed</td>\n",
       "      <td>Shnauzer</td>\n",
       "      <td>Negro</td>\n",
       "      <td>45</td>\n",
       "      <td>15</td>\n",
       "      <td>2017-09-18</td>\n",
       "    </tr>\n",
       "  </tbody>\n",
       "</table>\n",
       "</div>"
      ],
      "text/plain": [
       "    Nombre          Raza   Color  Altura_cm  Peso_kg   Fecha_nac\n",
       "0    Bella      Labrador    Cafe         56       24  2013-07-01\n",
       "1  Charlie        Poodle   Negro         43       24  2016-09-16\n",
       "2     Lucy     Chow Chow    Café         46       24  2014-08-25\n",
       "3   Cooper      Shnauzer    Gris         49       17  2011-12-11\n",
       "4   Bernie  San Bernardo  Blanco         77       74  2018-02-27\n",
       "5      Max     Chow Chow  Blanco         45       28  2019-03-27\n",
       "6     Reed      Shnauzer   Negro         45       15  2017-09-18"
      ]
     },
     "execution_count": 5,
     "metadata": {},
     "output_type": "execute_result"
    }
   ],
   "source": [
    "df= pd.DataFrame(data=arreglo, columns= [\"Nombre\", \"Raza\", \"Color\",\"Altura_cm\",\"Peso_kg\", \"Fecha_nac\"])\n",
    "df[\"Altura_cm\"] = df [\"Altura_cm\"].astype(int) #para convertir los caracteres a números enteros\n",
    "df[\"Peso_kg\"] = df [\"Peso_kg\"].astype(int)\n",
    "df"
   ]
  },
  {
   "cell_type": "code",
   "execution_count": 6,
   "id": "2c8cfb2e",
   "metadata": {},
   "outputs": [
    {
     "data": {
      "text/plain": [
       "29.428571428571427"
      ]
     },
     "execution_count": 6,
     "metadata": {},
     "output_type": "execute_result"
    }
   ],
   "source": [
    "# cálculo de la media\n",
    "df[\"Peso_kg\"].mean()"
   ]
  },
  {
   "cell_type": "code",
   "execution_count": 8,
   "id": "7c0e648a",
   "metadata": {},
   "outputs": [
    {
     "data": {
      "text/plain": [
       "'2011-12-11'"
      ]
     },
     "execution_count": 8,
     "metadata": {},
     "output_type": "execute_result"
    }
   ],
   "source": [
    "# cálculo de la fecha de nacimiento más antigua (el perro más viejo)\n",
    "df [\"Fecha_nac\"].min()"
   ]
  },
  {
   "cell_type": "code",
   "execution_count": 9,
   "id": "fc73daa7",
   "metadata": {},
   "outputs": [
    {
     "data": {
      "text/plain": [
       "54.60000000000001"
      ]
     },
     "execution_count": 9,
     "metadata": {},
     "output_type": "execute_result"
    }
   ],
   "source": [
    "# función de agregación estadística\n",
    "def percentil80(columna):\n",
    "    return columna.quantile (0.80)\n",
    "\n",
    "df[\"Altura_cm\"].agg(percentil80)"
   ]
  },
  {
   "cell_type": "code",
   "execution_count": 10,
   "id": "56b9eadc",
   "metadata": {},
   "outputs": [
    {
     "data": {
      "text/plain": [
       "Altura_cm    54.6\n",
       "Peso_kg      27.2\n",
       "dtype: float64"
      ]
     },
     "execution_count": 10,
     "metadata": {},
     "output_type": "execute_result"
    }
   ],
   "source": [
    "# Agrupación estadística en varias columnas\n",
    "df [[\"Altura_cm\",\"Peso_kg\"]].agg(percentil80)"
   ]
  },
  {
   "cell_type": "code",
   "execution_count": 12,
   "id": "8c57935c",
   "metadata": {},
   "outputs": [
    {
     "data": {
      "text/plain": [
       "percentil80    54.6\n",
       "percentil90    64.4\n",
       "Name: Altura_cm, dtype: float64"
      ]
     },
     "execution_count": 12,
     "metadata": {},
     "output_type": "execute_result"
    }
   ],
   "source": [
    "# Aplicación de estadísticas múltiples\n",
    "def percentil90(columna):\n",
    "    return columna.quantile(0.90)\n",
    "\n",
    "df[\"Altura_cm\"].agg([percentil80, percentil90])"
   ]
  },
  {
   "cell_type": "markdown",
   "id": "96ef7107",
   "metadata": {},
   "source": [
    "#### Función de acumulación"
   ]
  },
  {
   "cell_type": "code",
   "execution_count": 14,
   "id": "b0be506d",
   "metadata": {},
   "outputs": [
    {
     "data": {
      "text/plain": [
       "0    56\n",
       "1    43\n",
       "2    46\n",
       "3    49\n",
       "4    77\n",
       "5    45\n",
       "6    45\n",
       "Name: Altura_cm, dtype: int32"
      ]
     },
     "execution_count": 14,
     "metadata": {},
     "output_type": "execute_result"
    }
   ],
   "source": [
    "df[\"Altura_cm\"]"
   ]
  },
  {
   "cell_type": "code",
   "execution_count": 15,
   "id": "886439a1",
   "metadata": {},
   "outputs": [
    {
     "data": {
      "text/plain": [
       "0     56\n",
       "1     99\n",
       "2    145\n",
       "3    194\n",
       "4    271\n",
       "5    316\n",
       "6    361\n",
       "Name: Altura_cm, dtype: int32"
      ]
     },
     "execution_count": 15,
     "metadata": {},
     "output_type": "execute_result"
    }
   ],
   "source": [
    "# Función de suma (acumulación)\n",
    "df[\"Altura_cm\"].cumsum()"
   ]
  },
  {
   "cell_type": "code",
   "execution_count": 16,
   "id": "77eeb4c0",
   "metadata": {},
   "outputs": [
    {
     "data": {
      "text/plain": [
       "0    56\n",
       "1    43\n",
       "2    43\n",
       "3    43\n",
       "4    43\n",
       "5    43\n",
       "6    43\n",
       "Name: Altura_cm, dtype: int32"
      ]
     },
     "execution_count": 16,
     "metadata": {},
     "output_type": "execute_result"
    }
   ],
   "source": [
    "# función para encontrar el mínimo acunulado\n",
    "df[\"Altura_cm\"].cummin()"
   ]
  },
  {
   "cell_type": "code",
   "execution_count": 18,
   "id": "c8cf2591",
   "metadata": {},
   "outputs": [
    {
     "data": {
      "text/plain": [
       "Chow Chow       2\n",
       "Shnauzer        2\n",
       "Labrador        1\n",
       "Poodle          1\n",
       "San Bernardo    1\n",
       "Name: Raza, dtype: int64"
      ]
     },
     "execution_count": 18,
     "metadata": {},
     "output_type": "execute_result"
    }
   ],
   "source": [
    "# Conteo de perros por raza\n",
    "df[\"Raza\"].value_counts()"
   ]
  },
  {
   "cell_type": "code",
   "execution_count": 19,
   "id": "b7455631",
   "metadata": {},
   "outputs": [
    {
     "data": {
      "text/plain": [
       "Chow Chow       0.285714\n",
       "Shnauzer        0.285714\n",
       "Labrador        0.142857\n",
       "Poodle          0.142857\n",
       "San Bernardo    0.142857\n",
       "Name: Raza, dtype: float64"
      ]
     },
     "execution_count": 19,
     "metadata": {},
     "output_type": "execute_result"
    }
   ],
   "source": [
    "# Porcentajes de frecuencias absolutas, o sea proporción de perros por raza\n",
    "df[\"Raza\"].value_counts(normalize=True)\n"
   ]
  },
  {
   "cell_type": "code",
   "execution_count": 20,
   "id": "a868a7e7",
   "metadata": {},
   "outputs": [
    {
     "name": "stdout",
     "output_type": "stream",
     "text": [
      "51.0\n",
      "24.0\n",
      "17.0\n",
      "19.5\n"
     ]
    }
   ],
   "source": [
    "# Valor promedio del peso de acuerdo de cada tipo de color del perro\n",
    "# Resumen por grupo\n",
    "print(df[df[\"Color\"]==\"Blanco\"][\"Peso_kg\"].mean())\n",
    "print(df[df[\"Color\"]==\"Café\"][\"Peso_kg\"].mean())\n",
    "print(df[df[\"Color\"]==\"Gris\"][\"Peso_kg\"].mean())\n",
    "print(df[df[\"Color\"]==\"Negro\"][\"Peso_kg\"].mean())"
   ]
  },
  {
   "cell_type": "code",
   "execution_count": 23,
   "id": "3e8a9ef9",
   "metadata": {},
   "outputs": [
    {
     "data": {
      "text/plain": [
       "Color\n",
       "Blanco    51.0\n",
       "Cafe      24.0\n",
       "Café      24.0\n",
       "Gris      17.0\n",
       "Negro     19.5\n",
       "Name: Peso_kg, dtype: float64"
      ]
     },
     "execution_count": 23,
     "metadata": {},
     "output_type": "execute_result"
    }
   ],
   "source": [
    "# Resumen por grupo: MEJOR OPCIÓN\n",
    "df.groupby(\"Color\")[\"Peso_kg\"].mean()"
   ]
  },
  {
   "cell_type": "code",
   "execution_count": 24,
   "id": "aef06577",
   "metadata": {},
   "outputs": [
    {
     "data": {
      "text/html": [
       "<div>\n",
       "<style scoped>\n",
       "    .dataframe tbody tr th:only-of-type {\n",
       "        vertical-align: middle;\n",
       "    }\n",
       "\n",
       "    .dataframe tbody tr th {\n",
       "        vertical-align: top;\n",
       "    }\n",
       "\n",
       "    .dataframe thead th {\n",
       "        text-align: right;\n",
       "    }\n",
       "</style>\n",
       "<table border=\"1\" class=\"dataframe\">\n",
       "  <thead>\n",
       "    <tr style=\"text-align: right;\">\n",
       "      <th></th>\n",
       "      <th>min</th>\n",
       "      <th>max</th>\n",
       "      <th>sum</th>\n",
       "    </tr>\n",
       "    <tr>\n",
       "      <th>Color</th>\n",
       "      <th></th>\n",
       "      <th></th>\n",
       "      <th></th>\n",
       "    </tr>\n",
       "  </thead>\n",
       "  <tbody>\n",
       "    <tr>\n",
       "      <th>Blanco</th>\n",
       "      <td>28</td>\n",
       "      <td>74</td>\n",
       "      <td>102</td>\n",
       "    </tr>\n",
       "    <tr>\n",
       "      <th>Cafe</th>\n",
       "      <td>24</td>\n",
       "      <td>24</td>\n",
       "      <td>24</td>\n",
       "    </tr>\n",
       "    <tr>\n",
       "      <th>Café</th>\n",
       "      <td>24</td>\n",
       "      <td>24</td>\n",
       "      <td>24</td>\n",
       "    </tr>\n",
       "    <tr>\n",
       "      <th>Gris</th>\n",
       "      <td>17</td>\n",
       "      <td>17</td>\n",
       "      <td>17</td>\n",
       "    </tr>\n",
       "    <tr>\n",
       "      <th>Negro</th>\n",
       "      <td>15</td>\n",
       "      <td>24</td>\n",
       "      <td>39</td>\n",
       "    </tr>\n",
       "  </tbody>\n",
       "</table>\n",
       "</div>"
      ],
      "text/plain": [
       "        min  max  sum\n",
       "Color                \n",
       "Blanco   28   74  102\n",
       "Cafe     24   24   24\n",
       "Café     24   24   24\n",
       "Gris     17   17   17\n",
       "Negro    15   24   39"
      ]
     },
     "execution_count": 24,
     "metadata": {},
     "output_type": "execute_result"
    }
   ],
   "source": [
    "# Agrupación por color en base a diversas estadísticas\n",
    "df.groupby(\"Color\")[\"Peso_kg\"].agg([min, max, sum])"
   ]
  },
  {
   "cell_type": "code",
   "execution_count": 28,
   "id": "c68c2d91",
   "metadata": {},
   "outputs": [
    {
     "data": {
      "text/plain": [
       "Color   Raza        \n",
       "Blanco  Chow Chow       28.0\n",
       "        San Bernardo    74.0\n",
       "Cafe    Labrador        24.0\n",
       "Café    Chow Chow       24.0\n",
       "Gris    Shnauzer        17.0\n",
       "Negro   Poodle          24.0\n",
       "        Shnauzer        15.0\n",
       "Name: Peso_kg, dtype: float64"
      ]
     },
     "execution_count": 28,
     "metadata": {},
     "output_type": "execute_result"
    }
   ],
   "source": [
    "#Agrupación por color y raza en base a la media del peso\n",
    "df.groupby([\"Color\", \"Raza\"])[\"Peso_kg\"].mean()"
   ]
  },
  {
   "cell_type": "code",
   "execution_count": 29,
   "id": "a99e418a",
   "metadata": {},
   "outputs": [
    {
     "data": {
      "text/html": [
       "<div>\n",
       "<style scoped>\n",
       "    .dataframe tbody tr th:only-of-type {\n",
       "        vertical-align: middle;\n",
       "    }\n",
       "\n",
       "    .dataframe tbody tr th {\n",
       "        vertical-align: top;\n",
       "    }\n",
       "\n",
       "    .dataframe thead tr th {\n",
       "        text-align: left;\n",
       "    }\n",
       "\n",
       "    .dataframe thead tr:last-of-type th {\n",
       "        text-align: right;\n",
       "    }\n",
       "</style>\n",
       "<table border=\"1\" class=\"dataframe\">\n",
       "  <thead>\n",
       "    <tr>\n",
       "      <th></th>\n",
       "      <th>mean</th>\n",
       "      <th>median</th>\n",
       "    </tr>\n",
       "    <tr>\n",
       "      <th></th>\n",
       "      <th>Peso_kg</th>\n",
       "      <th>Peso_kg</th>\n",
       "    </tr>\n",
       "    <tr>\n",
       "      <th>Color</th>\n",
       "      <th></th>\n",
       "      <th></th>\n",
       "    </tr>\n",
       "  </thead>\n",
       "  <tbody>\n",
       "    <tr>\n",
       "      <th>Blanco</th>\n",
       "      <td>51.0</td>\n",
       "      <td>51.0</td>\n",
       "    </tr>\n",
       "    <tr>\n",
       "      <th>Cafe</th>\n",
       "      <td>24.0</td>\n",
       "      <td>24.0</td>\n",
       "    </tr>\n",
       "    <tr>\n",
       "      <th>Café</th>\n",
       "      <td>24.0</td>\n",
       "      <td>24.0</td>\n",
       "    </tr>\n",
       "    <tr>\n",
       "      <th>Gris</th>\n",
       "      <td>17.0</td>\n",
       "      <td>17.0</td>\n",
       "    </tr>\n",
       "    <tr>\n",
       "      <th>Negro</th>\n",
       "      <td>19.5</td>\n",
       "      <td>19.5</td>\n",
       "    </tr>\n",
       "  </tbody>\n",
       "</table>\n",
       "</div>"
      ],
      "text/plain": [
       "          mean  median\n",
       "       Peso_kg Peso_kg\n",
       "Color                 \n",
       "Blanco    51.0    51.0\n",
       "Cafe      24.0    24.0\n",
       "Café      24.0    24.0\n",
       "Gris      17.0    17.0\n",
       "Negro     19.5    19.5"
      ]
     },
     "execution_count": 29,
     "metadata": {},
     "output_type": "execute_result"
    }
   ],
   "source": [
    "# Uso de tablas pivote\n",
    "df.pivot_table(values=\"Peso_kg\",index=\"Color\", aggfunc = [np.mean,np.median])"
   ]
  },
  {
   "cell_type": "code",
   "execution_count": 31,
   "id": "2ee1c454",
   "metadata": {},
   "outputs": [
    {
     "data": {
      "text/html": [
       "<div>\n",
       "<style scoped>\n",
       "    .dataframe tbody tr th:only-of-type {\n",
       "        vertical-align: middle;\n",
       "    }\n",
       "\n",
       "    .dataframe tbody tr th {\n",
       "        vertical-align: top;\n",
       "    }\n",
       "\n",
       "    .dataframe thead th {\n",
       "        text-align: right;\n",
       "    }\n",
       "</style>\n",
       "<table border=\"1\" class=\"dataframe\">\n",
       "  <thead>\n",
       "    <tr style=\"text-align: right;\">\n",
       "      <th>Raza</th>\n",
       "      <th>Chow Chow</th>\n",
       "      <th>Labrador</th>\n",
       "      <th>Poodle</th>\n",
       "      <th>San Bernardo</th>\n",
       "      <th>Shnauzer</th>\n",
       "    </tr>\n",
       "    <tr>\n",
       "      <th>Color</th>\n",
       "      <th></th>\n",
       "      <th></th>\n",
       "      <th></th>\n",
       "      <th></th>\n",
       "      <th></th>\n",
       "    </tr>\n",
       "  </thead>\n",
       "  <tbody>\n",
       "    <tr>\n",
       "      <th>Blanco</th>\n",
       "      <td>28.0</td>\n",
       "      <td>NaN</td>\n",
       "      <td>NaN</td>\n",
       "      <td>74.0</td>\n",
       "      <td>NaN</td>\n",
       "    </tr>\n",
       "    <tr>\n",
       "      <th>Cafe</th>\n",
       "      <td>NaN</td>\n",
       "      <td>24.0</td>\n",
       "      <td>NaN</td>\n",
       "      <td>NaN</td>\n",
       "      <td>NaN</td>\n",
       "    </tr>\n",
       "    <tr>\n",
       "      <th>Café</th>\n",
       "      <td>24.0</td>\n",
       "      <td>NaN</td>\n",
       "      <td>NaN</td>\n",
       "      <td>NaN</td>\n",
       "      <td>NaN</td>\n",
       "    </tr>\n",
       "    <tr>\n",
       "      <th>Gris</th>\n",
       "      <td>NaN</td>\n",
       "      <td>NaN</td>\n",
       "      <td>NaN</td>\n",
       "      <td>NaN</td>\n",
       "      <td>17.0</td>\n",
       "    </tr>\n",
       "    <tr>\n",
       "      <th>Negro</th>\n",
       "      <td>NaN</td>\n",
       "      <td>NaN</td>\n",
       "      <td>24.0</td>\n",
       "      <td>NaN</td>\n",
       "      <td>15.0</td>\n",
       "    </tr>\n",
       "  </tbody>\n",
       "</table>\n",
       "</div>"
      ],
      "text/plain": [
       "Raza    Chow Chow  Labrador  Poodle  San Bernardo  Shnauzer\n",
       "Color                                                      \n",
       "Blanco       28.0       NaN     NaN          74.0       NaN\n",
       "Cafe          NaN      24.0     NaN           NaN       NaN\n",
       "Café         24.0       NaN     NaN           NaN       NaN\n",
       "Gris          NaN       NaN     NaN           NaN      17.0\n",
       "Negro         NaN       NaN    24.0           NaN      15.0"
      ]
     },
     "execution_count": 31,
     "metadata": {},
     "output_type": "execute_result"
    }
   ],
   "source": [
    "# Obtención de promedio para dos variables\n",
    "df.pivot_table(values = \"Peso_kg\" , index = \"Color\", columns = \"Raza\") # La media se toma por omisión\n"
   ]
  },
  {
   "cell_type": "code",
   "execution_count": 32,
   "id": "37642a86",
   "metadata": {},
   "outputs": [
    {
     "data": {
      "text/html": [
       "<div>\n",
       "<style scoped>\n",
       "    .dataframe tbody tr th:only-of-type {\n",
       "        vertical-align: middle;\n",
       "    }\n",
       "\n",
       "    .dataframe tbody tr th {\n",
       "        vertical-align: top;\n",
       "    }\n",
       "\n",
       "    .dataframe thead th {\n",
       "        text-align: right;\n",
       "    }\n",
       "</style>\n",
       "<table border=\"1\" class=\"dataframe\">\n",
       "  <thead>\n",
       "    <tr style=\"text-align: right;\">\n",
       "      <th>Raza</th>\n",
       "      <th>Chow Chow</th>\n",
       "      <th>Labrador</th>\n",
       "      <th>Poodle</th>\n",
       "      <th>San Bernardo</th>\n",
       "      <th>Shnauzer</th>\n",
       "    </tr>\n",
       "    <tr>\n",
       "      <th>Color</th>\n",
       "      <th></th>\n",
       "      <th></th>\n",
       "      <th></th>\n",
       "      <th></th>\n",
       "      <th></th>\n",
       "    </tr>\n",
       "  </thead>\n",
       "  <tbody>\n",
       "    <tr>\n",
       "      <th>Blanco</th>\n",
       "      <td>28</td>\n",
       "      <td>0</td>\n",
       "      <td>0</td>\n",
       "      <td>74</td>\n",
       "      <td>0</td>\n",
       "    </tr>\n",
       "    <tr>\n",
       "      <th>Cafe</th>\n",
       "      <td>0</td>\n",
       "      <td>24</td>\n",
       "      <td>0</td>\n",
       "      <td>0</td>\n",
       "      <td>0</td>\n",
       "    </tr>\n",
       "    <tr>\n",
       "      <th>Café</th>\n",
       "      <td>24</td>\n",
       "      <td>0</td>\n",
       "      <td>0</td>\n",
       "      <td>0</td>\n",
       "      <td>0</td>\n",
       "    </tr>\n",
       "    <tr>\n",
       "      <th>Gris</th>\n",
       "      <td>0</td>\n",
       "      <td>0</td>\n",
       "      <td>0</td>\n",
       "      <td>0</td>\n",
       "      <td>17</td>\n",
       "    </tr>\n",
       "    <tr>\n",
       "      <th>Negro</th>\n",
       "      <td>0</td>\n",
       "      <td>0</td>\n",
       "      <td>24</td>\n",
       "      <td>0</td>\n",
       "      <td>15</td>\n",
       "    </tr>\n",
       "  </tbody>\n",
       "</table>\n",
       "</div>"
      ],
      "text/plain": [
       "Raza    Chow Chow  Labrador  Poodle  San Bernardo  Shnauzer\n",
       "Color                                                      \n",
       "Blanco         28         0       0            74         0\n",
       "Cafe            0        24       0             0         0\n",
       "Café           24         0       0             0         0\n",
       "Gris            0         0       0             0        17\n",
       "Negro           0         0      24             0        15"
      ]
     },
     "execution_count": 32,
     "metadata": {},
     "output_type": "execute_result"
    }
   ],
   "source": [
    "# Obtención de promedio para dos variables MEJOR OPCIÖN\n",
    "df.pivot_table(values = \"Peso_kg\" , index = \"Color\", columns = \"Raza\", fill_value=0) # La media se toma por omisión"
   ]
  },
  {
   "cell_type": "code",
   "execution_count": 33,
   "id": "bccc7add",
   "metadata": {},
   "outputs": [
    {
     "data": {
      "text/html": [
       "<div>\n",
       "<style scoped>\n",
       "    .dataframe tbody tr th:only-of-type {\n",
       "        vertical-align: middle;\n",
       "    }\n",
       "\n",
       "    .dataframe tbody tr th {\n",
       "        vertical-align: top;\n",
       "    }\n",
       "\n",
       "    .dataframe thead th {\n",
       "        text-align: right;\n",
       "    }\n",
       "</style>\n",
       "<table border=\"1\" class=\"dataframe\">\n",
       "  <thead>\n",
       "    <tr style=\"text-align: right;\">\n",
       "      <th>Raza</th>\n",
       "      <th>Chow Chow</th>\n",
       "      <th>Labrador</th>\n",
       "      <th>Poodle</th>\n",
       "      <th>San Bernardo</th>\n",
       "      <th>Shnauzer</th>\n",
       "      <th>All</th>\n",
       "    </tr>\n",
       "    <tr>\n",
       "      <th>Color</th>\n",
       "      <th></th>\n",
       "      <th></th>\n",
       "      <th></th>\n",
       "      <th></th>\n",
       "      <th></th>\n",
       "      <th></th>\n",
       "    </tr>\n",
       "  </thead>\n",
       "  <tbody>\n",
       "    <tr>\n",
       "      <th>Blanco</th>\n",
       "      <td>28</td>\n",
       "      <td>0</td>\n",
       "      <td>0</td>\n",
       "      <td>74</td>\n",
       "      <td>0</td>\n",
       "      <td>51.000000</td>\n",
       "    </tr>\n",
       "    <tr>\n",
       "      <th>Cafe</th>\n",
       "      <td>0</td>\n",
       "      <td>24</td>\n",
       "      <td>0</td>\n",
       "      <td>0</td>\n",
       "      <td>0</td>\n",
       "      <td>24.000000</td>\n",
       "    </tr>\n",
       "    <tr>\n",
       "      <th>Café</th>\n",
       "      <td>24</td>\n",
       "      <td>0</td>\n",
       "      <td>0</td>\n",
       "      <td>0</td>\n",
       "      <td>0</td>\n",
       "      <td>24.000000</td>\n",
       "    </tr>\n",
       "    <tr>\n",
       "      <th>Gris</th>\n",
       "      <td>0</td>\n",
       "      <td>0</td>\n",
       "      <td>0</td>\n",
       "      <td>0</td>\n",
       "      <td>17</td>\n",
       "      <td>17.000000</td>\n",
       "    </tr>\n",
       "    <tr>\n",
       "      <th>Negro</th>\n",
       "      <td>0</td>\n",
       "      <td>0</td>\n",
       "      <td>24</td>\n",
       "      <td>0</td>\n",
       "      <td>15</td>\n",
       "      <td>19.500000</td>\n",
       "    </tr>\n",
       "    <tr>\n",
       "      <th>All</th>\n",
       "      <td>26</td>\n",
       "      <td>24</td>\n",
       "      <td>24</td>\n",
       "      <td>74</td>\n",
       "      <td>16</td>\n",
       "      <td>29.428571</td>\n",
       "    </tr>\n",
       "  </tbody>\n",
       "</table>\n",
       "</div>"
      ],
      "text/plain": [
       "Raza    Chow Chow  Labrador  Poodle  San Bernardo  Shnauzer        All\n",
       "Color                                                                 \n",
       "Blanco         28         0       0            74         0  51.000000\n",
       "Cafe            0        24       0             0         0  24.000000\n",
       "Café           24         0       0             0         0  24.000000\n",
       "Gris            0         0       0             0        17  17.000000\n",
       "Negro           0         0      24             0        15  19.500000\n",
       "All            26        24      24            74        16  29.428571"
      ]
     },
     "execution_count": 33,
     "metadata": {},
     "output_type": "execute_result"
    }
   ],
   "source": [
    "# promedios por renglón o por columna MEJOR OPCIÓN 2\n",
    "df.pivot_table(values = \"Peso_kg\" , index = \"Color\", columns = \"Raza\", fill_value=0, margins = True, aggfunc = np.mean) "
   ]
  },
  {
   "cell_type": "code",
   "execution_count": 34,
   "id": "e8f22be2",
   "metadata": {},
   "outputs": [
    {
     "data": {
      "text/html": [
       "<div>\n",
       "<style scoped>\n",
       "    .dataframe tbody tr th:only-of-type {\n",
       "        vertical-align: middle;\n",
       "    }\n",
       "\n",
       "    .dataframe tbody tr th {\n",
       "        vertical-align: top;\n",
       "    }\n",
       "\n",
       "    .dataframe thead th {\n",
       "        text-align: right;\n",
       "    }\n",
       "</style>\n",
       "<table border=\"1\" class=\"dataframe\">\n",
       "  <thead>\n",
       "    <tr style=\"text-align: right;\">\n",
       "      <th>Raza</th>\n",
       "      <th>Chow Chow</th>\n",
       "      <th>Labrador</th>\n",
       "      <th>Poodle</th>\n",
       "      <th>San Bernardo</th>\n",
       "      <th>Shnauzer</th>\n",
       "      <th>All</th>\n",
       "    </tr>\n",
       "    <tr>\n",
       "      <th>Color</th>\n",
       "      <th></th>\n",
       "      <th></th>\n",
       "      <th></th>\n",
       "      <th></th>\n",
       "      <th></th>\n",
       "      <th></th>\n",
       "    </tr>\n",
       "  </thead>\n",
       "  <tbody>\n",
       "    <tr>\n",
       "      <th>Blanco</th>\n",
       "      <td>28</td>\n",
       "      <td>0</td>\n",
       "      <td>0</td>\n",
       "      <td>74</td>\n",
       "      <td>0</td>\n",
       "      <td>51.0</td>\n",
       "    </tr>\n",
       "    <tr>\n",
       "      <th>Cafe</th>\n",
       "      <td>0</td>\n",
       "      <td>24</td>\n",
       "      <td>0</td>\n",
       "      <td>0</td>\n",
       "      <td>0</td>\n",
       "      <td>24.0</td>\n",
       "    </tr>\n",
       "    <tr>\n",
       "      <th>Café</th>\n",
       "      <td>24</td>\n",
       "      <td>0</td>\n",
       "      <td>0</td>\n",
       "      <td>0</td>\n",
       "      <td>0</td>\n",
       "      <td>24.0</td>\n",
       "    </tr>\n",
       "    <tr>\n",
       "      <th>Gris</th>\n",
       "      <td>0</td>\n",
       "      <td>0</td>\n",
       "      <td>0</td>\n",
       "      <td>0</td>\n",
       "      <td>17</td>\n",
       "      <td>17.0</td>\n",
       "    </tr>\n",
       "    <tr>\n",
       "      <th>Negro</th>\n",
       "      <td>0</td>\n",
       "      <td>0</td>\n",
       "      <td>24</td>\n",
       "      <td>0</td>\n",
       "      <td>15</td>\n",
       "      <td>19.5</td>\n",
       "    </tr>\n",
       "    <tr>\n",
       "      <th>All</th>\n",
       "      <td>26</td>\n",
       "      <td>24</td>\n",
       "      <td>24</td>\n",
       "      <td>74</td>\n",
       "      <td>16</td>\n",
       "      <td>24.0</td>\n",
       "    </tr>\n",
       "  </tbody>\n",
       "</table>\n",
       "</div>"
      ],
      "text/plain": [
       "Raza    Chow Chow  Labrador  Poodle  San Bernardo  Shnauzer   All\n",
       "Color                                                            \n",
       "Blanco         28         0       0            74         0  51.0\n",
       "Cafe            0        24       0             0         0  24.0\n",
       "Café           24         0       0             0         0  24.0\n",
       "Gris            0         0       0             0        17  17.0\n",
       "Negro           0         0      24             0        15  19.5\n",
       "All            26        24      24            74        16  24.0"
      ]
     },
     "execution_count": 34,
     "metadata": {},
     "output_type": "execute_result"
    }
   ],
   "source": [
    "# mediana por renglón o por columna MEJOR OPCIÓN 2\n",
    "df.pivot_table(values = \"Peso_kg\" , index = \"Color\", columns = \"Raza\", fill_value=0, margins = True, aggfunc = np.median) "
   ]
  },
  {
   "cell_type": "code",
   "execution_count": null,
   "id": "81da92f5",
   "metadata": {},
   "outputs": [],
   "source": []
  }
 ],
 "metadata": {
  "kernelspec": {
   "display_name": "Python 3 (ipykernel)",
   "language": "python",
   "name": "python3"
  },
  "language_info": {
   "codemirror_mode": {
    "name": "ipython",
    "version": 3
   },
   "file_extension": ".py",
   "mimetype": "text/x-python",
   "name": "python",
   "nbconvert_exporter": "python",
   "pygments_lexer": "ipython3",
   "version": "3.9.12"
  }
 },
 "nbformat": 4,
 "nbformat_minor": 5
}
