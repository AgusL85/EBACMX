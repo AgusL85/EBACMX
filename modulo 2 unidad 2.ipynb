{
 "cells": [
  {
   "cell_type": "code",
   "execution_count": 2,
   "id": "75affed1",
   "metadata": {},
   "outputs": [
    {
     "name": "stdout",
     "output_type": "stream",
     "text": [
      "Agustín Vicente\n"
     ]
    }
   ],
   "source": [
    "nombre=\"Agustín \"\n",
    "nombre2='Vicente'\n",
    "nombre3=nombre+nombre2\n",
    "print(nombre3)"
   ]
  },
  {
   "cell_type": "code",
   "execution_count": 3,
   "id": "2037da1f",
   "metadata": {},
   "outputs": [
    {
     "name": "stdout",
     "output_type": "stream",
     "text": [
      "g\n"
     ]
    }
   ],
   "source": [
    "#para extraer caracteres\n",
    "print(nombre3[1])"
   ]
  },
  {
   "cell_type": "code",
   "execution_count": 4,
   "id": "b329f3dc",
   "metadata": {},
   "outputs": [
    {
     "name": "stdout",
     "output_type": "stream",
     "text": [
      "A\n"
     ]
    }
   ],
   "source": [
    "print(nombre3[0])"
   ]
  },
  {
   "cell_type": "code",
   "execution_count": 5,
   "id": "32229ac8",
   "metadata": {},
   "outputs": [
    {
     "name": "stdout",
     "output_type": "stream",
     "text": [
      "Agustín Vicente\n"
     ]
    }
   ],
   "source": [
    "print(nombre3[0:15])"
   ]
  },
  {
   "cell_type": "code",
   "execution_count": 6,
   "id": "18221186",
   "metadata": {},
   "outputs": [
    {
     "name": "stdout",
     "output_type": "stream",
     "text": [
      "Agustín Vicent\n"
     ]
    }
   ],
   "source": [
    "print(nombre3[0:14])"
   ]
  },
  {
   "cell_type": "code",
   "execution_count": 7,
   "id": "1bde553d",
   "metadata": {},
   "outputs": [
    {
     "name": "stdout",
     "output_type": "stream",
     "text": [
      "Agustín\n"
     ]
    }
   ],
   "source": [
    "print(nombre3[0:7])"
   ]
  },
  {
   "cell_type": "code",
   "execution_count": 8,
   "id": "6e3a8923",
   "metadata": {},
   "outputs": [
    {
     "name": "stdout",
     "output_type": "stream",
     "text": [
      "Agustín Vicente\n"
     ]
    }
   ],
   "source": [
    "print(nombre3[:15])"
   ]
  },
  {
   "cell_type": "code",
   "execution_count": 9,
   "id": "49d08415",
   "metadata": {},
   "outputs": [
    {
     "name": "stdout",
     "output_type": "stream",
     "text": [
      "Agustín\n"
     ]
    }
   ],
   "source": [
    "print(nombre3[:7])"
   ]
  },
  {
   "cell_type": "code",
   "execution_count": 10,
   "id": "5bdab981",
   "metadata": {},
   "outputs": [
    {
     "name": "stdout",
     "output_type": "stream",
     "text": [
      "Agustín Vicente\n"
     ]
    }
   ],
   "source": [
    "print(nombre3[0:])"
   ]
  },
  {
   "cell_type": "code",
   "execution_count": 11,
   "id": "0ed760cc",
   "metadata": {},
   "outputs": [
    {
     "name": "stdout",
     "output_type": "stream",
     "text": [
      "Agustín Vicente\n"
     ]
    }
   ],
   "source": [
    "#imprime toda la cadena\n",
    "print(nombre3[:])"
   ]
  },
  {
   "cell_type": "code",
   "execution_count": 12,
   "id": "9e1fcffe",
   "metadata": {},
   "outputs": [
    {
     "ename": "IndexError",
     "evalue": "string index out of range",
     "output_type": "error",
     "traceback": [
      "\u001b[1;31m---------------------------------------------------------------------------\u001b[0m",
      "\u001b[1;31mIndexError\u001b[0m                                Traceback (most recent call last)",
      "Input \u001b[1;32mIn [12]\u001b[0m, in \u001b[0;36m<cell line: 2>\u001b[1;34m()\u001b[0m\n\u001b[0;32m      1\u001b[0m \u001b[38;5;66;03m#cuando se le pide extraer más caracteres de los que se tienen\u001b[39;00m\n\u001b[1;32m----> 2\u001b[0m \u001b[38;5;28mprint\u001b[39m(\u001b[43mnombre3\u001b[49m\u001b[43m[\u001b[49m\u001b[38;5;241;43m20\u001b[39;49m\u001b[43m]\u001b[49m)\n",
      "\u001b[1;31mIndexError\u001b[0m: string index out of range"
     ]
    }
   ],
   "source": [
    "#cuando se le pide extraer más caracteres de los que se tienen\n",
    "print(nombre3[20])"
   ]
  },
  {
   "cell_type": "code",
   "execution_count": 13,
   "id": "5119dd36",
   "metadata": {},
   "outputs": [
    {
     "name": "stdout",
     "output_type": "stream",
     "text": [
      "15\n"
     ]
    }
   ],
   "source": [
    "#si no sabemos cuántos caracteres tiene una cadena\n",
    "print(len(nombre3))"
   ]
  },
  {
   "cell_type": "code",
   "execution_count": 14,
   "id": "fb2a999f",
   "metadata": {},
   "outputs": [
    {
     "name": "stdout",
     "output_type": "stream",
     "text": [
      "agustín vicente\n"
     ]
    }
   ],
   "source": [
    "#combinacion mayúsculas y minúsculas\n",
    "print(nombre3.lower())"
   ]
  },
  {
   "cell_type": "code",
   "execution_count": 15,
   "id": "0752c8c3",
   "metadata": {},
   "outputs": [
    {
     "name": "stdout",
     "output_type": "stream",
     "text": [
      "AGUSTÍN VICENTE\n"
     ]
    }
   ],
   "source": [
    "print(nombre3.upper())"
   ]
  },
  {
   "cell_type": "code",
   "execution_count": 17,
   "id": "b095108f",
   "metadata": {},
   "outputs": [
    {
     "data": {
      "text/plain": [
       "['__add__',\n",
       " '__class__',\n",
       " '__contains__',\n",
       " '__delattr__',\n",
       " '__dir__',\n",
       " '__doc__',\n",
       " '__eq__',\n",
       " '__format__',\n",
       " '__ge__',\n",
       " '__getattribute__',\n",
       " '__getitem__',\n",
       " '__getnewargs__',\n",
       " '__gt__',\n",
       " '__hash__',\n",
       " '__init__',\n",
       " '__init_subclass__',\n",
       " '__iter__',\n",
       " '__le__',\n",
       " '__len__',\n",
       " '__lt__',\n",
       " '__mod__',\n",
       " '__mul__',\n",
       " '__ne__',\n",
       " '__new__',\n",
       " '__reduce__',\n",
       " '__reduce_ex__',\n",
       " '__repr__',\n",
       " '__rmod__',\n",
       " '__rmul__',\n",
       " '__setattr__',\n",
       " '__sizeof__',\n",
       " '__str__',\n",
       " '__subclasshook__',\n",
       " 'capitalize',\n",
       " 'casefold',\n",
       " 'center',\n",
       " 'count',\n",
       " 'encode',\n",
       " 'endswith',\n",
       " 'expandtabs',\n",
       " 'find',\n",
       " 'format',\n",
       " 'format_map',\n",
       " 'index',\n",
       " 'isalnum',\n",
       " 'isalpha',\n",
       " 'isascii',\n",
       " 'isdecimal',\n",
       " 'isdigit',\n",
       " 'isidentifier',\n",
       " 'islower',\n",
       " 'isnumeric',\n",
       " 'isprintable',\n",
       " 'isspace',\n",
       " 'istitle',\n",
       " 'isupper',\n",
       " 'join',\n",
       " 'ljust',\n",
       " 'lower',\n",
       " 'lstrip',\n",
       " 'maketrans',\n",
       " 'partition',\n",
       " 'removeprefix',\n",
       " 'removesuffix',\n",
       " 'replace',\n",
       " 'rfind',\n",
       " 'rindex',\n",
       " 'rjust',\n",
       " 'rpartition',\n",
       " 'rsplit',\n",
       " 'rstrip',\n",
       " 'split',\n",
       " 'splitlines',\n",
       " 'startswith',\n",
       " 'strip',\n",
       " 'swapcase',\n",
       " 'title',\n",
       " 'translate',\n",
       " 'upper',\n",
       " 'zfill']"
      ]
     },
     "execution_count": 17,
     "metadata": {},
     "output_type": "execute_result"
    }
   ],
   "source": [
    "#para saber que funciones se pueden aplicar a una variable\n",
    "dir(nombre3)"
   ]
  },
  {
   "cell_type": "code",
   "execution_count": 18,
   "id": "b040e638",
   "metadata": {},
   "outputs": [
    {
     "name": "stdout",
     "output_type": "stream",
     "text": [
      "Hola amiga\n"
     ]
    }
   ],
   "source": [
    "#para hacer un reemplazo\n",
    "texto=\"Hola amigo\"\n",
    "textomodif=texto.replace(\"amigo\",\"amiga\")\n",
    "print(textomodif)"
   ]
  },
  {
   "cell_type": "code",
   "execution_count": 20,
   "id": "fa4bf8d3",
   "metadata": {},
   "outputs": [
    {
     "data": {
      "text/plain": [
       "'Hola amigo '"
      ]
     },
     "execution_count": 20,
     "metadata": {},
     "output_type": "execute_result"
    }
   ],
   "source": [
    "#para quitar elementos no deseados (i.e. espacios)\n",
    "texto=\"   Hola amigo \"\n",
    "texto.lstrip()"
   ]
  },
  {
   "cell_type": "code",
   "execution_count": 21,
   "id": "14b441ed",
   "metadata": {},
   "outputs": [
    {
     "data": {
      "text/plain": [
       "'   Hola amigo'"
      ]
     },
     "execution_count": 21,
     "metadata": {},
     "output_type": "execute_result"
    }
   ],
   "source": [
    "texto=\"   Hola amigo \"\n",
    "texto.rstrip()"
   ]
  },
  {
   "cell_type": "code",
   "execution_count": 22,
   "id": "864aba91",
   "metadata": {},
   "outputs": [
    {
     "data": {
      "text/plain": [
       "'Hola amigo'"
      ]
     },
     "execution_count": 22,
     "metadata": {},
     "output_type": "execute_result"
    }
   ],
   "source": [
    "texto=\"   Hola amigo \"\n",
    "texto.strip()"
   ]
  },
  {
   "cell_type": "code",
   "execution_count": null,
   "id": "aece448a",
   "metadata": {},
   "outputs": [],
   "source": []
  }
 ],
 "metadata": {
  "kernelspec": {
   "display_name": "Python 3 (ipykernel)",
   "language": "python",
   "name": "python3"
  },
  "language_info": {
   "codemirror_mode": {
    "name": "ipython",
    "version": 3
   },
   "file_extension": ".py",
   "mimetype": "text/x-python",
   "name": "python",
   "nbconvert_exporter": "python",
   "pygments_lexer": "ipython3",
   "version": "3.9.12"
  }
 },
 "nbformat": 4,
 "nbformat_minor": 5
}
