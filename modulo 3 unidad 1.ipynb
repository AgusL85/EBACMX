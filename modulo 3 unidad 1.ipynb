{
 "cells": [
  {
   "cell_type": "code",
   "execution_count": 1,
   "id": "3d3ecc3f",
   "metadata": {},
   "outputs": [],
   "source": [
    "a=-5\n",
    "b=4"
   ]
  },
  {
   "cell_type": "code",
   "execution_count": 2,
   "id": "3c7f8b0e",
   "metadata": {},
   "outputs": [
    {
     "data": {
      "text/plain": [
       "True"
      ]
     },
     "execution_count": 2,
     "metadata": {},
     "output_type": "execute_result"
    }
   ],
   "source": [
    "# ¿el valor de a es menor a cero?\n",
    "a<0"
   ]
  },
  {
   "cell_type": "code",
   "execution_count": 3,
   "id": "a1dcd582",
   "metadata": {},
   "outputs": [
    {
     "data": {
      "text/plain": [
       "False"
      ]
     },
     "execution_count": 3,
     "metadata": {},
     "output_type": "execute_result"
    }
   ],
   "source": [
    "# ¿el valor de a es mayor o igual a cero?\n",
    "a>=0"
   ]
  },
  {
   "cell_type": "code",
   "execution_count": 4,
   "id": "8542aa23",
   "metadata": {},
   "outputs": [
    {
     "data": {
      "text/plain": [
       "True"
      ]
     },
     "execution_count": 4,
     "metadata": {},
     "output_type": "execute_result"
    }
   ],
   "source": [
    "#¿el valor de a es igual a menos 5?\n",
    "a==-5"
   ]
  },
  {
   "cell_type": "code",
   "execution_count": 7,
   "id": "8a949a6d",
   "metadata": {},
   "outputs": [
    {
     "data": {
      "text/plain": [
       "False"
      ]
     },
     "execution_count": 7,
     "metadata": {},
     "output_type": "execute_result"
    }
   ],
   "source": [
    "#¿Es el valor de a distinto a menos 5?\n",
    "a!= -5"
   ]
  },
  {
   "cell_type": "markdown",
   "id": "6a7d05d1",
   "metadata": {},
   "source": [
    "## TABLAS DE VERDAD"
   ]
  },
  {
   "cell_type": "markdown",
   "id": "80435e2d",
   "metadata": {},
   "source": [
    "### Manejo de CONJUNCIONES (AND)\n"
   ]
  },
  {
   "cell_type": "code",
   "execution_count": 8,
   "id": "c15683cc",
   "metadata": {},
   "outputs": [],
   "source": [
    "a=-5\n",
    "b=4"
   ]
  },
  {
   "cell_type": "code",
   "execution_count": 9,
   "id": "03d7682b",
   "metadata": {},
   "outputs": [
    {
     "data": {
      "text/plain": [
       "True"
      ]
     },
     "execution_count": 9,
     "metadata": {},
     "output_type": "execute_result"
    }
   ],
   "source": [
    "a<0 and b>0 #verdadero y verdadero"
   ]
  },
  {
   "cell_type": "code",
   "execution_count": 10,
   "id": "8bd27c11",
   "metadata": {},
   "outputs": [
    {
     "data": {
      "text/plain": [
       "False"
      ]
     },
     "execution_count": 10,
     "metadata": {},
     "output_type": "execute_result"
    }
   ],
   "source": [
    "a>0 and b>0 #falso y verdadero"
   ]
  },
  {
   "cell_type": "code",
   "execution_count": 11,
   "id": "04a98365",
   "metadata": {},
   "outputs": [
    {
     "data": {
      "text/plain": [
       "False"
      ]
     },
     "execution_count": 11,
     "metadata": {},
     "output_type": "execute_result"
    }
   ],
   "source": [
    "a<0 and b<0 #verdadero y falso"
   ]
  },
  {
   "cell_type": "code",
   "execution_count": 13,
   "id": "481385a9",
   "metadata": {},
   "outputs": [
    {
     "data": {
      "text/plain": [
       "False"
      ]
     },
     "execution_count": 13,
     "metadata": {},
     "output_type": "execute_result"
    }
   ],
   "source": [
    "a>0 and b<0 #falso y falso"
   ]
  },
  {
   "cell_type": "markdown",
   "id": "f28657c9",
   "metadata": {},
   "source": [
    "### Manejo de DISYUNCIONES (OR)"
   ]
  },
  {
   "cell_type": "code",
   "execution_count": 14,
   "id": "6fbea538",
   "metadata": {},
   "outputs": [],
   "source": [
    "a=-5\n",
    "b=4"
   ]
  },
  {
   "cell_type": "code",
   "execution_count": 15,
   "id": "07cdcc0f",
   "metadata": {},
   "outputs": [
    {
     "data": {
      "text/plain": [
       "True"
      ]
     },
     "execution_count": 15,
     "metadata": {},
     "output_type": "execute_result"
    }
   ],
   "source": [
    "a<0 or b>0 #verdadero o verdadero"
   ]
  },
  {
   "cell_type": "code",
   "execution_count": 16,
   "id": "17d61c05",
   "metadata": {},
   "outputs": [
    {
     "data": {
      "text/plain": [
       "True"
      ]
     },
     "execution_count": 16,
     "metadata": {},
     "output_type": "execute_result"
    }
   ],
   "source": [
    "a>0 or b>0 #falso o verdadero"
   ]
  },
  {
   "cell_type": "code",
   "execution_count": 17,
   "id": "1a30fefc",
   "metadata": {},
   "outputs": [
    {
     "data": {
      "text/plain": [
       "True"
      ]
     },
     "execution_count": 17,
     "metadata": {},
     "output_type": "execute_result"
    }
   ],
   "source": [
    "a<0 or b<0 #verdadero o falso"
   ]
  },
  {
   "cell_type": "code",
   "execution_count": 19,
   "id": "791774e0",
   "metadata": {},
   "outputs": [
    {
     "data": {
      "text/plain": [
       "False"
      ]
     },
     "execution_count": 19,
     "metadata": {},
     "output_type": "execute_result"
    }
   ],
   "source": [
    "a>0 or b<0 #falso o falso"
   ]
  },
  {
   "cell_type": "markdown",
   "id": "886aea3a",
   "metadata": {},
   "source": [
    "## El operador de NEGACIÓN (NOT)"
   ]
  },
  {
   "cell_type": "code",
   "execution_count": 20,
   "id": "57e8dd79",
   "metadata": {},
   "outputs": [],
   "source": [
    "a=-5\n",
    "b=4"
   ]
  },
  {
   "cell_type": "code",
   "execution_count": 21,
   "id": "87698e42",
   "metadata": {},
   "outputs": [
    {
     "data": {
      "text/plain": [
       "True"
      ]
     },
     "execution_count": 21,
     "metadata": {},
     "output_type": "execute_result"
    }
   ],
   "source": [
    "not a>0 #negación de falso"
   ]
  },
  {
   "cell_type": "markdown",
   "id": "9dd81125",
   "metadata": {},
   "source": [
    "## El operador de DISYUNCIÓN OPUESTA NOT (NOT OR)"
   ]
  },
  {
   "cell_type": "code",
   "execution_count": 22,
   "id": "4153dbe3",
   "metadata": {},
   "outputs": [],
   "source": [
    "a=-5\n",
    "b=4"
   ]
  },
  {
   "cell_type": "code",
   "execution_count": 23,
   "id": "50e817f6",
   "metadata": {},
   "outputs": [
    {
     "data": {
      "text/plain": [
       "False"
      ]
     },
     "execution_count": 23,
     "metadata": {},
     "output_type": "execute_result"
    }
   ],
   "source": [
    "not(a<0 or b>0)"
   ]
  },
  {
   "cell_type": "code",
   "execution_count": 26,
   "id": "25a04abb",
   "metadata": {},
   "outputs": [
    {
     "data": {
      "text/plain": [
       "True"
      ]
     },
     "execution_count": 26,
     "metadata": {},
     "output_type": "execute_result"
    }
   ],
   "source": [
    "not (a>0 or b<0) #es verdadero porque ni a es positivo y ni b es negativo, por lo que esa expresión se hace falsa, por lo tanto\n",
    "                #la negación se hace verdadera"
   ]
  },
  {
   "cell_type": "markdown",
   "id": "72fdc5df",
   "metadata": {},
   "source": [
    "## Casos especiales"
   ]
  },
  {
   "cell_type": "code",
   "execution_count": 27,
   "id": "59f6a1f4",
   "metadata": {},
   "outputs": [],
   "source": [
    "a=-5\n",
    "b=4"
   ]
  },
  {
   "cell_type": "code",
   "execution_count": 28,
   "id": "14945c9b",
   "metadata": {},
   "outputs": [
    {
     "data": {
      "text/plain": [
       "False"
      ]
     },
     "execution_count": 28,
     "metadata": {},
     "output_type": "execute_result"
    }
   ],
   "source": [
    "a+=5 # es el equivalente de a:a=a+5\n",
    "a<0"
   ]
  },
  {
   "cell_type": "code",
   "execution_count": 29,
   "id": "16b68e09",
   "metadata": {},
   "outputs": [
    {
     "data": {
      "text/plain": [
       "0"
      ]
     },
     "execution_count": 29,
     "metadata": {},
     "output_type": "execute_result"
    }
   ],
   "source": [
    "a"
   ]
  },
  {
   "cell_type": "code",
   "execution_count": 30,
   "id": "033eee7a",
   "metadata": {},
   "outputs": [
    {
     "data": {
      "text/plain": [
       "1"
      ]
     },
     "execution_count": 30,
     "metadata": {},
     "output_type": "execute_result"
    }
   ],
   "source": [
    "b%=3 #es el equivalente a: b=b%3\n",
    "b"
   ]
  },
  {
   "cell_type": "code",
   "execution_count": 33,
   "id": "f725c18d",
   "metadata": {},
   "outputs": [
    {
     "data": {
      "text/plain": [
       "2"
      ]
     },
     "execution_count": 33,
     "metadata": {},
     "output_type": "execute_result"
    }
   ],
   "source": [
    "c=5\n",
    "c//=2 #equivale a tomar la parte entera de la división de 5 entre 2\n",
    "c"
   ]
  },
  {
   "cell_type": "code",
   "execution_count": 35,
   "id": "92a37972",
   "metadata": {},
   "outputs": [
    {
     "data": {
      "text/plain": [
       "False"
      ]
     },
     "execution_count": 35,
     "metadata": {},
     "output_type": "execute_result"
    }
   ],
   "source": [
    "a=4\n",
    "b=5\n",
    "a is b"
   ]
  },
  {
   "cell_type": "code",
   "execution_count": 36,
   "id": "29d82669",
   "metadata": {},
   "outputs": [
    {
     "data": {
      "text/plain": [
       "True"
      ]
     },
     "execution_count": 36,
     "metadata": {},
     "output_type": "execute_result"
    }
   ],
   "source": [
    "a is not b"
   ]
  },
  {
   "cell_type": "code",
   "execution_count": 37,
   "id": "7fd80f72",
   "metadata": {},
   "outputs": [
    {
     "data": {
      "text/plain": [
       "True"
      ]
     },
     "execution_count": 37,
     "metadata": {},
     "output_type": "execute_result"
    }
   ],
   "source": [
    "texto1=\"Hola\"\n",
    "texto2=\"Hola\"\n",
    "texto3=\"hola\"\n",
    "texto1 is texto2"
   ]
  },
  {
   "cell_type": "code",
   "execution_count": 38,
   "id": "35865e39",
   "metadata": {},
   "outputs": [
    {
     "data": {
      "text/plain": [
       "False"
      ]
     },
     "execution_count": 38,
     "metadata": {},
     "output_type": "execute_result"
    }
   ],
   "source": [
    "texto1 is texto3 #Phyton distingue claramente entre mayúsculas y minúsculasa="
   ]
  },
  {
   "cell_type": "code",
   "execution_count": 39,
   "id": "b8bc7a3c",
   "metadata": {},
   "outputs": [],
   "source": [
    "a=[1,2,3,4,5]"
   ]
  },
  {
   "cell_type": "code",
   "execution_count": 40,
   "id": "1d62fa0e",
   "metadata": {},
   "outputs": [
    {
     "data": {
      "text/plain": [
       "True"
      ]
     },
     "execution_count": 40,
     "metadata": {},
     "output_type": "execute_result"
    }
   ],
   "source": [
    "3 in a #es equivalente a checar si el valor de 3 está en la lista"
   ]
  },
  {
   "cell_type": "code",
   "execution_count": 41,
   "id": "408a871c",
   "metadata": {},
   "outputs": [
    {
     "data": {
      "text/plain": [
       "False"
      ]
     },
     "execution_count": 41,
     "metadata": {},
     "output_type": "execute_result"
    }
   ],
   "source": [
    "7 in a"
   ]
  },
  {
   "cell_type": "code",
   "execution_count": 42,
   "id": "a13e9a6b",
   "metadata": {},
   "outputs": [],
   "source": [
    "texto=\"Hola mundo\""
   ]
  },
  {
   "cell_type": "code",
   "execution_count": 44,
   "id": "8d7509ba",
   "metadata": {},
   "outputs": [
    {
     "data": {
      "text/plain": [
       "True"
      ]
     },
     "execution_count": 44,
     "metadata": {},
     "output_type": "execute_result"
    }
   ],
   "source": [
    "\"Hola\" in texto"
   ]
  },
  {
   "cell_type": "code",
   "execution_count": 45,
   "id": "12bdf61d",
   "metadata": {},
   "outputs": [
    {
     "data": {
      "text/plain": [
       "False"
      ]
     },
     "execution_count": 45,
     "metadata": {},
     "output_type": "execute_result"
    }
   ],
   "source": [
    "\"hola\" in texto"
   ]
  }
 ],
 "metadata": {
  "kernelspec": {
   "display_name": "Python 3 (ipykernel)",
   "language": "python",
   "name": "python3"
  },
  "language_info": {
   "codemirror_mode": {
    "name": "ipython",
    "version": 3
   },
   "file_extension": ".py",
   "mimetype": "text/x-python",
   "name": "python",
   "nbconvert_exporter": "python",
   "pygments_lexer": "ipython3",
   "version": "3.9.12"
  }
 },
 "nbformat": 4,
 "nbformat_minor": 5
}
