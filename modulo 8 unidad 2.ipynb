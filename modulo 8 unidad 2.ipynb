{
 "cells": [
  {
   "cell_type": "code",
   "execution_count": 1,
   "id": "2531ac30",
   "metadata": {},
   "outputs": [],
   "source": [
    "# Ejercicio\n",
    "# Considere los datos siguientes, que corresponden a estadísticas de accidentes en una empresa para tres áreas durante cuatro\n",
    "# años: ver PPT\n",
    "\n",
    "import numpy as np\n",
    "accidentes = np.array ([[0,1,1],\n",
    "                      [1,0,1],\n",
    "                      [1,3,2],\n",
    "                      [2,2,0]])"
   ]
  },
  {
   "cell_type": "code",
   "execution_count": 2,
   "id": "11e823e9",
   "metadata": {},
   "outputs": [
    {
     "data": {
      "text/plain": [
       "14"
      ]
     },
     "execution_count": 2,
     "metadata": {},
     "output_type": "execute_result"
    }
   ],
   "source": [
    "# Problema 1: Mediante el uso de un arreglo de NumPy determine:\n",
    " # a) El número total de accidentes durante los cuatro años\n",
    "    \n",
    "accidentes.sum()"
   ]
  },
  {
   "cell_type": "code",
   "execution_count": 3,
   "id": "39a8790d",
   "metadata": {},
   "outputs": [
    {
     "data": {
      "text/plain": [
       "array([4, 6, 4])"
      ]
     },
     "execution_count": 3,
     "metadata": {},
     "output_type": "execute_result"
    }
   ],
   "source": [
    "# Problema 2: El número total de accidentes por área (por columna)\n",
    "\n",
    "accide_areas = accidentes.sum(axis=0)\n",
    "accide_areas"
   ]
  },
  {
   "cell_type": "code",
   "execution_count": 4,
   "id": "719358b5",
   "metadata": {},
   "outputs": [
    {
     "name": "stdout",
     "output_type": "stream",
     "text": [
      "Los accidentes del área 1:  4\n",
      "Los accidentes del área 2:  6\n",
      "Los accidentes del área 3:  4\n"
     ]
    }
   ],
   "source": [
    "# Resultados mejor presentados\n",
    "print (\"Los accidentes del área 1: \", accide_areas[0])\n",
    "print (\"Los accidentes del área 2: \", accide_areas[1])\n",
    "print (\"Los accidentes del área 3: \", accide_areas[2])"
   ]
  },
  {
   "cell_type": "code",
   "execution_count": 5,
   "id": "f6f2cf7f",
   "metadata": {},
   "outputs": [
    {
     "data": {
      "text/plain": [
       "array([2, 2, 6, 4])"
      ]
     },
     "execution_count": 5,
     "metadata": {},
     "output_type": "execute_result"
    }
   ],
   "source": [
    "# Problema 3: El número total de accidentes por año (por renglón)\n",
    "\n",
    "accid_anios = accidentes.sum(axis=1)\n",
    "accid_anios"
   ]
  },
  {
   "cell_type": "code",
   "execution_count": 6,
   "id": "cd23e768",
   "metadata": {},
   "outputs": [
    {
     "data": {
      "text/plain": [
       "array([[2],\n",
       "       [2],\n",
       "       [6],\n",
       "       [4]])"
      ]
     },
     "execution_count": 6,
     "metadata": {},
     "output_type": "execute_result"
    }
   ],
   "source": [
    "# conservación de dimensiones (mantener la misma orientación)\n",
    "\n",
    "accid_anios = accidentes.sum(axis=1, keepdims= True)\n",
    "accid_anios"
   ]
  },
  {
   "cell_type": "code",
   "execution_count": 7,
   "id": "69f8f610",
   "metadata": {},
   "outputs": [
    {
     "name": "stdout",
     "output_type": "stream",
     "text": [
      "Los accidentes del año 1 [2]\n",
      "Los accidentes del año 2 [2]\n",
      "Los accidentes del año 3 [6]\n",
      "Los accidentes del año 4 [4]\n"
     ]
    }
   ],
   "source": [
    "print (\"Los accidentes del año 1\", accid_anios[0])\n",
    "print (\"Los accidentes del año 2\", accid_anios[1])\n",
    "print (\"Los accidentes del año 3\", accid_anios[2])\n",
    "print (\"Los accidentes del año 4\", accid_anios[3])"
   ]
  },
  {
   "cell_type": "code",
   "execution_count": 8,
   "id": "fa16a489",
   "metadata": {},
   "outputs": [
    {
     "name": "stdout",
     "output_type": "stream",
     "text": [
      "Máximo de accidentes: 3\n",
      "Mínimo de accidentes: 0\n"
     ]
    }
   ],
   "source": [
    "# problema 4: El número máximo y mínimo de accidentes por área y año\n",
    "\n",
    "maximo = accidentes.max()\n",
    "minimo = accidentes.min()\n",
    "print(f\"Máximo de accidentes: {maximo}\")\n",
    "print(f\"Mínimo de accidentes: {minimo}\")"
   ]
  },
  {
   "cell_type": "code",
   "execution_count": 9,
   "id": "b69f55aa",
   "metadata": {},
   "outputs": [
    {
     "name": "stdout",
     "output_type": "stream",
     "text": [
      "Promedio de accidentes: 1.1666666666666667 \n"
     ]
    }
   ],
   "source": [
    "# Problema 5: El número promedio de accidentes por área y año\n",
    "promedio = accidentes.mean()\n",
    "print(f\"Promedio de accidentes: {promedio} \")"
   ]
  },
  {
   "cell_type": "code",
   "execution_count": 2,
   "id": "d8150619",
   "metadata": {},
   "outputs": [
    {
     "name": "stdout",
     "output_type": "stream",
     "text": [
      "2\n",
      "3\n",
      "1\n"
     ]
    }
   ],
   "source": [
    "# Determine la suma descrita en la imagen de abajo mediante:\n",
    " # a) Un ciclo en Python\n",
    " # b) Una función vectorizada de NumPy : ver PPT\n",
    "\n",
    "arreglo = np.array([[1,2,3],\n",
    "                   [4,5,6]])\n",
    "dimensiones = arreglo.shape\n",
    "print(dimensiones[0]) # de renglones\n",
    "print(dimensiones[1]) # de columnas\n",
    "print (arreglo [0][0])"
   ]
  },
  {
   "cell_type": "code",
   "execution_count": 6,
   "id": "33da88db",
   "metadata": {},
   "outputs": [
    {
     "name": "stdout",
     "output_type": "stream",
     "text": [
      "[[4. 5. 6.]\n",
      " [7. 8. 9.]]\n",
      "Tiempo total de ejecución (segs.) 0.0010025501251220703\n"
     ]
    }
   ],
   "source": [
    " # a) Un ciclo en Python\n",
    "import time\n",
    "inicio = time.time()\n",
    "\n",
    "arreglo_final = np.zeros((2,3))\n",
    "for renglon in range (dimensiones[0]):\n",
    "    for columna in range (dimensiones [1]):\n",
    "        arreglo_final[renglon][columna] = arreglo [renglon] [columna] + 3\n",
    "print(arreglo_final)\n",
    "\n",
    "fin = time.time()\n",
    "print (\"Tiempo total de ejecución (segs.)\", fin -inicio)"
   ]
  },
  {
   "cell_type": "code",
   "execution_count": 7,
   "id": "a7a90da3",
   "metadata": {},
   "outputs": [
    {
     "name": "stdout",
     "output_type": "stream",
     "text": [
      "[[4 5 6]\n",
      " [7 8 9]]\n",
      "Tiempo total de ejecución (segs.) 0.001001119613647461\n"
     ]
    }
   ],
   "source": [
    " # b) Una función vectorizada de NumPy\n",
    "\n",
    "import time\n",
    "inicio = time.time()\n",
    "\n",
    "arreglo_final = arreglo + 3\n",
    "print(arreglo_final)\n",
    "\n",
    "fin = time.time()\n",
    "print (\"Tiempo total de ejecución (segs.)\", fin -inicio) # el tiempo es menor cuando se usa una función vectorizada\n",
    "    "
   ]
  },
  {
   "cell_type": "code",
   "execution_count": 8,
   "id": "11e720bb",
   "metadata": {},
   "outputs": [
    {
     "data": {
      "text/plain": [
       "array([[ 3,  6,  9],\n",
       "       [12, 15, 18]])"
      ]
     },
     "execution_count": 8,
     "metadata": {},
     "output_type": "execute_result"
    }
   ],
   "source": [
    "# Broadcasting de un escalar\n",
    "\n",
    "arreglo_prod= arreglo*3\n",
    "arreglo_prod"
   ]
  },
  {
   "cell_type": "code",
   "execution_count": 9,
   "id": "00174edc",
   "metadata": {},
   "outputs": [
    {
     "data": {
      "text/plain": [
       "array([[False, False,  True],\n",
       "       [ True,  True,  True]])"
      ]
     },
     "execution_count": 9,
     "metadata": {},
     "output_type": "execute_result"
    }
   ],
   "source": [
    "# evaluación de condiciones\n",
    "arreglo1= np.array([[1,2,3],\n",
    "                   [4,5,6]])\n",
    "arreglo>2"
   ]
  },
  {
   "cell_type": "code",
   "execution_count": 10,
   "id": "306dfb25",
   "metadata": {},
   "outputs": [
    {
     "data": {
      "text/plain": [
       "False"
      ]
     },
     "execution_count": 10,
     "metadata": {},
     "output_type": "execute_result"
    }
   ],
   "source": [
    "# las funciones de Python no están vectorizadas de origen\n",
    "arreglo= np.array([\"NumPy\", \"Maneja\", \"vectorización\"])\n",
    "len(arreglo)>5"
   ]
  },
  {
   "cell_type": "code",
   "execution_count": 11,
   "id": "de4aeb6f",
   "metadata": {},
   "outputs": [
    {
     "data": {
      "text/plain": [
       "array([False,  True,  True])"
      ]
     },
     "execution_count": 11,
     "metadata": {},
     "output_type": "execute_result"
    }
   ],
   "source": [
    "# Transformación para vectorización de función len\n",
    "len_vectorizada= np.vectorize(len)\n",
    "len_vectorizada(arreglo) > 5"
   ]
  },
  {
   "cell_type": "code",
   "execution_count": 12,
   "id": "56e4af07",
   "metadata": {},
   "outputs": [
    {
     "data": {
      "text/plain": [
       "array([[0, 1, 2, 3, 4],\n",
       "       [5, 6, 7, 8, 9]])"
      ]
     },
     "execution_count": 12,
     "metadata": {},
     "output_type": "execute_result"
    }
   ],
   "source": [
    "# Broadcasting de renglones\n",
    "arreglo = np.arange(10).reshape((2,5))\n",
    "arreglo"
   ]
  },
  {
   "cell_type": "code",
   "execution_count": 13,
   "id": "d85a5b1b",
   "metadata": {},
   "outputs": [
    {
     "data": {
      "text/plain": [
       "array([[ 0,  2,  4,  6,  8],\n",
       "       [ 5,  7,  9, 11, 13]])"
      ]
     },
     "execution_count": 13,
     "metadata": {},
     "output_type": "execute_result"
    }
   ],
   "source": [
    "arreglo + np.array([0,1,2,3,4])"
   ]
  },
  {
   "cell_type": "code",
   "execution_count": 15,
   "id": "3877b91c",
   "metadata": {},
   "outputs": [
    {
     "data": {
      "text/plain": [
       "array([[ 0,  1,  2,  3,  4],\n",
       "       [ 6,  7,  8,  9, 10]])"
      ]
     },
     "execution_count": 15,
     "metadata": {},
     "output_type": "execute_result"
    }
   ],
   "source": [
    "# Broadcasting de columnas\n",
    "arreglo = np.arange(10).reshape((2,5))\n",
    "arreglo + np.array([0,1]).reshape((2,1))"
   ]
  },
  {
   "cell_type": "code",
   "execution_count": 16,
   "id": "bc929e63",
   "metadata": {},
   "outputs": [
    {
     "ename": "ValueError",
     "evalue": "operands could not be broadcast together with shapes (2,5) (2,) ",
     "output_type": "error",
     "traceback": [
      "\u001b[1;31m---------------------------------------------------------------------------\u001b[0m",
      "\u001b[1;31mValueError\u001b[0m                                Traceback (most recent call last)",
      "Input \u001b[1;32mIn [16]\u001b[0m, in \u001b[0;36m<cell line: 1>\u001b[1;34m()\u001b[0m\n\u001b[1;32m----> 1\u001b[0m \u001b[43marreglo\u001b[49m\u001b[43m \u001b[49m\u001b[38;5;241;43m+\u001b[39;49m\u001b[43m \u001b[49m\u001b[43mnp\u001b[49m\u001b[38;5;241;43m.\u001b[39;49m\u001b[43marray\u001b[49m\u001b[43m(\u001b[49m\u001b[43m[\u001b[49m\u001b[38;5;241;43m0\u001b[39;49m\u001b[43m,\u001b[49m\u001b[38;5;241;43m1\u001b[39;49m\u001b[43m]\u001b[49m\u001b[43m)\u001b[49m\n",
      "\u001b[1;31mValueError\u001b[0m: operands could not be broadcast together with shapes (2,5) (2,) "
     ]
    }
   ],
   "source": [
    "arreglo + np.array([0,1])"
   ]
  },
  {
   "cell_type": "code",
   "execution_count": 18,
   "id": "962414da",
   "metadata": {},
   "outputs": [
    {
     "data": {
      "text/plain": [
       "array([[4.3, 4.2, 4.1],\n",
       "       [2.3, 2.2, 2.1],\n",
       "       [1.3, 1.2, 1.1]])"
      ]
     },
     "execution_count": 18,
     "metadata": {},
     "output_type": "execute_result"
    }
   ],
   "source": [
    "# Volteo a un arreglo\n",
    "arreglo = np.array([[1.1,1.2,1.3],\n",
    "                   [2.1,2.2,2.3],\n",
    "                   [4.1,4.2,4.3]])\n",
    "np.flip(arreglo)"
   ]
  },
  {
   "cell_type": "code",
   "execution_count": 19,
   "id": "c7845ed5",
   "metadata": {},
   "outputs": [
    {
     "data": {
      "text/plain": [
       "array([[1.1, 2.1, 4.1],\n",
       "       [1.2, 2.2, 4.2],\n",
       "       [1.3, 2.3, 4.3]])"
      ]
     },
     "execution_count": 19,
     "metadata": {},
     "output_type": "execute_result"
    }
   ],
   "source": [
    "# Transposición de un arreglo\n",
    "arreglo = np.array([[1.1,1.2,1.3],\n",
    "                   [2.1,2.2,2.3],\n",
    "                   [4.1,4.2,4.3]])\n",
    "np.transpose(arreglo)"
   ]
  },
  {
   "cell_type": "code",
   "execution_count": 20,
   "id": "9cc12537",
   "metadata": {},
   "outputs": [
    {
     "data": {
      "text/plain": [
       "array([[ 5, 10],\n",
       "       [30, 40]])"
      ]
     },
     "execution_count": 20,
     "metadata": {},
     "output_type": "execute_result"
    }
   ],
   "source": [
    "# ejercicio \n",
    "\n",
    "# Implemente las siguientes operaciones en Python con NumPy. ¿Qué tipo de operación de “Broadcasting” se está realizando en\n",
    "# cada caso?\n",
    "\n",
    "# operación 1\n",
    "np.array([[1,2], [3,4]]) * np.array([[5] , [10]])"
   ]
  },
  {
   "cell_type": "code",
   "execution_count": 21,
   "id": "09e14fef",
   "metadata": {},
   "outputs": [
    {
     "data": {
      "text/plain": [
       "array([[-4, -8],\n",
       "       [-2, -6]])"
      ]
     },
     "execution_count": 21,
     "metadata": {},
     "output_type": "execute_result"
    }
   ],
   "source": [
    "# operación 2\n",
    "np.array([[1,2], [3,4]]) - np.array([[5, 10]])"
   ]
  },
  {
   "cell_type": "code",
   "execution_count": null,
   "id": "8d682167",
   "metadata": {},
   "outputs": [],
   "source": []
  }
 ],
 "metadata": {
  "kernelspec": {
   "display_name": "Python 3 (ipykernel)",
   "language": "python",
   "name": "python3"
  },
  "language_info": {
   "codemirror_mode": {
    "name": "ipython",
    "version": 3
   },
   "file_extension": ".py",
   "mimetype": "text/x-python",
   "name": "python",
   "nbconvert_exporter": "python",
   "pygments_lexer": "ipython3",
   "version": "3.9.12"
  }
 },
 "nbformat": 4,
 "nbformat_minor": 5
}
